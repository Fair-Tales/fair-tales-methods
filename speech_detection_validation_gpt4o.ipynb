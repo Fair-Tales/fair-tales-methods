{
 "cells": [
  {
   "cell_type": "markdown",
   "metadata": {},
   "source": [
    "### Validation of speech detection by GPT4o.\n",
    "\n",
    "This notebook tests the performance of our pipeline in identifying sentences that contain sections of direct speech."
   ]
  },
  {
   "cell_type": "markdown",
   "metadata": {},
   "source": [
    "#### For each sentence we want to know:\n",
    "* is it direct speech\n",
    "* is it indirect speech\n",
    "* is it contained in the GPT4o-identified speech sections for this book\n",
    "* is it junk (i.e. non-sentence text introduced by pdfplumber)  "
   ]
  },
  {
   "cell_type": "code",
   "execution_count": 1,
   "metadata": {},
   "outputs": [],
   "source": [
    "VALIDATION_RUN_NAME = 'CM_SPEECH_DETECTION_VALIDATION_NEWRUN_190924'"
   ]
  },
  {
   "cell_type": "code",
   "execution_count": 2,
   "metadata": {},
   "outputs": [],
   "source": [
    "import pandas as pd\n",
    "import json\n",
    "import spacy\n",
    "import pickle\n",
    "import string\n",
    "\n",
    "from IPython.display import display, Markdown, clear_output\n",
    "from ipywidgets.widgets import Button, Layout, ButtonStyle, GridBox\n",
    "from ipywidgets import widgets\n",
    "from random import randint"
   ]
  },
  {
   "cell_type": "code",
   "execution_count": 3,
   "metadata": {},
   "outputs": [],
   "source": [
    "nlp = spacy.load(\"en_core_web_lg\")"
   ]
  },
  {
   "cell_type": "code",
   "execution_count": 4,
   "metadata": {},
   "outputs": [],
   "source": [
    "with open('data/tempdf.pickle', 'rb') as outfile:\n",
    "    df = pickle.load(outfile)"
   ]
  },
  {
   "cell_type": "code",
   "execution_count": 5,
   "metadata": {},
   "outputs": [],
   "source": [
    "with open('data/gpt4_speakers_recipients_processed.json', 'r') as outfile:\n",
    "    speakers = pd.read_json(outfile)"
   ]
  },
  {
   "cell_type": "code",
   "execution_count": 6,
   "metadata": {},
   "outputs": [],
   "source": [
    "from openai_api.utilities import spacy_extract_sentences\n",
    "sentences = spacy_extract_sentences(df, nlp)"
   ]
  },
  {
   "cell_type": "code",
   "execution_count": 7,
   "metadata": {},
   "outputs": [],
   "source": [
    "remove_non_stories = [\n",
    "    'All Year Round', 'All About Feelings', 'Ten in the Bed and Other Counting Rhymes', \n",
    "    'Why Am I An Insect',\n",
    "    'How The Grinch Stole Christmas', \n",
    "    'Farmer Duck'\n",
    "]"
   ]
  },
  {
   "cell_type": "code",
   "execution_count": 8,
   "metadata": {},
   "outputs": [],
   "source": [
    "sentences = sentences[~sentences.book.isin(remove_non_stories)]"
   ]
  },
  {
   "cell_type": "code",
   "execution_count": 9,
   "metadata": {},
   "outputs": [],
   "source": [
    "validation_sample = sentences.sample(1000, random_state=42, replace=False)"
   ]
  },
  {
   "cell_type": "code",
   "execution_count": 10,
   "metadata": {},
   "outputs": [],
   "source": [
    "validation_sample = validation_sample[~validation_sample.book.isin(remove_non_stories)]"
   ]
  },
  {
   "cell_type": "code",
   "execution_count": 11,
   "metadata": {},
   "outputs": [],
   "source": [
    "sample_index_iterator = iter(validation_sample.index)"
   ]
  },
  {
   "cell_type": "code",
   "execution_count": 12,
   "metadata": {},
   "outputs": [],
   "source": [
    "SID = []\n",
    "DS = []\n",
    "IDS = []\n",
    "FOUND = []\n",
    "JUNK = []"
   ]
  },
  {
   "cell_type": "code",
   "execution_count": 13,
   "metadata": {},
   "outputs": [],
   "source": [
    "def next_sample(arg, _sample_index_iterator=sample_index_iterator, delta=20):\n",
    "    \n",
    "    clear_output(wait=True)\n",
    "    make_next()\n",
    "    \n",
    "    for l in [DS, IDS, FOUND, JUNK]:\n",
    "        if len(l) < len(SID):\n",
    "            l.append(0)\n",
    "    \n",
    "    sample_id = next(_sample_index_iterator)\n",
    "    sample = validation_sample.loc[sample_id]\n",
    "    SID.append(sample_id)\n",
    "    \n",
    "    print(f\"Book: {sample.book}\")\n",
    "    print(f\"Sentence:  {sample.sentence.text}\")\n",
    "    sentence_set = set(sample.sentence.text.split())\n",
    "    print('In context: \\n')\n",
    "    \n",
    "    start = sample.sentence.start\n",
    "    end = sample.sentence.end\n",
    "    text = df[df.Title == sample.book].iloc[0].Text.replace('\\n', ' ').replace('\\t', ' ')\n",
    "    text = ' '.join(text.split())\n",
    "    doc = nlp(text)\n",
    "    \n",
    "    _delta_s = min(delta, start)\n",
    "    _delta_e = min(delta, len(doc)-end)\n",
    "    display(\n",
    "        Markdown(\n",
    "            doc[start-_delta_s:start].text \n",
    "            + f\" **{doc[start:end]}** \"\n",
    "            + doc[end:end + _delta_e].text\n",
    "        )\n",
    "    )\n",
    "    print('***********************************')\n",
    "    \n",
    "    book_sections = speakers[speakers.book == sample.book].speech_text\n",
    "    \n",
    "    matched_sentences = {\n",
    "        'sid': [],\n",
    "        'text': [],\n",
    "        'overlap': []\n",
    "    }\n",
    "    # Reproduce sentence set without any dodgy punctuation:\n",
    "    sentence_set = set(\n",
    "        sample.sentence.text.translate(str.maketrans('', '', string.punctuation)).replace('“', '').replace('”', '').split()\n",
    "    )\n",
    "\n",
    "    for si, section in book_sections.items():\n",
    "        overlap = len(sentence_set.intersection(set(\n",
    "            section.translate(str.maketrans('', '', string.punctuation)).replace('“', '').replace('”', '').split()\n",
    "        )))\n",
    "        if overlap > 0:\n",
    "            matched_sentences['sid'].append(si)\n",
    "            matched_sentences['text'].append(section)\n",
    "            matched_sentences['overlap'].append(overlap)\n",
    "    \n",
    "    matched_sentences = pd.DataFrame(matched_sentences)  \n",
    "    matched_sentences.sort_values('overlap', ascending=False, inplace=True)\n",
    "    for i,row in matched_sentences.iterrows():\n",
    "        print(i, row.text, '\\n')\n",
    "    \n",
    "    with open(f\"./results/{VALIDATION_RUN_NAME}.pickle\", 'wb') as outfile:\n",
    "        pickle.dump(\n",
    "            {\n",
    "                'SID': SID,\n",
    "                'DIRECT_SPEECH':DS,\n",
    "                'INDIRECT_SPEECH':IDS,\n",
    "                'FOUND':FOUND,\n",
    "                'JUNK':JUNK,\n",
    "            }, \n",
    "            outfile\n",
    "        )\n",
    "    "
   ]
  },
  {
   "cell_type": "code",
   "execution_count": 14,
   "metadata": {},
   "outputs": [],
   "source": [
    "def make_next():\n",
    "    next_button = widgets.Button(description = 'Next example.')   \n",
    "    next_button.on_click(next_sample)\n",
    "    display(next_button)\n",
    "    \n",
    "def is_ds(arg):\n",
    "    DS.append(1)\n",
    "def is_ids(arg):\n",
    "    IDS.append(1)\n",
    "def is_found(arg):\n",
    "    FOUND.append(1)\n",
    "def is_junk(arg):\n",
    "    JUNK.append(1)\n",
    "    \n",
    "def make_controls():\n",
    "    ds_button = widgets.Button(description = 'Is direct speech?')   \n",
    "    ds_button.on_click(is_ds)\n",
    "    display(ds_button)\n",
    "    \n",
    "    ids_button = widgets.Button(description = 'Is indirect speech?')   \n",
    "    ids_button.on_click(is_ids)\n",
    "    display(ids_button)\n",
    "    \n",
    "    found_button = widgets.Button(description = 'Is in GPT4o output?')   \n",
    "    found_button.on_click(is_found)\n",
    "    display(found_button)\n",
    "    \n",
    "    junk_button = widgets.Button(description = 'Is junk?')   \n",
    "    junk_button.on_click(is_junk)\n",
    "    display(junk_button)"
   ]
  },
  {
   "cell_type": "code",
   "execution_count": 15,
   "metadata": {},
   "outputs": [
    {
     "data": {
      "application/vnd.jupyter.widget-view+json": {
       "model_id": "6d52d178258c4f039ea291c8b004a640",
       "version_major": 2,
       "version_minor": 0
      },
      "text/plain": [
       "Button(description='Is direct speech?', style=ButtonStyle())"
      ]
     },
     "metadata": {},
     "output_type": "display_data"
    },
    {
     "data": {
      "application/vnd.jupyter.widget-view+json": {
       "model_id": "7d5a7e55782541c2a33d51ab4082328b",
       "version_major": 2,
       "version_minor": 0
      },
      "text/plain": [
       "Button(description='Is indirect speech?', style=ButtonStyle())"
      ]
     },
     "metadata": {},
     "output_type": "display_data"
    },
    {
     "data": {
      "application/vnd.jupyter.widget-view+json": {
       "model_id": "3879f656d5cf46e9a4962fdeeaea71af",
       "version_major": 2,
       "version_minor": 0
      },
      "text/plain": [
       "Button(description='Is in GPT4o output?', style=ButtonStyle())"
      ]
     },
     "metadata": {},
     "output_type": "display_data"
    },
    {
     "data": {
      "application/vnd.jupyter.widget-view+json": {
       "model_id": "09bb32e132a948e489f0671d570c6fa8",
       "version_major": 2,
       "version_minor": 0
      },
      "text/plain": [
       "Button(description='Is junk?', style=ButtonStyle())"
      ]
     },
     "metadata": {},
     "output_type": "display_data"
    }
   ],
   "source": [
    "make_controls()"
   ]
  },
  {
   "cell_type": "code",
   "execution_count": 16,
   "metadata": {},
   "outputs": [
    {
     "data": {
      "application/vnd.jupyter.widget-view+json": {
       "model_id": "81fe801a4fab4843942e3430979fc186",
       "version_major": 2,
       "version_minor": 0
      },
      "text/plain": [
       "Button(description='Next example.', style=ButtonStyle())"
      ]
     },
     "metadata": {},
     "output_type": "display_data"
    },
    {
     "name": "stdout",
     "output_type": "stream",
     "text": [
      "Book: Shark In The Dark\n",
      "Sentence:  Could it be a GREAT WHITE SHARK?\n",
      "In context: \n",
      "\n"
     ]
    },
    {
     "data": {
      "text/markdown": [
       "everywhere. And this is what he sees. Stumbling starfish! What’s that swishing through the dark? **Could it be a GREAT WHITE SHARK?** Tim says “Silly me! It’s a seagull with his tea!” Timothy Pope, Timothy Pope"
      ],
      "text/plain": [
       "<IPython.core.display.Markdown object>"
      ]
     },
     "metadata": {},
     "output_type": "display_data"
    },
    {
     "name": "stdout",
     "output_type": "stream",
     "text": [
      "***********************************\n",
      "0 Silly me!\n",
      "It’s a seagull with his\n",
      "tea! \n",
      "\n"
     ]
    }
   ],
   "source": [
    "make_next()"
   ]
  },
  {
   "cell_type": "code",
   "execution_count": 70,
   "metadata": {},
   "outputs": [
    {
     "name": "stdout",
     "output_type": "stream",
     "text": [
      "Sensitivity:  0.9558823529411765\n",
      "FPR:  0.007936507936507936\n",
      "Indirect found:  0.25\n",
      "Indirect:  0.012307692307692308\n"
     ]
    }
   ],
   "source": [
    "test_results = pd.DataFrame({\n",
    "    'SID': SID[:-1],\n",
    "    'DIRECT_SPEECH':DS,\n",
    "    'INDIRECT_SPEECH':IDS,\n",
    "    'FOUND':FOUND,\n",
    "    'JUNK':JUNK,\n",
    "})\n",
    "test_results.to_json(f\"./results/{VALIDATION_RUN_NAME}.json\")\n",
    "\n",
    "print(\n",
    "    \"Sensitivity: \",\n",
    "    test_results[test_results.DIRECT_SPEECH==1].FOUND.sum() / len(test_results[test_results.DIRECT_SPEECH==1])\n",
    ")\n",
    "print(\n",
    "    \"FPR: \",\n",
    "    test_results[test_results.DIRECT_SPEECH==0].FOUND.sum() / len(test_results[test_results.DIRECT_SPEECH==0]))\n",
    "\n",
    "print(\n",
    "    \"Indirect found: \",\n",
    "    test_results[test_results.INDIRECT_SPEECH==1].FOUND.sum() / len(test_results[test_results.INDIRECT_SPEECH==1])\n",
    ")\n",
    "print(\n",
    "    \"Indirect: \",\n",
    "    (test_results.INDIRECT_SPEECH==1).sum() / len(test_results)\n",
    ")"
   ]
  },
  {
   "cell_type": "code",
   "execution_count": 71,
   "metadata": {},
   "outputs": [
    {
     "data": {
      "text/plain": [
       "650"
      ]
     },
     "execution_count": 71,
     "metadata": {},
     "output_type": "execute_result"
    }
   ],
   "source": [
    "len(DS)"
   ]
  },
  {
   "cell_type": "code",
   "execution_count": 72,
   "metadata": {},
   "outputs": [
    {
     "data": {
      "text/plain": [
       "650"
      ]
     },
     "execution_count": 72,
     "metadata": {},
     "output_type": "execute_result"
    }
   ],
   "source": [
    "len(test_results)"
   ]
  },
  {
   "cell_type": "code",
   "execution_count": 491,
   "metadata": {},
   "outputs": [],
   "source": [
    "# print(DS, IDS, FOUND, JUNK)"
   ]
  },
  {
   "cell_type": "markdown",
   "metadata": {},
   "source": [
    "#### Notes: \n",
    "* Farmer Duck (and other books) were not included in the latets GPT4o run. Do a few extra sample and remove these ones afterwards.\n",
    "* Including ambiguous speech in indirect speech?\n",
    "* The Troll seems to be missing some speech sections?\n",
    "* Comment on narrator to reader (Mind your manners, going on a bear hunt, book with no pictures, Bottoms Up, Open Very Carefully, A Book With Bite!.., e.g. Same but different not identified by GPT4o but should be?)... (comment on letters/notes?)\n",
    "* Redo analysis without narrator to reader?\n",
    "* The Christmas Extravaganza Hotel: missing \" speech mark before \"A supersonic...\"\n",
    "* She Rex issue with text not being visible when convert to pdf! (how common is this?)\n",
    "* At least one case where \"he thought\" not included as direct speech (Super Sid Silly Sausage) "
   ]
  },
  {
   "cell_type": "code",
   "execution_count": 458,
   "metadata": {},
   "outputs": [
    {
     "data": {
      "text/plain": [
       "647.5500000000001"
      ]
     },
     "execution_count": 458,
     "metadata": {},
     "output_type": "execute_result"
    }
   ],
   "source": [
    "len(sentences) *0.05"
   ]
  },
  {
   "cell_type": "code",
   "execution_count": null,
   "metadata": {},
   "outputs": [],
   "source": []
  },
  {
   "cell_type": "code",
   "execution_count": 17,
   "metadata": {},
   "outputs": [],
   "source": [
    "from sklearn.metrics import confusion_matrix, ConfusionMatrixDisplay, accuracy_score, f1_score, recall_score, precision_score, classification_report\n",
    "import pickle"
   ]
  },
  {
   "cell_type": "code",
   "execution_count": 27,
   "metadata": {},
   "outputs": [],
   "source": [
    "# with open(f\"./results/{VALIDATION_RUN_NAME}.pickle\", 'rb') as infile:\n",
    "#         validation_results = pickle.load(infile)"
   ]
  },
  {
   "cell_type": "code",
   "execution_count": 30,
   "metadata": {},
   "outputs": [],
   "source": [
    "with open(f\"./results/{VALIDATION_RUN_NAME}.json\", 'r') as infile:\n",
    "    test_results = pd.read_json(infile)"
   ]
  },
  {
   "cell_type": "code",
   "execution_count": 31,
   "metadata": {},
   "outputs": [
    {
     "data": {
      "text/html": [
       "<div>\n",
       "<style scoped>\n",
       "    .dataframe tbody tr th:only-of-type {\n",
       "        vertical-align: middle;\n",
       "    }\n",
       "\n",
       "    .dataframe tbody tr th {\n",
       "        vertical-align: top;\n",
       "    }\n",
       "\n",
       "    .dataframe thead th {\n",
       "        text-align: right;\n",
       "    }\n",
       "</style>\n",
       "<table border=\"1\" class=\"dataframe\">\n",
       "  <thead>\n",
       "    <tr style=\"text-align: right;\">\n",
       "      <th></th>\n",
       "      <th>SID</th>\n",
       "      <th>DIRECT_SPEECH</th>\n",
       "      <th>INDIRECT_SPEECH</th>\n",
       "      <th>FOUND</th>\n",
       "      <th>JUNK</th>\n",
       "    </tr>\n",
       "  </thead>\n",
       "  <tbody>\n",
       "    <tr>\n",
       "      <th>0</th>\n",
       "      <td>2323</td>\n",
       "      <td>0</td>\n",
       "      <td>0</td>\n",
       "      <td>0</td>\n",
       "      <td>0</td>\n",
       "    </tr>\n",
       "    <tr>\n",
       "      <th>1</th>\n",
       "      <td>9022</td>\n",
       "      <td>1</td>\n",
       "      <td>0</td>\n",
       "      <td>1</td>\n",
       "      <td>0</td>\n",
       "    </tr>\n",
       "    <tr>\n",
       "      <th>2</th>\n",
       "      <td>828</td>\n",
       "      <td>0</td>\n",
       "      <td>0</td>\n",
       "      <td>0</td>\n",
       "      <td>0</td>\n",
       "    </tr>\n",
       "    <tr>\n",
       "      <th>3</th>\n",
       "      <td>13056</td>\n",
       "      <td>0</td>\n",
       "      <td>0</td>\n",
       "      <td>0</td>\n",
       "      <td>0</td>\n",
       "    </tr>\n",
       "    <tr>\n",
       "      <th>4</th>\n",
       "      <td>4687</td>\n",
       "      <td>0</td>\n",
       "      <td>0</td>\n",
       "      <td>0</td>\n",
       "      <td>0</td>\n",
       "    </tr>\n",
       "    <tr>\n",
       "      <th>...</th>\n",
       "      <td>...</td>\n",
       "      <td>...</td>\n",
       "      <td>...</td>\n",
       "      <td>...</td>\n",
       "      <td>...</td>\n",
       "    </tr>\n",
       "    <tr>\n",
       "      <th>645</th>\n",
       "      <td>8591</td>\n",
       "      <td>0</td>\n",
       "      <td>0</td>\n",
       "      <td>0</td>\n",
       "      <td>0</td>\n",
       "    </tr>\n",
       "    <tr>\n",
       "      <th>646</th>\n",
       "      <td>9220</td>\n",
       "      <td>1</td>\n",
       "      <td>0</td>\n",
       "      <td>1</td>\n",
       "      <td>0</td>\n",
       "    </tr>\n",
       "    <tr>\n",
       "      <th>647</th>\n",
       "      <td>7871</td>\n",
       "      <td>0</td>\n",
       "      <td>0</td>\n",
       "      <td>0</td>\n",
       "      <td>0</td>\n",
       "    </tr>\n",
       "    <tr>\n",
       "      <th>648</th>\n",
       "      <td>10490</td>\n",
       "      <td>1</td>\n",
       "      <td>0</td>\n",
       "      <td>1</td>\n",
       "      <td>0</td>\n",
       "    </tr>\n",
       "    <tr>\n",
       "      <th>649</th>\n",
       "      <td>10118</td>\n",
       "      <td>1</td>\n",
       "      <td>0</td>\n",
       "      <td>1</td>\n",
       "      <td>0</td>\n",
       "    </tr>\n",
       "  </tbody>\n",
       "</table>\n",
       "<p>650 rows × 5 columns</p>\n",
       "</div>"
      ],
      "text/plain": [
       "       SID  DIRECT_SPEECH  INDIRECT_SPEECH  FOUND  JUNK\n",
       "0     2323              0                0      0     0\n",
       "1     9022              1                0      1     0\n",
       "2      828              0                0      0     0\n",
       "3    13056              0                0      0     0\n",
       "4     4687              0                0      0     0\n",
       "..     ...            ...              ...    ...   ...\n",
       "645   8591              0                0      0     0\n",
       "646   9220              1                0      1     0\n",
       "647   7871              0                0      0     0\n",
       "648  10490              1                0      1     0\n",
       "649  10118              1                0      1     0\n",
       "\n",
       "[650 rows x 5 columns]"
      ]
     },
     "execution_count": 31,
     "metadata": {},
     "output_type": "execute_result"
    }
   ],
   "source": [
    "test_results"
   ]
  },
  {
   "cell_type": "code",
   "execution_count": 32,
   "metadata": {},
   "outputs": [],
   "source": [
    "cm = confusion_matrix(test_results.DIRECT_SPEECH, test_results.FOUND)"
   ]
  },
  {
   "cell_type": "code",
   "execution_count": 33,
   "metadata": {},
   "outputs": [],
   "source": [
    "disp = ConfusionMatrixDisplay(\n",
    "    confusion_matrix=cm, \n",
    "    display_labels=['not speech', 'speech']\n",
    ")"
   ]
  },
  {
   "cell_type": "code",
   "execution_count": 34,
   "metadata": {},
   "outputs": [
    {
     "data": {
      "image/png": "[encoded data removed]",
      "text/plain": [
       "<Figure size 640x480 with 2 Axes>"
      ]
     },
     "metadata": {},
     "output_type": "display_data"
    }
   ],
   "source": [
    "disp.plot();"
   ]
  },
  {
   "cell_type": "code",
   "execution_count": 35,
   "metadata": {},
   "outputs": [
    {
     "name": "stdout",
     "output_type": "stream",
     "text": [
      "0.9769230769230769 0.9719626168224298 0.9558823529411765 0.9885931558935361\n"
     ]
    }
   ],
   "source": [
    "y_true = test_results.DIRECT_SPEECH\n",
    "y_pred = test_results.FOUND\n",
    "\n",
    "print(\n",
    "    accuracy_score(y_true, y_pred), \n",
    "    f1_score(y_true, y_pred), \n",
    "    recall_score(y_true, y_pred), \n",
    "    precision_score(y_true, y_pred)\n",
    ")"
   ]
  },
  {
   "cell_type": "code",
   "execution_count": 36,
   "metadata": {},
   "outputs": [
    {
     "name": "stdout",
     "output_type": "stream",
     "text": [
      "              precision    recall  f1-score   support\n",
      "\n",
      "           0       0.97      0.99      0.98       378\n",
      "           1       0.99      0.96      0.97       272\n",
      "\n",
      "    accuracy                           0.98       650\n",
      "   macro avg       0.98      0.97      0.98       650\n",
      "weighted avg       0.98      0.98      0.98       650\n",
      "\n"
     ]
    }
   ],
   "source": [
    "print(classification_report(y_true, y_pred))"
   ]
  },
  {
   "cell_type": "code",
   "execution_count": 69,
   "metadata": {},
   "outputs": [
    {
     "data": {
      "text/plain": [
       "0.105"
      ]
     },
     "execution_count": 69,
     "metadata": {},
     "output_type": "execute_result"
    }
   ],
   "source": [
    "21/200"
   ]
  },
  {
   "cell_type": "code",
   "execution_count": 50,
   "metadata": {},
   "outputs": [
    {
     "data": {
      "text/plain": [
       "650"
      ]
     },
     "execution_count": 50,
     "metadata": {},
     "output_type": "execute_result"
    }
   ],
   "source": [
    "len(test_results)\n"
   ]
  },
  {
   "cell_type": "code",
   "execution_count": 52,
   "metadata": {},
   "outputs": [
    {
     "data": {
      "text/plain": [
       "0.4046153846153846"
      ]
     },
     "execution_count": 52,
     "metadata": {},
     "output_type": "execute_result"
    }
   ],
   "source": [
    "test_results.FOUND.sum() / len(test_results)"
   ]
  },
  {
   "cell_type": "code",
   "execution_count": 37,
   "metadata": {},
   "outputs": [
    {
     "data": {
      "text/plain": [
       "4"
      ]
     },
     "execution_count": 37,
     "metadata": {},
     "output_type": "execute_result"
    }
   ],
   "source": [
    "test_results.JUNK.sum()"
   ]
  },
  {
   "cell_type": "code",
   "execution_count": 55,
   "metadata": {},
   "outputs": [
    {
     "data": {
      "text/plain": [
       "272"
      ]
     },
     "execution_count": 55,
     "metadata": {},
     "output_type": "execute_result"
    }
   ],
   "source": [
    "test_results.DIRECT_SPEECH.sum() "
   ]
  },
  {
   "cell_type": "code",
   "execution_count": 39,
   "metadata": {},
   "outputs": [
    {
     "data": {
      "text/plain": [
       "1.2307692307692308"
      ]
     },
     "execution_count": 39,
     "metadata": {},
     "output_type": "execute_result"
    }
   ],
   "source": [
    "100 * test_results.INDIRECT_SPEECH.sum() / len(test_results)"
   ]
  },
  {
   "cell_type": "code",
   "execution_count": 40,
   "metadata": {},
   "outputs": [
    {
     "data": {
      "text/plain": [
       "41.84615384615385"
      ]
     },
     "execution_count": 40,
     "metadata": {},
     "output_type": "execute_result"
    }
   ],
   "source": [
    "100 * test_results.DIRECT_SPEECH.sum() / len(test_results)"
   ]
  },
  {
   "cell_type": "code",
   "execution_count": 57,
   "metadata": {},
   "outputs": [
    {
     "data": {
      "text/plain": [
       "0.9558823529411765"
      ]
     },
     "execution_count": 57,
     "metadata": {},
     "output_type": "execute_result"
    }
   ],
   "source": [
    "260/272"
   ]
  },
  {
   "cell_type": "code",
   "execution_count": 47,
   "metadata": {},
   "outputs": [
    {
     "data": {
      "text/plain": [
       "95.58823529411765"
      ]
     },
     "execution_count": 47,
     "metadata": {},
     "output_type": "execute_result"
    }
   ],
   "source": [
    "100 * test_results[test_results.DIRECT_SPEECH==1].FOUND.sum() / len(test_results[test_results.DIRECT_SPEECH==1])"
   ]
  },
  {
   "cell_type": "code",
   "execution_count": 58,
   "metadata": {},
   "outputs": [
    {
     "data": {
      "text/plain": [
       "2"
      ]
     },
     "execution_count": 58,
     "metadata": {},
     "output_type": "execute_result"
    }
   ],
   "source": [
    "test_results[test_results.INDIRECT_SPEECH==1].FOUND.sum()"
   ]
  },
  {
   "cell_type": "code",
   "execution_count": 45,
   "metadata": {},
   "outputs": [
    {
     "data": {
      "text/plain": [
       "0.25"
      ]
     },
     "execution_count": 45,
     "metadata": {},
     "output_type": "execute_result"
    }
   ],
   "source": [
    "test_results[test_results.INDIRECT_SPEECH==1].FOUND.sum() / len(test_results[test_results.INDIRECT_SPEECH==1])"
   ]
  },
  {
   "cell_type": "code",
   "execution_count": 63,
   "metadata": {},
   "outputs": [
    {
     "data": {
      "text/plain": [
       "0.5692307692307692"
      ]
     },
     "execution_count": 63,
     "metadata": {},
     "output_type": "execute_result"
    }
   ],
   "source": [
    "370/650"
   ]
  },
  {
   "cell_type": "code",
   "execution_count": 67,
   "metadata": {},
   "outputs": [
    {
     "data": {
      "text/plain": [
       "370"
      ]
     },
     "execution_count": 67,
     "metadata": {},
     "output_type": "execute_result"
    }
   ],
   "source": [
    "len(test_results[(test_results.DIRECT_SPEECH==0) * ((test_results.INDIRECT_SPEECH==0))])"
   ]
  },
  {
   "cell_type": "code",
   "execution_count": 66,
   "metadata": {},
   "outputs": [
    {
     "data": {
      "text/plain": [
       "1"
      ]
     },
     "execution_count": 66,
     "metadata": {},
     "output_type": "execute_result"
    }
   ],
   "source": [
    "test_results[(test_results.DIRECT_SPEECH==0) * ((test_results.INDIRECT_SPEECH==0))].FOUND.sum()"
   ]
  },
  {
   "cell_type": "code",
   "execution_count": 65,
   "metadata": {},
   "outputs": [
    {
     "data": {
      "text/plain": [
       "0.2702702702702703"
      ]
     },
     "execution_count": 65,
     "metadata": {},
     "output_type": "execute_result"
    }
   ],
   "source": [
    "100 * test_results[(test_results.DIRECT_SPEECH==0) * ((test_results.INDIRECT_SPEECH==0))].FOUND.sum() / len(test_results[(test_results.DIRECT_SPEECH==0) * ((test_results.INDIRECT_SPEECH==0))])"
   ]
  },
  {
   "cell_type": "code",
   "execution_count": null,
   "metadata": {},
   "outputs": [],
   "source": []
  }
 ],
 "metadata": {
  "kernelspec": {
   "display_name": "newenv",
   "language": "python",
   "name": "newenv"
  },
  "language_info": {
   "codemirror_mode": {
    "name": "ipython",
    "version": 3
   },
   "file_extension": ".py",
   "mimetype": "text/x-python",
   "name": "python",
   "nbconvert_exporter": "python",
   "pygments_lexer": "ipython3",
   "version": "3.7.4"
  }
 },
 "nbformat": 4,
 "nbformat_minor": 2
}
