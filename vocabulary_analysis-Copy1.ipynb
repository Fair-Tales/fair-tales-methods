{
 "cells": [
  {
   "cell_type": "code",
   "execution_count": 6,
   "metadata": {},
   "outputs": [],
   "source": [
    "import os\n",
    "import json\n",
    "import pdfplumber\n",
    "import pandas as pd\n",
    "import numpy as np\n",
    "import matplotlib.pyplot as plt\n",
    "from collections import Counter\n",
    "import string\n",
    "import spacy\n",
    "from spacy import displacy\n",
    "from spacy.lang.en.examples import sentences \n",
    "import random\n",
    "import pickle\n",
    "from lexicalrichness import LexicalRichness\n",
    "\n",
    "%matplotlib inline"
   ]
  },
  {
   "cell_type": "code",
   "execution_count": 2,
   "metadata": {},
   "outputs": [],
   "source": [
    "with open('data/gpt4_speakers_recipients_processed.json', 'r') as outfile:\n",
    "    speakers = pd.read_json(outfile)"
   ]
  },
  {
   "cell_type": "code",
   "execution_count": 3,
   "metadata": {},
   "outputs": [],
   "source": [
    "# male_spoken_words = ' '.join(speakers[speakers.gender_recipient == 'M'].spoken_words_only)\n",
    "# female_spoken_words = ' '.join(speakers[speakers.gender_recipient == 'F'].spoken_words_only)\n",
    "# ngs_spoken_words = ' '.join(speakers[speakers.gender_recipient == 'NGS'].spoken_words_only)\n",
    "\n",
    "male_spoken_words = ' '.join(speakers[speakers.gender_speaker == 'M'].spoken_words_only)\n",
    "female_spoken_words = ' '.join(speakers[speakers.gender_speaker == 'F'].spoken_words_only)\n",
    "ngs_spoken_words = ' '.join(speakers[speakers.gender_speaker == 'NGS'].spoken_words_only)"
   ]
  },
  {
   "cell_type": "code",
   "execution_count": 91,
   "metadata": {},
   "outputs": [
    {
     "data": {
      "text/plain": [
       "32324"
      ]
     },
     "execution_count": 91,
     "metadata": {},
     "output_type": "execute_result"
    }
   ],
   "source": [
    "len((female_spoken_words + male_spoken_words + ngs_spoken_words).split())"
   ]
  },
  {
   "cell_type": "code",
   "execution_count": 4,
   "metadata": {},
   "outputs": [
    {
     "data": {
      "text/plain": [
       "7816"
      ]
     },
     "execution_count": 4,
     "metadata": {},
     "output_type": "execute_result"
    }
   ],
   "source": [
    "len(female_spoken_words.split())"
   ]
  },
  {
   "cell_type": "code",
   "execution_count": 5,
   "metadata": {},
   "outputs": [
    {
     "data": {
      "text/plain": [
       "7816"
      ]
     },
     "execution_count": 5,
     "metadata": {},
     "output_type": "execute_result"
    }
   ],
   "source": [
    "sum([len(text.split()) for text in speakers[speakers.gender_speaker=='F'].spoken_words_only])"
   ]
  },
  {
   "cell_type": "markdown",
   "metadata": {},
   "source": [
    "#### For interview:"
   ]
  },
  {
   "cell_type": "code",
   "execution_count": 9,
   "metadata": {},
   "outputs": [],
   "source": [
    "import sqlite3"
   ]
  },
  {
   "cell_type": "code",
   "execution_count": 10,
   "metadata": {},
   "outputs": [],
   "source": [
    "conn = sqlite3.connect('character_database.db')"
   ]
  },
  {
   "cell_type": "code",
   "execution_count": 11,
   "metadata": {},
   "outputs": [],
   "source": [
    "aliases = pd.read_sql('select * from aliases', conn, index_col='index')\n",
    "characters = pd.read_sql('select * from characters', conn, index_col='index')"
   ]
  },
  {
   "cell_type": "code",
   "execution_count": 12,
   "metadata": {},
   "outputs": [],
   "source": [
    "remove_non_stories = [\n",
    "    'All Year Round', 'All About Feelings', 'Ten in the Bed and Other Counting Rhymes', 'Why Am I An Insect',\n",
    "    'Farmer Duck'\n",
    "]"
   ]
  },
  {
   "cell_type": "code",
   "execution_count": 13,
   "metadata": {},
   "outputs": [],
   "source": [
    "characters = characters[~characters.book.isin(remove_non_stories)]"
   ]
  },
  {
   "cell_type": "code",
   "execution_count": 14,
   "metadata": {},
   "outputs": [],
   "source": [
    "gender_count = {\n",
    "    G: sum([1 for g in characters.gender if g==G])\n",
    "    for G in ['F', 'M', 'NGS']\n",
    "}"
   ]
  },
  {
   "cell_type": "code",
   "execution_count": 15,
   "metadata": {},
   "outputs": [],
   "source": [
    "human_count = {\n",
    "    G: sum([1 for g,h in zip(characters.gender, characters.human) if g==G and h=='H'])\n",
    "    for G in ['F', 'M', 'NGS']\n",
    "}"
   ]
  },
  {
   "cell_type": "code",
   "execution_count": 16,
   "metadata": {},
   "outputs": [
    {
     "data": {
      "text/plain": [
       "{'F': 197, 'M': 223, 'NGS': 59}"
      ]
     },
     "execution_count": 16,
     "metadata": {},
     "output_type": "execute_result"
    }
   ],
   "source": [
    "human_count"
   ]
  },
  {
   "cell_type": "code",
   "execution_count": 17,
   "metadata": {},
   "outputs": [],
   "source": [
    "nonhuman_count = {\n",
    "    G: sum([1 for g,h in zip(characters.gender, characters.human) if g==G and h=='NH'])\n",
    "    for G in ['F', 'M', 'NGS']\n",
    "}"
   ]
  },
  {
   "cell_type": "code",
   "execution_count": 18,
   "metadata": {},
   "outputs": [
    {
     "data": {
      "text/plain": [
       "{'F': 123, 'M': 271, 'NGS': 516}"
      ]
     },
     "execution_count": 18,
     "metadata": {},
     "output_type": "execute_result"
    }
   ],
   "source": [
    "nonhuman_count"
   ]
  },
  {
   "cell_type": "code",
   "execution_count": 19,
   "metadata": {},
   "outputs": [],
   "source": [
    "protagonist_count = {\n",
    "    G: sum([1 for g,h in zip(characters.gender, characters.is_protagonist) if g==G and h==1])\n",
    "    for G in ['F', 'M', 'NGS']\n",
    "}"
   ]
  },
  {
   "cell_type": "code",
   "execution_count": 20,
   "metadata": {},
   "outputs": [
    {
     "data": {
      "text/plain": [
       "{'F': 44, 'M': 142, 'NGS': 21}"
      ]
     },
     "execution_count": 20,
     "metadata": {},
     "output_type": "execute_result"
    }
   ],
   "source": [
    "protagonist_count"
   ]
  },
  {
   "cell_type": "code",
   "execution_count": null,
   "metadata": {},
   "outputs": [],
   "source": []
  },
  {
   "cell_type": "code",
   "execution_count": 21,
   "metadata": {},
   "outputs": [],
   "source": [
    "secondary_count = {\n",
    "    G: sum([1 for g,h in zip(characters.gender, characters.is_protagonist) if g==G and h==0])\n",
    "    for G in ['F', 'M', 'NGS']\n",
    "}"
   ]
  },
  {
   "cell_type": "code",
   "execution_count": 22,
   "metadata": {},
   "outputs": [
    {
     "data": {
      "text/plain": [
       "{'F': 286, 'M': 388, 'NGS': 580}"
      ]
     },
     "execution_count": 22,
     "metadata": {},
     "output_type": "execute_result"
    }
   ],
   "source": [
    "secondary_count"
   ]
  },
  {
   "cell_type": "code",
   "execution_count": 23,
   "metadata": {},
   "outputs": [
    {
     "data": {
      "text/plain": [
       "{'F': 286, 'M': 388, 'NGS': 580}"
      ]
     },
     "execution_count": 23,
     "metadata": {},
     "output_type": "execute_result"
    }
   ],
   "source": [
    "secondary_count"
   ]
  },
  {
   "cell_type": "code",
   "execution_count": 24,
   "metadata": {},
   "outputs": [],
   "source": [
    "protagonist_count = {\n",
    "    G: sum([1 for g,h in zip(characters.gender, characters.is_protagonist) if g==G and h==1])\n",
    "    for G in ['F', 'M', 'NGS']\n",
    "}"
   ]
  },
  {
   "cell_type": "code",
   "execution_count": 25,
   "metadata": {},
   "outputs": [
    {
     "data": {
      "text/plain": [
       "{'F': 44, 'M': 142, 'NGS': 21}"
      ]
     },
     "execution_count": 25,
     "metadata": {},
     "output_type": "execute_result"
    }
   ],
   "source": [
    "protagonist_count"
   ]
  },
  {
   "cell_type": "code",
   "execution_count": 26,
   "metadata": {},
   "outputs": [],
   "source": [
    "protagonist_human_count = {\n",
    "    G: sum(\n",
    "        [\n",
    "            1 for g,p,h \n",
    "            in zip(characters.gender, characters.is_protagonist, characters.human) \n",
    "            if g==G and p==1 and h=='H']\n",
    "    )\n",
    "    for G in ['F', 'M', 'NGS']\n",
    "}"
   ]
  },
  {
   "cell_type": "code",
   "execution_count": 27,
   "metadata": {},
   "outputs": [
    {
     "data": {
      "text/plain": [
       "{'F': 23, 'M': 47, 'NGS': 8}"
      ]
     },
     "execution_count": 27,
     "metadata": {},
     "output_type": "execute_result"
    }
   ],
   "source": [
    "protagonist_human_count"
   ]
  },
  {
   "cell_type": "code",
   "execution_count": 28,
   "metadata": {},
   "outputs": [],
   "source": [
    "protagonist_nonhuman_count = {\n",
    "    G: sum(\n",
    "        [\n",
    "            1 for g,p,h \n",
    "            in zip(characters.gender, characters.is_protagonist, characters.human) \n",
    "            if g==G and p==1 and h=='NH']\n",
    "    )\n",
    "    for G in ['F', 'M', 'NGS']\n",
    "}"
   ]
  },
  {
   "cell_type": "code",
   "execution_count": 29,
   "metadata": {},
   "outputs": [
    {
     "data": {
      "text/plain": [
       "{'F': 18, 'M': 71, 'NGS': 9}"
      ]
     },
     "execution_count": 29,
     "metadata": {},
     "output_type": "execute_result"
    }
   ],
   "source": [
    "protagonist_nonhuman_count"
   ]
  },
  {
   "cell_type": "code",
   "execution_count": 30,
   "metadata": {},
   "outputs": [],
   "source": [
    "secondary_human_count = {\n",
    "    G: sum(\n",
    "        [\n",
    "            1 for g,p,h \n",
    "            in zip(characters.gender, characters.is_protagonist, characters.human) \n",
    "            if g==G and p==0 and h=='H']\n",
    "    )\n",
    "    for G in ['F', 'M', 'NGS']\n",
    "}"
   ]
  },
  {
   "cell_type": "code",
   "execution_count": 31,
   "metadata": {},
   "outputs": [
    {
     "data": {
      "text/plain": [
       "{'F': 174, 'M': 176, 'NGS': 51}"
      ]
     },
     "execution_count": 31,
     "metadata": {},
     "output_type": "execute_result"
    }
   ],
   "source": [
    "secondary_human_count"
   ]
  },
  {
   "cell_type": "code",
   "execution_count": 32,
   "metadata": {},
   "outputs": [],
   "source": [
    "secondary_nonhuman_count = {\n",
    "    G: sum(\n",
    "        [\n",
    "            1 for g,p,h \n",
    "            in zip(characters.gender, characters.is_protagonist, characters.human) \n",
    "            if g==G and p==0 and h=='NH']\n",
    "    )\n",
    "    for G in ['F', 'M', 'NGS']\n",
    "}"
   ]
  },
  {
   "cell_type": "code",
   "execution_count": 33,
   "metadata": {},
   "outputs": [
    {
     "data": {
      "text/plain": [
       "{'F': 105, 'M': 200, 'NGS': 507}"
      ]
     },
     "execution_count": 33,
     "metadata": {},
     "output_type": "execute_result"
    }
   ],
   "source": [
    "secondary_nonhuman_count"
   ]
  },
  {
   "cell_type": "code",
   "execution_count": null,
   "metadata": {},
   "outputs": [],
   "source": []
  },
  {
   "cell_type": "code",
   "execution_count": 34,
   "metadata": {},
   "outputs": [
    {
     "data": {
      "text/plain": [
       "1461"
      ]
     },
     "execution_count": 34,
     "metadata": {},
     "output_type": "execute_result"
    }
   ],
   "source": [
    "sum(gender_count.values())"
   ]
  },
  {
   "cell_type": "code",
   "execution_count": 35,
   "metadata": {},
   "outputs": [
    {
     "data": {
      "text/plain": [
       "{'F': 330, 'M': 530, 'NGS': 601}"
      ]
     },
     "execution_count": 35,
     "metadata": {},
     "output_type": "execute_result"
    }
   ],
   "source": [
    "gender_count"
   ]
  },
  {
   "cell_type": "code",
   "execution_count": 36,
   "metadata": {},
   "outputs": [],
   "source": [
    "summary_character = pd.DataFrame({\n",
    "    'gender': gender_count.keys(),\n",
    "    'total characters': gender_count.values(),\n",
    "    'proportions': [v / len(characters) for v in gender_count.values()],\n",
    "    'human characters': human_count.values(),\n",
    "    'human proportions': [v / sum(characters.human=='H') for v in human_count.values()],\n",
    "    'nonhuman characters': nonhuman_count.values(),\n",
    "    'nonhuman proportions': [v / sum(characters.human=='NH') for v in nonhuman_count.values()],\n",
    "    'protagonists': protagonist_count.values(),\n",
    "    'protagonist proportions': [v / sum(characters.is_protagonist==1) for v in protagonist_count.values()],\n",
    "    'secondaries': secondary_count.values(),\n",
    "    'secondary proportions': [v / sum(characters.is_protagonist==0) for v in secondary_count.values()],\n",
    "    'human protagonists': protagonist_human_count.values(),\n",
    "    'human protagonist proportions': [v / sum((characters.is_protagonist==1)*(characters.human=='H')) for v in protagonist_human_count.values()],\n",
    "    'nonhuman protagonists': protagonist_nonhuman_count.values(),\n",
    "    'nonhuman protagonist proportions': [v / sum((characters.is_protagonist==1)*(characters.human=='NH')) for v in protagonist_nonhuman_count.values()],\n",
    "    'human secondaries': secondary_human_count.values(),\n",
    "    'human secondary proportions': [v / sum((characters.is_protagonist==0)*(characters.human=='H')) for v in secondary_human_count.values()],\n",
    "    'nonhuman secondaries': secondary_nonhuman_count.values(),\n",
    "    'nonhuman secondary proportions': [v / sum((characters.is_protagonist==0)*(characters.human=='NH')) for v in secondary_nonhuman_count.values()],\n",
    "})"
   ]
  },
  {
   "cell_type": "code",
   "execution_count": 37,
   "metadata": {},
   "outputs": [
    {
     "data": {
      "text/html": [
       "<div>\n",
       "<style scoped>\n",
       "    .dataframe tbody tr th:only-of-type {\n",
       "        vertical-align: middle;\n",
       "    }\n",
       "\n",
       "    .dataframe tbody tr th {\n",
       "        vertical-align: top;\n",
       "    }\n",
       "\n",
       "    .dataframe thead th {\n",
       "        text-align: right;\n",
       "    }\n",
       "</style>\n",
       "<table border=\"1\" class=\"dataframe\">\n",
       "  <thead>\n",
       "    <tr style=\"text-align: right;\">\n",
       "      <th></th>\n",
       "      <th>gender</th>\n",
       "      <th>total characters</th>\n",
       "      <th>proportions</th>\n",
       "      <th>human characters</th>\n",
       "      <th>human proportions</th>\n",
       "      <th>nonhuman characters</th>\n",
       "      <th>nonhuman proportions</th>\n",
       "      <th>protagonists</th>\n",
       "      <th>protagonist proportions</th>\n",
       "      <th>secondaries</th>\n",
       "      <th>secondary proportions</th>\n",
       "      <th>human protagonists</th>\n",
       "      <th>human protagonist proportions</th>\n",
       "      <th>nonhuman protagonists</th>\n",
       "      <th>nonhuman protagonist proportions</th>\n",
       "      <th>human secondaries</th>\n",
       "      <th>human secondary proportions</th>\n",
       "      <th>nonhuman secondaries</th>\n",
       "      <th>nonhuman secondary proportions</th>\n",
       "    </tr>\n",
       "  </thead>\n",
       "  <tbody>\n",
       "    <tr>\n",
       "      <th>0</th>\n",
       "      <td>F</td>\n",
       "      <td>330</td>\n",
       "      <td>0.225873</td>\n",
       "      <td>197</td>\n",
       "      <td>0.411273</td>\n",
       "      <td>123</td>\n",
       "      <td>0.135165</td>\n",
       "      <td>44</td>\n",
       "      <td>0.212560</td>\n",
       "      <td>286</td>\n",
       "      <td>0.22807</td>\n",
       "      <td>23</td>\n",
       "      <td>0.294872</td>\n",
       "      <td>18</td>\n",
       "      <td>0.183673</td>\n",
       "      <td>174</td>\n",
       "      <td>0.433915</td>\n",
       "      <td>105</td>\n",
       "      <td>0.129310</td>\n",
       "    </tr>\n",
       "    <tr>\n",
       "      <th>1</th>\n",
       "      <td>M</td>\n",
       "      <td>530</td>\n",
       "      <td>0.362765</td>\n",
       "      <td>223</td>\n",
       "      <td>0.465553</td>\n",
       "      <td>271</td>\n",
       "      <td>0.297802</td>\n",
       "      <td>142</td>\n",
       "      <td>0.685990</td>\n",
       "      <td>388</td>\n",
       "      <td>0.30941</td>\n",
       "      <td>47</td>\n",
       "      <td>0.602564</td>\n",
       "      <td>71</td>\n",
       "      <td>0.724490</td>\n",
       "      <td>176</td>\n",
       "      <td>0.438903</td>\n",
       "      <td>200</td>\n",
       "      <td>0.246305</td>\n",
       "    </tr>\n",
       "    <tr>\n",
       "      <th>2</th>\n",
       "      <td>NGS</td>\n",
       "      <td>601</td>\n",
       "      <td>0.411362</td>\n",
       "      <td>59</td>\n",
       "      <td>0.123173</td>\n",
       "      <td>516</td>\n",
       "      <td>0.567033</td>\n",
       "      <td>21</td>\n",
       "      <td>0.101449</td>\n",
       "      <td>580</td>\n",
       "      <td>0.46252</td>\n",
       "      <td>8</td>\n",
       "      <td>0.102564</td>\n",
       "      <td>9</td>\n",
       "      <td>0.091837</td>\n",
       "      <td>51</td>\n",
       "      <td>0.127182</td>\n",
       "      <td>507</td>\n",
       "      <td>0.624384</td>\n",
       "    </tr>\n",
       "  </tbody>\n",
       "</table>\n",
       "</div>"
      ],
      "text/plain": [
       "  gender  total characters  proportions  human characters  human proportions  \\\n",
       "0      F               330     0.225873               197           0.411273   \n",
       "1      M               530     0.362765               223           0.465553   \n",
       "2    NGS               601     0.411362                59           0.123173   \n",
       "\n",
       "   nonhuman characters  nonhuman proportions  protagonists  \\\n",
       "0                  123              0.135165            44   \n",
       "1                  271              0.297802           142   \n",
       "2                  516              0.567033            21   \n",
       "\n",
       "   protagonist proportions  secondaries  secondary proportions  \\\n",
       "0                 0.212560          286                0.22807   \n",
       "1                 0.685990          388                0.30941   \n",
       "2                 0.101449          580                0.46252   \n",
       "\n",
       "   human protagonists  human protagonist proportions  nonhuman protagonists  \\\n",
       "0                  23                       0.294872                     18   \n",
       "1                  47                       0.602564                     71   \n",
       "2                   8                       0.102564                      9   \n",
       "\n",
       "   nonhuman protagonist proportions  human secondaries  \\\n",
       "0                          0.183673                174   \n",
       "1                          0.724490                176   \n",
       "2                          0.091837                 51   \n",
       "\n",
       "   human secondary proportions  nonhuman secondaries  \\\n",
       "0                     0.433915                   105   \n",
       "1                     0.438903                   200   \n",
       "2                     0.127182                   507   \n",
       "\n",
       "   nonhuman secondary proportions  \n",
       "0                        0.129310  \n",
       "1                        0.246305  \n",
       "2                        0.624384  "
      ]
     },
     "execution_count": 37,
     "metadata": {},
     "output_type": "execute_result"
    }
   ],
   "source": [
    "summary_character"
   ]
  },
  {
   "cell_type": "code",
   "execution_count": 38,
   "metadata": {},
   "outputs": [
    {
     "data": {
      "text/plain": [
       "0.6226415094339622"
      ]
     },
     "execution_count": 38,
     "metadata": {},
     "output_type": "execute_result"
    }
   ],
   "source": [
    "gender_count['F'] / gender_count['M']"
   ]
  },
  {
   "cell_type": "code",
   "execution_count": 39,
   "metadata": {},
   "outputs": [],
   "source": [
    "mum_map = ['mum', 'mother', 'mummy', 'mom', 'mommy', 'ma', 'mama', 'mumma', 'mamma']\n",
    "dad_map = ['dad', 'father', 'daddy', 'dada', 'dadda', 'da', 'pa', 'papa']\n",
    "gran_map = ['gran', 'granny', 'nan', 'nana', 'nanna', 'grandma', 'gradmother', 'granmother'] \n",
    "grandpa_map = ['grandpa', 'gramps', 'grandfather', 'grandad', 'granddad']\n",
    "\n",
    "def match_map(_map, _name, verbose=False):\n",
    "    exclusions = ['christmas', 'xmas', 'nature', 'earth', 'time', 'clock']\n",
    "    \n",
    "    if not pd.isna(_name):\n",
    "        _name = str(_name)\n",
    "    else:\n",
    "        _name=''\n",
    "   \n",
    "    is_exclusion = sum([\n",
    "        m in _name.lower() for m in exclusions\n",
    "    ]) > 0\n",
    "    if is_exclusion:\n",
    "        return False\n",
    "    \n",
    "    is_match = sum([\n",
    "        m in _name.lower().split() for m in _map\n",
    "    ]) > 0\n",
    "    if is_match and verbose:\n",
    "        print(_name)\n",
    "\n",
    "    return is_match "
   ]
  },
  {
   "cell_type": "code",
   "execution_count": 40,
   "metadata": {},
   "outputs": [],
   "source": [
    "characters['is_mum'] = [\n",
    "    match_map(mum_map, s)\n",
    "    for s in characters.name\n",
    "]\n",
    "characters['is_dad'] = [\n",
    "    match_map(dad_map, s)\n",
    "    for s in characters.name\n",
    "]\n",
    "characters['is_granny'] = [\n",
    "    match_map(gran_map, s)\n",
    "    for s in characters.name\n",
    "]\n",
    "characters['is_grandpa'] = [\n",
    "    match_map(grandpa_map, s)\n",
    "    for s in characters.name\n",
    "]"
   ]
  },
  {
   "cell_type": "code",
   "execution_count": 41,
   "metadata": {},
   "outputs": [
    {
     "data": {
      "text/plain": [
       "0.16363636363636364"
      ]
     },
     "execution_count": 41,
     "metadata": {},
     "output_type": "execute_result"
    }
   ],
   "source": [
    "characters.is_mum.sum() / (characters.gender=='F').sum()"
   ]
  },
  {
   "cell_type": "code",
   "execution_count": 42,
   "metadata": {},
   "outputs": [
    {
     "data": {
      "text/plain": [
       "0.05849056603773585"
      ]
     },
     "execution_count": 42,
     "metadata": {},
     "output_type": "execute_result"
    }
   ],
   "source": [
    "characters.is_dad.sum() / (characters.gender=='M').sum()"
   ]
  },
  {
   "cell_type": "code",
   "execution_count": 43,
   "metadata": {},
   "outputs": [
    {
     "data": {
      "text/plain": [
       "0.18181818181818182"
      ]
     },
     "execution_count": 43,
     "metadata": {},
     "output_type": "execute_result"
    }
   ],
   "source": [
    "characters[characters.is_protagonist==False].is_mum.sum() / (characters[characters.is_protagonist==False].gender=='F').sum()"
   ]
  },
  {
   "cell_type": "code",
   "execution_count": 44,
   "metadata": {},
   "outputs": [
    {
     "data": {
      "text/plain": [
       "0.045454545454545456"
      ]
     },
     "execution_count": 44,
     "metadata": {},
     "output_type": "execute_result"
    }
   ],
   "source": [
    "characters[characters.is_protagonist==True].is_mum.sum() / (characters[characters.is_protagonist==True].gender=='F').sum()"
   ]
  },
  {
   "cell_type": "code",
   "execution_count": 45,
   "metadata": {},
   "outputs": [
    {
     "data": {
      "text/plain": [
       "0.07731958762886598"
      ]
     },
     "execution_count": 45,
     "metadata": {},
     "output_type": "execute_result"
    }
   ],
   "source": [
    "characters[characters.is_protagonist==False].is_dad.sum() / (characters[characters.is_protagonist==False].gender=='M').sum()"
   ]
  },
  {
   "cell_type": "code",
   "execution_count": null,
   "metadata": {},
   "outputs": [],
   "source": []
  },
  {
   "cell_type": "code",
   "execution_count": null,
   "metadata": {},
   "outputs": [],
   "source": []
  },
  {
   "cell_type": "code",
   "execution_count": 46,
   "metadata": {},
   "outputs": [
    {
     "data": {
      "text/plain": [
       "0.06363636363636363"
      ]
     },
     "execution_count": 46,
     "metadata": {},
     "output_type": "execute_result"
    }
   ],
   "source": [
    "characters.is_granny.sum() / (characters.gender=='F').sum()"
   ]
  },
  {
   "cell_type": "code",
   "execution_count": 47,
   "metadata": {},
   "outputs": [
    {
     "data": {
      "text/plain": [
       "0.013207547169811321"
      ]
     },
     "execution_count": 47,
     "metadata": {},
     "output_type": "execute_result"
    }
   ],
   "source": [
    "characters.is_grandpa.sum() / (characters.gender=='M').sum()"
   ]
  },
  {
   "cell_type": "markdown",
   "metadata": {},
   "source": [
    "#### Speech stats for interview:"
   ]
  },
  {
   "cell_type": "code",
   "execution_count": 48,
   "metadata": {},
   "outputs": [],
   "source": [
    "spoken_word_count = {\n",
    "    G: sum([len(text.split()) for text in speakers[speakers.gender_speaker==G].spoken_words_only])\n",
    "    for G in ['F', 'M', 'NGS']\n",
    "}\n"
   ]
  },
  {
   "cell_type": "code",
   "execution_count": 49,
   "metadata": {},
   "outputs": [],
   "source": [
    "received_word_count = {\n",
    "    G: sum([len(text.split()) for text in speakers[speakers.gender_recipient==G].spoken_words_only])\n",
    "    for G in ['F', 'M', 'NGS']\n",
    "}\n"
   ]
  },
  {
   "cell_type": "code",
   "execution_count": 50,
   "metadata": {},
   "outputs": [
    {
     "data": {
      "text/plain": [
       "{'F': 7816, 'M': 16450, 'NGS': 8060}"
      ]
     },
     "execution_count": 50,
     "metadata": {},
     "output_type": "execute_result"
    }
   ],
   "source": [
    "spoken_word_count"
   ]
  },
  {
   "cell_type": "code",
   "execution_count": 51,
   "metadata": {},
   "outputs": [
    {
     "data": {
      "text/plain": [
       "{'F': 6575, 'M': 14844, 'NGS': 10581}"
      ]
     },
     "execution_count": 51,
     "metadata": {},
     "output_type": "execute_result"
    }
   ],
   "source": [
    "received_word_count"
   ]
  },
  {
   "cell_type": "code",
   "execution_count": 52,
   "metadata": {},
   "outputs": [
    {
     "data": {
      "text/plain": [
       "103"
      ]
     },
     "execution_count": 52,
     "metadata": {},
     "output_type": "execute_result"
    }
   ],
   "source": [
    "len(speakers[speakers.gender_recipient=='F'].book.unique())"
   ]
  },
  {
   "cell_type": "code",
   "execution_count": 53,
   "metadata": {},
   "outputs": [],
   "source": [
    "speaker_book_count = {\n",
    "    G: len(speakers[\n",
    "        (speakers.gender_speaker==G)*(speakers.gender_recipient==G)\n",
    "    ].book.unique())\n",
    "    for G in ['F', 'M', 'NGS']\n",
    "}\n"
   ]
  },
  {
   "cell_type": "code",
   "execution_count": 54,
   "metadata": {},
   "outputs": [
    {
     "data": {
      "text/plain": [
       "{'F': 33, 'M': 97, 'NGS': 51}"
      ]
     },
     "execution_count": 54,
     "metadata": {},
     "output_type": "execute_result"
    }
   ],
   "source": [
    "speaker_book_count"
   ]
  },
  {
   "cell_type": "code",
   "execution_count": 55,
   "metadata": {},
   "outputs": [],
   "source": [
    "received_book_count = {\n",
    "    G: len(speakers[speakers.gender_recipient==G].book.unique())\n",
    "    for G in ['F', 'M', 'NGS']\n",
    "}\n"
   ]
  },
  {
   "cell_type": "code",
   "execution_count": 56,
   "metadata": {},
   "outputs": [
    {
     "data": {
      "text/plain": [
       "{'F': 103, 'M': 147, 'NGS': 123}"
      ]
     },
     "execution_count": 56,
     "metadata": {},
     "output_type": "execute_result"
    }
   ],
   "source": [
    "received_book_count"
   ]
  },
  {
   "cell_type": "code",
   "execution_count": 57,
   "metadata": {},
   "outputs": [],
   "source": [
    "speech_book_count = len(speakers.book.unique())"
   ]
  },
  {
   "cell_type": "code",
   "execution_count": 58,
   "metadata": {},
   "outputs": [
    {
     "data": {
      "text/plain": [
       "177"
      ]
     },
     "execution_count": 58,
     "metadata": {},
     "output_type": "execute_result"
    }
   ],
   "source": [
    "speech_book_count"
   ]
  },
  {
   "cell_type": "code",
   "execution_count": 59,
   "metadata": {},
   "outputs": [
    {
     "data": {
      "text/html": [
       "<div>\n",
       "<style scoped>\n",
       "    .dataframe tbody tr th:only-of-type {\n",
       "        vertical-align: middle;\n",
       "    }\n",
       "\n",
       "    .dataframe tbody tr th {\n",
       "        vertical-align: top;\n",
       "    }\n",
       "\n",
       "    .dataframe thead th {\n",
       "        text-align: right;\n",
       "    }\n",
       "</style>\n",
       "<table border=\"1\" class=\"dataframe\">\n",
       "  <thead>\n",
       "    <tr style=\"text-align: right;\">\n",
       "      <th></th>\n",
       "      <th>book</th>\n",
       "      <th>name</th>\n",
       "      <th>gender</th>\n",
       "      <th>human</th>\n",
       "      <th>alias_count</th>\n",
       "      <th>is_protagonist</th>\n",
       "      <th>is_mum</th>\n",
       "      <th>is_dad</th>\n",
       "      <th>is_granny</th>\n",
       "      <th>is_grandpa</th>\n",
       "    </tr>\n",
       "    <tr>\n",
       "      <th>index</th>\n",
       "      <th></th>\n",
       "      <th></th>\n",
       "      <th></th>\n",
       "      <th></th>\n",
       "      <th></th>\n",
       "      <th></th>\n",
       "      <th></th>\n",
       "      <th></th>\n",
       "      <th></th>\n",
       "      <th></th>\n",
       "    </tr>\n",
       "  </thead>\n",
       "  <tbody>\n",
       "    <tr>\n",
       "      <th>126</th>\n",
       "      <td>Boogie Bear</td>\n",
       "      <td>the biggest furriest one</td>\n",
       "      <td>F</td>\n",
       "      <td>NH</td>\n",
       "      <td>4</td>\n",
       "      <td>1</td>\n",
       "      <td>False</td>\n",
       "      <td>False</td>\n",
       "      <td>False</td>\n",
       "      <td>False</td>\n",
       "    </tr>\n",
       "    <tr>\n",
       "      <th>986</th>\n",
       "      <td>Boogie Bear</td>\n",
       "      <td>the little one</td>\n",
       "      <td>M</td>\n",
       "      <td>NH</td>\n",
       "      <td>2</td>\n",
       "      <td>0</td>\n",
       "      <td>False</td>\n",
       "      <td>False</td>\n",
       "      <td>False</td>\n",
       "      <td>False</td>\n",
       "    </tr>\n",
       "    <tr>\n",
       "      <th>987</th>\n",
       "      <td>Boogie Bear</td>\n",
       "      <td>the one with the  floppy ears</td>\n",
       "      <td>M</td>\n",
       "      <td>NH</td>\n",
       "      <td>1</td>\n",
       "      <td>0</td>\n",
       "      <td>False</td>\n",
       "      <td>False</td>\n",
       "      <td>False</td>\n",
       "      <td>False</td>\n",
       "    </tr>\n",
       "    <tr>\n",
       "      <th>988</th>\n",
       "      <td>Boogie Bear</td>\n",
       "      <td>cubs</td>\n",
       "      <td>NGS</td>\n",
       "      <td>NH</td>\n",
       "      <td>0</td>\n",
       "      <td>0</td>\n",
       "      <td>False</td>\n",
       "      <td>False</td>\n",
       "      <td>False</td>\n",
       "      <td>False</td>\n",
       "    </tr>\n",
       "    <tr>\n",
       "      <th>989</th>\n",
       "      <td>Boogie Bear</td>\n",
       "      <td>the one with the biggest,wettest nose</td>\n",
       "      <td>NGS</td>\n",
       "      <td>NH</td>\n",
       "      <td>0</td>\n",
       "      <td>0</td>\n",
       "      <td>False</td>\n",
       "      <td>False</td>\n",
       "      <td>False</td>\n",
       "      <td>False</td>\n",
       "    </tr>\n",
       "    <tr>\n",
       "      <th>990</th>\n",
       "      <td>Boogie Bear</td>\n",
       "      <td>the big one</td>\n",
       "      <td>NGS</td>\n",
       "      <td>NH</td>\n",
       "      <td>0</td>\n",
       "      <td>0</td>\n",
       "      <td>False</td>\n",
       "      <td>False</td>\n",
       "      <td>False</td>\n",
       "      <td>False</td>\n",
       "    </tr>\n",
       "    <tr>\n",
       "      <th>991</th>\n",
       "      <td>Boogie Bear</td>\n",
       "      <td>birds</td>\n",
       "      <td>NGS</td>\n",
       "      <td>NH</td>\n",
       "      <td>0</td>\n",
       "      <td>0</td>\n",
       "      <td>False</td>\n",
       "      <td>False</td>\n",
       "      <td>False</td>\n",
       "      <td>False</td>\n",
       "    </tr>\n",
       "    <tr>\n",
       "      <th>992</th>\n",
       "      <td>Boogie Bear</td>\n",
       "      <td>butterflies</td>\n",
       "      <td>NGS</td>\n",
       "      <td>NH</td>\n",
       "      <td>0</td>\n",
       "      <td>0</td>\n",
       "      <td>False</td>\n",
       "      <td>False</td>\n",
       "      <td>False</td>\n",
       "      <td>False</td>\n",
       "    </tr>\n",
       "    <tr>\n",
       "      <th>993</th>\n",
       "      <td>Boogie Bear</td>\n",
       "      <td>fish</td>\n",
       "      <td>NGS</td>\n",
       "      <td>NH</td>\n",
       "      <td>0</td>\n",
       "      <td>0</td>\n",
       "      <td>False</td>\n",
       "      <td>False</td>\n",
       "      <td>False</td>\n",
       "      <td>False</td>\n",
       "    </tr>\n",
       "  </tbody>\n",
       "</table>\n",
       "</div>"
      ],
      "text/plain": [
       "              book                                   name gender human  \\\n",
       "index                                                                    \n",
       "126    Boogie Bear               the biggest furriest one      F    NH   \n",
       "986    Boogie Bear                         the little one      M    NH   \n",
       "987    Boogie Bear          the one with the  floppy ears      M    NH   \n",
       "988    Boogie Bear                                   cubs    NGS    NH   \n",
       "989    Boogie Bear  the one with the biggest,wettest nose    NGS    NH   \n",
       "990    Boogie Bear                            the big one    NGS    NH   \n",
       "991    Boogie Bear                                  birds    NGS    NH   \n",
       "992    Boogie Bear                            butterflies    NGS    NH   \n",
       "993    Boogie Bear                                   fish    NGS    NH   \n",
       "\n",
       "       alias_count  is_protagonist  is_mum  is_dad  is_granny  is_grandpa  \n",
       "index                                                                      \n",
       "126              4               1   False   False      False       False  \n",
       "986              2               0   False   False      False       False  \n",
       "987              1               0   False   False      False       False  \n",
       "988              0               0   False   False      False       False  \n",
       "989              0               0   False   False      False       False  \n",
       "990              0               0   False   False      False       False  \n",
       "991              0               0   False   False      False       False  \n",
       "992              0               0   False   False      False       False  \n",
       "993              0               0   False   False      False       False  "
      ]
     },
     "execution_count": 59,
     "metadata": {},
     "output_type": "execute_result"
    }
   ],
   "source": [
    "characters[characters.book == 'Boogie Bear']"
   ]
  },
  {
   "cell_type": "code",
   "execution_count": 60,
   "metadata": {},
   "outputs": [
    {
     "data": {
      "text/plain": [
       "177"
      ]
     },
     "execution_count": 60,
     "metadata": {},
     "output_type": "execute_result"
    }
   ],
   "source": [
    "speech_book_count"
   ]
  },
  {
   "cell_type": "code",
   "execution_count": 61,
   "metadata": {},
   "outputs": [
    {
     "data": {
      "text/plain": [
       "{'F': 7816, 'M': 16450, 'NGS': 8060}"
      ]
     },
     "execution_count": 61,
     "metadata": {},
     "output_type": "execute_result"
    }
   ],
   "source": [
    "spoken_word_count"
   ]
  },
  {
   "cell_type": "code",
   "execution_count": 62,
   "metadata": {},
   "outputs": [],
   "source": [
    "summary_speech = pd.DataFrame({\n",
    "    'gender': spoken_word_count.keys(),\n",
    "    'total_spoken_words': spoken_word_count.values(),\n",
    "    'proportion_speech': [v / sum(spoken_word_count.values()) for v in spoken_word_count.values()],\n",
    "    'words_spoken_per_character': [v / c for v,c in zip(spoken_word_count.values(), gender_count.values())],\n",
    "    'words_received_per_character': [v / c for v,c in zip(received_word_count.values(), gender_count.values())],\n",
    "    'bechdel_books': speaker_book_count.values(),\n",
    "    'bechdel_proportions': [v / speech_book_count for v in speaker_book_count.values()],\n",
    "    'total_received_words': received_word_count.values(),\n",
    "    'received_proportion_speech': [v / sum(received_word_count.values()) for v in received_word_count.values()],\n",
    "    \n",
    "#     'human proportions': [v / sum(characters.human=='H') for v in human_count.values()],\n",
    "#     'nonhuman characters': nonhuman_count.values(),\n",
    "#     'nonhuman proportions': [v / sum(characters.human=='NH') for v in nonhuman_count.values()],\n",
    "#     'protagonists': protagonist_count.values(),\n",
    "#     'protagonist proportions': [v / sum(characters.is_protagonist==1) for v in protagonist_count.values()],\n",
    "#     'secondaries': secondary_count.values(),\n",
    "#     'secondary proportions': [v / sum(characters.is_protagonist==0) for v in secondary_count.values()],\n",
    "})"
   ]
  },
  {
   "cell_type": "code",
   "execution_count": 63,
   "metadata": {},
   "outputs": [
    {
     "data": {
      "text/html": [
       "<div>\n",
       "<style scoped>\n",
       "    .dataframe tbody tr th:only-of-type {\n",
       "        vertical-align: middle;\n",
       "    }\n",
       "\n",
       "    .dataframe tbody tr th {\n",
       "        vertical-align: top;\n",
       "    }\n",
       "\n",
       "    .dataframe thead th {\n",
       "        text-align: right;\n",
       "    }\n",
       "</style>\n",
       "<table border=\"1\" class=\"dataframe\">\n",
       "  <thead>\n",
       "    <tr style=\"text-align: right;\">\n",
       "      <th></th>\n",
       "      <th>gender</th>\n",
       "      <th>total_spoken_words</th>\n",
       "      <th>proportion_speech</th>\n",
       "      <th>words_spoken_per_character</th>\n",
       "      <th>words_received_per_character</th>\n",
       "      <th>bechdel_books</th>\n",
       "      <th>bechdel_proportions</th>\n",
       "      <th>total_received_words</th>\n",
       "      <th>received_proportion_speech</th>\n",
       "    </tr>\n",
       "  </thead>\n",
       "  <tbody>\n",
       "    <tr>\n",
       "      <th>0</th>\n",
       "      <td>F</td>\n",
       "      <td>7816</td>\n",
       "      <td>0.241787</td>\n",
       "      <td>23.684848</td>\n",
       "      <td>19.924242</td>\n",
       "      <td>33</td>\n",
       "      <td>0.186441</td>\n",
       "      <td>6575</td>\n",
       "      <td>0.205469</td>\n",
       "    </tr>\n",
       "    <tr>\n",
       "      <th>1</th>\n",
       "      <td>M</td>\n",
       "      <td>16450</td>\n",
       "      <td>0.508878</td>\n",
       "      <td>31.037736</td>\n",
       "      <td>28.007547</td>\n",
       "      <td>97</td>\n",
       "      <td>0.548023</td>\n",
       "      <td>14844</td>\n",
       "      <td>0.463875</td>\n",
       "    </tr>\n",
       "    <tr>\n",
       "      <th>2</th>\n",
       "      <td>NGS</td>\n",
       "      <td>8060</td>\n",
       "      <td>0.249335</td>\n",
       "      <td>13.410982</td>\n",
       "      <td>17.605657</td>\n",
       "      <td>51</td>\n",
       "      <td>0.288136</td>\n",
       "      <td>10581</td>\n",
       "      <td>0.330656</td>\n",
       "    </tr>\n",
       "  </tbody>\n",
       "</table>\n",
       "</div>"
      ],
      "text/plain": [
       "  gender  total_spoken_words  proportion_speech  words_spoken_per_character  \\\n",
       "0      F                7816           0.241787                   23.684848   \n",
       "1      M               16450           0.508878                   31.037736   \n",
       "2    NGS                8060           0.249335                   13.410982   \n",
       "\n",
       "   words_received_per_character  bechdel_books  bechdel_proportions  \\\n",
       "0                     19.924242             33             0.186441   \n",
       "1                     28.007547             97             0.548023   \n",
       "2                     17.605657             51             0.288136   \n",
       "\n",
       "   total_received_words  received_proportion_speech  \n",
       "0                  6575                    0.205469  \n",
       "1                 14844                    0.463875  \n",
       "2                 10581                    0.330656  "
      ]
     },
     "execution_count": 63,
     "metadata": {},
     "output_type": "execute_result"
    }
   ],
   "source": [
    "summary_speech"
   ]
  },
  {
   "cell_type": "code",
   "execution_count": 64,
   "metadata": {},
   "outputs": [
    {
     "data": {
      "text/plain": [
       "0.7741935483870968"
      ]
     },
     "execution_count": 64,
     "metadata": {},
     "output_type": "execute_result"
    }
   ],
   "source": [
    "24/31"
   ]
  },
  {
   "cell_type": "code",
   "execution_count": 65,
   "metadata": {},
   "outputs": [
    {
     "data": {
      "text/plain": [
       "666"
      ]
     },
     "execution_count": 65,
     "metadata": {},
     "output_type": "execute_result"
    }
   ],
   "source": [
    "(speakers.gender_speaker=='NGS').sum()"
   ]
  },
  {
   "cell_type": "code",
   "execution_count": 66,
   "metadata": {},
   "outputs": [
    {
     "data": {
      "text/plain": [
       "55.49579831932773"
      ]
     },
     "execution_count": 66,
     "metadata": {},
     "output_type": "execute_result"
    }
   ],
   "source": [
    "speakers[speakers.gender_speaker=='F'].spoken_word_count.mean()"
   ]
  },
  {
   "cell_type": "code",
   "execution_count": 67,
   "metadata": {},
   "outputs": [
    {
     "data": {
      "text/plain": [
       "56.83020134228188"
      ]
     },
     "execution_count": 67,
     "metadata": {},
     "output_type": "execute_result"
    }
   ],
   "source": [
    "speakers[speakers.gender_speaker=='M'].spoken_word_count.mean()"
   ]
  },
  {
   "cell_type": "code",
   "execution_count": 68,
   "metadata": {},
   "outputs": [
    {
     "data": {
      "text/plain": [
       "63.18168168168168"
      ]
     },
     "execution_count": 68,
     "metadata": {},
     "output_type": "execute_result"
    }
   ],
   "source": [
    "speakers[speakers.gender_speaker=='NGS'].spoken_word_count.mean()"
   ]
  },
  {
   "cell_type": "code",
   "execution_count": 69,
   "metadata": {},
   "outputs": [
    {
     "data": {
      "text/html": [
       "<div>\n",
       "<style scoped>\n",
       "    .dataframe tbody tr th:only-of-type {\n",
       "        vertical-align: middle;\n",
       "    }\n",
       "\n",
       "    .dataframe tbody tr th {\n",
       "        vertical-align: top;\n",
       "    }\n",
       "\n",
       "    .dataframe thead th {\n",
       "        text-align: right;\n",
       "    }\n",
       "</style>\n",
       "<table border=\"1\" class=\"dataframe\">\n",
       "  <thead>\n",
       "    <tr style=\"text-align: right;\">\n",
       "      <th></th>\n",
       "      <th></th>\n",
       "      <th>spoken_word_count</th>\n",
       "      <th>gender_speaker</th>\n",
       "    </tr>\n",
       "    <tr>\n",
       "      <th>book</th>\n",
       "      <th>speaker</th>\n",
       "      <th></th>\n",
       "      <th></th>\n",
       "    </tr>\n",
       "  </thead>\n",
       "  <tbody>\n",
       "    <tr>\n",
       "      <th>A Letter to Santa</th>\n",
       "      <th>Santa</th>\n",
       "      <td>20</td>\n",
       "      <td>M</td>\n",
       "    </tr>\n",
       "    <tr>\n",
       "      <th rowspan=\"2\" valign=\"top\">A Squash and a Squeeze</th>\n",
       "      <th>little old lady</th>\n",
       "      <td>1488</td>\n",
       "      <td>F</td>\n",
       "    </tr>\n",
       "    <tr>\n",
       "      <th>wise old man</th>\n",
       "      <td>87</td>\n",
       "      <td>M</td>\n",
       "    </tr>\n",
       "    <tr>\n",
       "      <th rowspan=\"2\" valign=\"top\">A Thing Called Snow</th>\n",
       "      <th>Bear</th>\n",
       "      <td>87</td>\n",
       "      <td>NGS</td>\n",
       "    </tr>\n",
       "    <tr>\n",
       "      <th>Caribou</th>\n",
       "      <td>81</td>\n",
       "      <td>NGS</td>\n",
       "    </tr>\n",
       "    <tr>\n",
       "      <th>...</th>\n",
       "      <th>...</th>\n",
       "      <td>...</td>\n",
       "      <td>...</td>\n",
       "    </tr>\n",
       "    <tr>\n",
       "      <th rowspan=\"5\" valign=\"top\">Zog and the Flying Doctors</th>\n",
       "      <th>Zog</th>\n",
       "      <td>30</td>\n",
       "      <td>M</td>\n",
       "    </tr>\n",
       "    <tr>\n",
       "      <th>king</th>\n",
       "      <td>370</td>\n",
       "      <td>M</td>\n",
       "    </tr>\n",
       "    <tr>\n",
       "      <th>knight</th>\n",
       "      <td>18</td>\n",
       "      <td>M</td>\n",
       "    </tr>\n",
       "    <tr>\n",
       "      <th>mermaid</th>\n",
       "      <td>36</td>\n",
       "      <td>F</td>\n",
       "    </tr>\n",
       "    <tr>\n",
       "      <th>unicorn</th>\n",
       "      <td>60</td>\n",
       "      <td>M</td>\n",
       "    </tr>\n",
       "  </tbody>\n",
       "</table>\n",
       "<p>894 rows × 2 columns</p>\n",
       "</div>"
      ],
      "text/plain": [
       "                                            spoken_word_count gender_speaker\n",
       "book                       speaker                                          \n",
       "A Letter to Santa          Santa                           20              M\n",
       "A Squash and a Squeeze     little old lady               1488              F\n",
       "                           wise old man                    87              M\n",
       "A Thing Called Snow        Bear                            87            NGS\n",
       "                           Caribou                         81            NGS\n",
       "...                                                       ...            ...\n",
       "Zog and the Flying Doctors Zog                             30              M\n",
       "                           king                           370              M\n",
       "                           knight                          18              M\n",
       "                           mermaid                         36              F\n",
       "                           unicorn                         60              M\n",
       "\n",
       "[894 rows x 2 columns]"
      ]
     },
     "execution_count": 69,
     "metadata": {},
     "output_type": "execute_result"
    }
   ],
   "source": [
    "words_by_speaker = speakers.groupby(['book', 'speaker']).agg({'spoken_word_count': sum, 'gender_speaker': min})\n",
    "words_by_speaker"
   ]
  },
  {
   "cell_type": "code",
   "execution_count": 70,
   "metadata": {},
   "outputs": [
    {
     "data": {
      "text/plain": [
       "178.48648648648648"
      ]
     },
     "execution_count": 70,
     "metadata": {},
     "output_type": "execute_result"
    }
   ],
   "source": [
    "(words_by_speaker[words_by_speaker.gender_speaker=='F'].spoken_word_count).mean()"
   ]
  },
  {
   "cell_type": "code",
   "execution_count": 71,
   "metadata": {},
   "outputs": [
    {
     "data": {
      "text/plain": [
       "243.32471264367817"
      ]
     },
     "execution_count": 71,
     "metadata": {},
     "output_type": "execute_result"
    }
   ],
   "source": [
    "(words_by_speaker[words_by_speaker.gender_speaker=='M'].spoken_word_count).mean()"
   ]
  },
  {
   "cell_type": "code",
   "execution_count": 72,
   "metadata": {},
   "outputs": [
    {
     "data": {
      "text/plain": [
       "142.6406779661017"
      ]
     },
     "execution_count": 72,
     "metadata": {},
     "output_type": "execute_result"
    }
   ],
   "source": [
    "(words_by_speaker[words_by_speaker.gender_speaker=='NGS'].spoken_word_count).mean()"
   ]
  },
  {
   "cell_type": "code",
   "execution_count": 73,
   "metadata": {},
   "outputs": [
    {
     "data": {
      "text/plain": [
       "<matplotlib.legend.Legend at 0x7faaeb999bd0>"
      ]
     },
     "execution_count": 73,
     "metadata": {},
     "output_type": "execute_result"
    },
    {
     "data": {
      "image/png": "[encoded data removed]",
      "text/plain": [
       "<Figure size 640x480 with 1 Axes>"
      ]
     },
     "metadata": {},
     "output_type": "display_data"
    }
   ],
   "source": [
    "plt.hist(words_by_speaker[words_by_speaker.gender_speaker=='NGS'].spoken_word_count, bins=20, label='NGS', alpha=0.2)\n",
    "plt.hist(words_by_speaker[words_by_speaker.gender_speaker=='M'].spoken_word_count, bins=20, label='M', alpha=0.2)\n",
    "plt.hist(words_by_speaker[words_by_speaker.gender_speaker=='F'].spoken_word_count, bins=20, label='F', alpha=0.2)\n",
    "\n",
    "plt.legend()\n",
    "# plt.hist(speakers[speakers.gender_speaker=='NGS'].spoken_word_count, bins=20)\n",
    "# plt.hist(speakers[speakers.gender_speaker=='M'].spoken_word_count, bins=20)\n",
    "# plt.hist(speakers[speakers.gender_speaker=='F'].spoken_word_count, bins=20)\n"
   ]
  },
  {
   "cell_type": "markdown",
   "metadata": {},
   "source": [
    "### More Bechdel:"
   ]
  },
  {
   "cell_type": "code",
   "execution_count": 74,
   "metadata": {},
   "outputs": [
    {
     "data": {
      "text/html": [
       "<div>\n",
       "<style scoped>\n",
       "    .dataframe tbody tr th:only-of-type {\n",
       "        vertical-align: middle;\n",
       "    }\n",
       "\n",
       "    .dataframe tbody tr th {\n",
       "        vertical-align: top;\n",
       "    }\n",
       "\n",
       "    .dataframe thead th {\n",
       "        text-align: right;\n",
       "    }\n",
       "</style>\n",
       "<table border=\"1\" class=\"dataframe\">\n",
       "  <thead>\n",
       "    <tr style=\"text-align: right;\">\n",
       "      <th></th>\n",
       "      <th>book</th>\n",
       "      <th>name</th>\n",
       "      <th>gender</th>\n",
       "      <th>human</th>\n",
       "      <th>alias_count</th>\n",
       "      <th>is_protagonist</th>\n",
       "      <th>is_mum</th>\n",
       "      <th>is_dad</th>\n",
       "      <th>is_granny</th>\n",
       "      <th>is_grandpa</th>\n",
       "      <th>spoken_word_count</th>\n",
       "    </tr>\n",
       "  </thead>\n",
       "  <tbody>\n",
       "    <tr>\n",
       "      <th>0</th>\n",
       "      <td>Owl Babies</td>\n",
       "      <td>Sarah</td>\n",
       "      <td>F</td>\n",
       "      <td>NH</td>\n",
       "      <td>0</td>\n",
       "      <td>1</td>\n",
       "      <td>False</td>\n",
       "      <td>False</td>\n",
       "      <td>False</td>\n",
       "      <td>False</td>\n",
       "      <td>172.0</td>\n",
       "    </tr>\n",
       "    <tr>\n",
       "      <th>1</th>\n",
       "      <td>Owl Babies</td>\n",
       "      <td>Percy</td>\n",
       "      <td>M</td>\n",
       "      <td>NH</td>\n",
       "      <td>0</td>\n",
       "      <td>1</td>\n",
       "      <td>False</td>\n",
       "      <td>False</td>\n",
       "      <td>False</td>\n",
       "      <td>False</td>\n",
       "      <td>88.0</td>\n",
       "    </tr>\n",
       "    <tr>\n",
       "      <th>2</th>\n",
       "      <td>Owl Babies</td>\n",
       "      <td>Bill</td>\n",
       "      <td>M</td>\n",
       "      <td>NH</td>\n",
       "      <td>0</td>\n",
       "      <td>1</td>\n",
       "      <td>False</td>\n",
       "      <td>False</td>\n",
       "      <td>False</td>\n",
       "      <td>False</td>\n",
       "      <td>96.0</td>\n",
       "    </tr>\n",
       "    <tr>\n",
       "      <th>3</th>\n",
       "      <td>Where's My Teddy</td>\n",
       "      <td>Eddy</td>\n",
       "      <td>M</td>\n",
       "      <td>H</td>\n",
       "      <td>0</td>\n",
       "      <td>1</td>\n",
       "      <td>False</td>\n",
       "      <td>False</td>\n",
       "      <td>False</td>\n",
       "      <td>False</td>\n",
       "      <td>215.0</td>\n",
       "    </tr>\n",
       "    <tr>\n",
       "      <th>4</th>\n",
       "      <td>We're Going on a Bear Hunt</td>\n",
       "      <td>we</td>\n",
       "      <td>NGS</td>\n",
       "      <td>H</td>\n",
       "      <td>0</td>\n",
       "      <td>1</td>\n",
       "      <td>False</td>\n",
       "      <td>False</td>\n",
       "      <td>False</td>\n",
       "      <td>False</td>\n",
       "      <td>NaN</td>\n",
       "    </tr>\n",
       "    <tr>\n",
       "      <th>...</th>\n",
       "      <td>...</td>\n",
       "      <td>...</td>\n",
       "      <td>...</td>\n",
       "      <td>...</td>\n",
       "      <td>...</td>\n",
       "      <td>...</td>\n",
       "      <td>...</td>\n",
       "      <td>...</td>\n",
       "      <td>...</td>\n",
       "      <td>...</td>\n",
       "      <td>...</td>\n",
       "    </tr>\n",
       "    <tr>\n",
       "      <th>1456</th>\n",
       "      <td>Jack and the Beanstalk</td>\n",
       "      <td>mother</td>\n",
       "      <td>F</td>\n",
       "      <td>H</td>\n",
       "      <td>0</td>\n",
       "      <td>0</td>\n",
       "      <td>True</td>\n",
       "      <td>False</td>\n",
       "      <td>False</td>\n",
       "      <td>False</td>\n",
       "      <td>84.0</td>\n",
       "    </tr>\n",
       "    <tr>\n",
       "      <th>1457</th>\n",
       "      <td>Jack and the Beanstalk</td>\n",
       "      <td>old man</td>\n",
       "      <td>M</td>\n",
       "      <td>H</td>\n",
       "      <td>0</td>\n",
       "      <td>0</td>\n",
       "      <td>False</td>\n",
       "      <td>False</td>\n",
       "      <td>False</td>\n",
       "      <td>False</td>\n",
       "      <td>216.0</td>\n",
       "    </tr>\n",
       "    <tr>\n",
       "      <th>1458</th>\n",
       "      <td>Jack and the Beanstalk</td>\n",
       "      <td>goose</td>\n",
       "      <td>F</td>\n",
       "      <td>NH</td>\n",
       "      <td>0</td>\n",
       "      <td>0</td>\n",
       "      <td>False</td>\n",
       "      <td>False</td>\n",
       "      <td>False</td>\n",
       "      <td>False</td>\n",
       "      <td>136.0</td>\n",
       "    </tr>\n",
       "    <tr>\n",
       "      <th>1459</th>\n",
       "      <td>Jack and the Beanstalk</td>\n",
       "      <td>giant</td>\n",
       "      <td>M</td>\n",
       "      <td>NH</td>\n",
       "      <td>0</td>\n",
       "      <td>0</td>\n",
       "      <td>False</td>\n",
       "      <td>False</td>\n",
       "      <td>False</td>\n",
       "      <td>False</td>\n",
       "      <td>154.0</td>\n",
       "    </tr>\n",
       "    <tr>\n",
       "      <th>1460</th>\n",
       "      <td>The Three Little Pigs</td>\n",
       "      <td>Wolf</td>\n",
       "      <td>M</td>\n",
       "      <td>NH</td>\n",
       "      <td>0</td>\n",
       "      <td>0</td>\n",
       "      <td>False</td>\n",
       "      <td>False</td>\n",
       "      <td>False</td>\n",
       "      <td>False</td>\n",
       "      <td>356.0</td>\n",
       "    </tr>\n",
       "  </tbody>\n",
       "</table>\n",
       "<p>1461 rows × 11 columns</p>\n",
       "</div>"
      ],
      "text/plain": [
       "                            book     name gender human  alias_count  \\\n",
       "0                     Owl Babies    Sarah      F    NH            0   \n",
       "1                     Owl Babies    Percy      M    NH            0   \n",
       "2                     Owl Babies     Bill      M    NH            0   \n",
       "3               Where's My Teddy     Eddy      M     H            0   \n",
       "4     We're Going on a Bear Hunt       we    NGS     H            0   \n",
       "...                          ...      ...    ...   ...          ...   \n",
       "1456      Jack and the Beanstalk   mother      F     H            0   \n",
       "1457      Jack and the Beanstalk  old man      M     H            0   \n",
       "1458      Jack and the Beanstalk    goose      F    NH            0   \n",
       "1459      Jack and the Beanstalk    giant      M    NH            0   \n",
       "1460       The Three Little Pigs     Wolf      M    NH            0   \n",
       "\n",
       "      is_protagonist  is_mum  is_dad  is_granny  is_grandpa  spoken_word_count  \n",
       "0                  1   False   False      False       False              172.0  \n",
       "1                  1   False   False      False       False               88.0  \n",
       "2                  1   False   False      False       False               96.0  \n",
       "3                  1   False   False      False       False              215.0  \n",
       "4                  1   False   False      False       False                NaN  \n",
       "...              ...     ...     ...        ...         ...                ...  \n",
       "1456               0    True   False      False       False               84.0  \n",
       "1457               0   False   False      False       False              216.0  \n",
       "1458               0   False   False      False       False              136.0  \n",
       "1459               0   False   False      False       False              154.0  \n",
       "1460               0   False   False      False       False              356.0  \n",
       "\n",
       "[1461 rows x 11 columns]"
      ]
     },
     "execution_count": 74,
     "metadata": {},
     "output_type": "execute_result"
    }
   ],
   "source": [
    "_char_merge = characters.merge(\n",
    "    speakers.groupby(['book', 'speaker_matched']).agg({'spoken_word_count':sum}).reset_index().rename(columns={'speaker_matched':'name'}),\n",
    "    on=['book', 'name'],\n",
    "    how='left'\n",
    ")\n",
    "_char_merge"
   ]
  },
  {
   "cell_type": "code",
   "execution_count": 75,
   "metadata": {},
   "outputs": [
    {
     "data": {
      "text/plain": [
       "130"
      ]
     },
     "execution_count": 75,
     "metadata": {},
     "output_type": "execute_result"
    }
   ],
   "source": [
    "_char_merge[_char_merge.gender=='F'].spoken_word_count.isna().sum()"
   ]
  },
  {
   "cell_type": "code",
   "execution_count": 76,
   "metadata": {},
   "outputs": [
    {
     "data": {
      "text/plain": [
       "214"
      ]
     },
     "execution_count": 76,
     "metadata": {},
     "output_type": "execute_result"
    }
   ],
   "source": [
    "_char_merge[_char_merge.gender=='M'].spoken_word_count.isna().sum()"
   ]
  },
  {
   "cell_type": "code",
   "execution_count": 77,
   "metadata": {},
   "outputs": [
    {
     "data": {
      "text/plain": [
       "396"
      ]
     },
     "execution_count": 77,
     "metadata": {},
     "output_type": "execute_result"
    }
   ],
   "source": [
    "_char_merge[_char_merge.gender=='NGS'].spoken_word_count.isna().sum()"
   ]
  },
  {
   "cell_type": "code",
   "execution_count": 78,
   "metadata": {},
   "outputs": [],
   "source": [
    "MS = speakers.spoken_word_count.max()"
   ]
  },
  {
   "cell_type": "code",
   "execution_count": 79,
   "metadata": {},
   "outputs": [
    {
     "data": {
      "text/plain": [
       "2360"
      ]
     },
     "execution_count": 79,
     "metadata": {},
     "output_type": "execute_result"
    }
   ],
   "source": [
    "MS"
   ]
  },
  {
   "cell_type": "code",
   "execution_count": 170,
   "metadata": {},
   "outputs": [
    {
     "data": {
      "text/plain": [
       "0.22598870056497175"
      ]
     },
     "execution_count": 170,
     "metadata": {},
     "output_type": "execute_result"
    }
   ],
   "source": [
    "[f/speech_book_count for f in _m_books][10]"
   ]
  },
  {
   "cell_type": "code",
   "execution_count": 82,
   "metadata": {},
   "outputs": [],
   "source": [
    "_thresh = []\n",
    "_f_books = []\n",
    "_m_books = []\n",
    "_ngs_books = []\n",
    "\n",
    "for threshold in range(0,MS,10):\n",
    "    _thresh.append(threshold)\n",
    "    _speakers = speakers[speakers.spoken_word_count>threshold]\n",
    "    _f_books.append(\n",
    "        len(_speakers[\n",
    "            (_speakers.gender_speaker=='F')*(_speakers.gender_recipient=='F')\n",
    "        ].book.unique())\n",
    "    )\n",
    "    _m_books.append(\n",
    "        len(_speakers[\n",
    "            (_speakers.gender_speaker=='M')*(_speakers.gender_recipient=='M')\n",
    "        ].book.unique())\n",
    "    )\n",
    "    _ngs_books.append(\n",
    "        len(_speakers[\n",
    "            (_speakers.gender_speaker=='NGS')*(_speakers.gender_recipient=='NGS')\n",
    "        ].book.unique())\n",
    "    )"
   ]
  },
  {
   "cell_type": "code",
   "execution_count": 88,
   "metadata": {},
   "outputs": [
    {
     "data": {
      "image/png": "[encoded data removed]",
      "text/plain": [
       "<Figure size 640x480 with 2 Axes>"
      ]
     },
     "metadata": {},
     "output_type": "display_data"
    }
   ],
   "source": [
    "ax1 = plt.subplot(2,1,1)\n",
    "plt.plot(_thresh, [f/speech_book_count for f in _f_books], label='F-to-F', linestyle='-', color='k')\n",
    "plt.plot(_thresh, [f/speech_book_count for f in _m_books], label='M-to-M', linestyle=':', color='k')\n",
    "plt.plot(_thresh, [f/speech_book_count for f in _ngs_books], label='I-to-I', linestyle='--', color='k')\n",
    "plt.plot(_thresh, [0 for f in _ngs_books], label='NBT-to-NBT', linestyle='-.', color='k')\n",
    "plt.legend()\n",
    "plt.xscale('log')\n",
    "# plt.xlabel('speech section length threshold')\n",
    "plt.ylabel('fraction of books')\n",
    "\n",
    "ax2 = plt.subplot(2,1,2, sharex=ax1)\n",
    "bplot = plt.boxplot(\n",
    "    [\n",
    "        speakers[\n",
    "            (speakers.gender_speaker=='F')*(speakers.gender_recipient=='F')\n",
    "        ].groupby('book').agg({'spoken_word_count': max}).spoken_word_count,\n",
    "        speakers[\n",
    "            (speakers.gender_speaker=='M')*(speakers.gender_recipient=='M')\n",
    "        ].groupby('book').agg({'spoken_word_count': max}).spoken_word_count,\n",
    "        speakers[\n",
    "            (speakers.gender_speaker=='NGS')*(speakers.gender_recipient=='NGS')\n",
    "        ].groupby('book').agg({'spoken_word_count': max}).spoken_word_count,\n",
    "        [0]\n",
    "    ],\n",
    "    showmeans=False,\n",
    "    vert=False,\n",
    "    patch_artist=True\n",
    ");\n",
    "for median in bplot['medians']:\n",
    "    median.set_color('black')\n",
    "# colours = ['blue', 'orange', 'green']\n",
    "colours = ['white' for i in range(3)]\n",
    "hatching = ['/', '.', '*']\n",
    "for patch, color in zip(bplot['boxes'], colours):\n",
    "    patch.set_facecolor(color)\n",
    "    patch.set_alpha(0.6)\n",
    "# for patch, hatch in zip(bplot['boxes'], hatching):\n",
    "#     patch.set_hatch(hatch)\n",
    "# #     h.set_hatch_linewidth(2)\n",
    "    \n",
    "plt.yticks([1,2,3,4], ['F-to-F', 'M-to-M', 'I-to-I', 'NBT-to-NBT'])\n",
    "plt.xscale('log')\n",
    "plt.xlabel('speech length length')\n",
    "plt.tight_layout()\n",
    "plt.savefig(\"bechdel_chapter_fig.png\")"
   ]
  },
  {
   "cell_type": "code",
   "execution_count": null,
   "metadata": {},
   "outputs": [],
   "source": []
  },
  {
   "cell_type": "code",
   "execution_count": 2,
   "metadata": {},
   "outputs": [
    {
     "ename": "NameError",
     "evalue": "name 'summary_character' is not defined",
     "output_type": "error",
     "traceback": [
      "\u001b[0;31m---------------------------------------------------------------------------\u001b[0m",
      "\u001b[0;31mNameError\u001b[0m                                 Traceback (most recent call last)",
      "\u001b[0;32m/tmp/ipykernel_27160/3414552222.py\u001b[0m in \u001b[0;36m<module>\u001b[0;34m\u001b[0m\n\u001b[0;32m----> 1\u001b[0;31m \u001b[0msummary_character\u001b[0m\u001b[0;34m\u001b[0m\u001b[0;34m\u001b[0m\u001b[0m\n\u001b[0m",
      "\u001b[0;31mNameError\u001b[0m: name 'summary_character' is not defined"
     ]
    }
   ],
   "source": [
    "summary_character"
   ]
  },
  {
   "cell_type": "code",
   "execution_count": 64,
   "metadata": {},
   "outputs": [],
   "source": [
    "summary_character.loc[len(summary_character)] = 0"
   ]
  },
  {
   "cell_type": "code",
   "execution_count": 65,
   "metadata": {},
   "outputs": [
    {
     "data": {
      "image/png": "[encoded data removed]",
      "text/plain": [
       "<Figure size 750x450 with 1 Axes>"
      ]
     },
     "metadata": {},
     "output_type": "display_data"
    }
   ],
   "source": [
    "plt.rcParams[\"figure.figsize\"] = [7.50, 4.50]\n",
    "plt.rcParams[\"figure.autolayout\"] = True\n",
    "\n",
    "gender = ['Female', 'Male', 'NGS', 'Transgender']\n",
    "human_protagonists = summary_character['human protagonists']\n",
    "nonhuman_protagonists = summary_character['nonhuman protagonists']\n",
    "human_secondaries = summary_character['human secondaries']\n",
    "nonhuman_secondaries = summary_character['nonhuman secondaries']\n",
    "\n",
    "\n",
    "b1 = plt.barh(gender, human_protagonists, color=\"salmon\")\n",
    "b2 = plt.barh(gender, nonhuman_protagonists, left=human_protagonists, color=\"grey\")\n",
    "b3 = plt.barh(gender, human_secondaries, left=human_protagonists + nonhuman_protagonists, color=\"gold\")\n",
    "b4 = plt.barh(gender, nonhuman_secondaries, left=human_protagonists + nonhuman_protagonists + human_secondaries, color=\"powderblue\")\n",
    "\n",
    "\n",
    "plt.legend([b1, b2, b3, b4], [\"Human protagonists\", \"Nonhuman protagonists\", \"Human secondaries\", \"Nonhuman secondaries\", ])#, title=\"Characters\")#, loc=\"upper right\")\n",
    "plt.xlabel('number of characters')\n",
    "plt.tight_layout()\n",
    "plt.show()"
   ]
  },
  {
   "cell_type": "code",
   "execution_count": 1,
   "metadata": {},
   "outputs": [
    {
     "ename": "NameError",
     "evalue": "name 'human_protagonists' is not defined",
     "output_type": "error",
     "traceback": [
      "\u001b[0;31m---------------------------------------------------------------------------\u001b[0m",
      "\u001b[0;31mNameError\u001b[0m                                 Traceback (most recent call last)",
      "\u001b[0;32m/tmp/ipykernel_27160/1653549350.py\u001b[0m in \u001b[0;36m<module>\u001b[0;34m\u001b[0m\n\u001b[1;32m      1\u001b[0m \u001b[0mcolours\u001b[0m \u001b[0;34m=\u001b[0m \u001b[0;34m[\u001b[0m\u001b[0;34m'salmon'\u001b[0m\u001b[0;34m,\u001b[0m \u001b[0;34m'grey'\u001b[0m\u001b[0;34m,\u001b[0m \u001b[0;34m'gold'\u001b[0m\u001b[0;34m,\u001b[0m \u001b[0;34m'powderblue'\u001b[0m\u001b[0;34m]\u001b[0m\u001b[0;34m\u001b[0m\u001b[0;34m\u001b[0m\u001b[0m\n\u001b[0;32m----> 2\u001b[0;31m \u001b[0mdata\u001b[0m \u001b[0;34m=\u001b[0m \u001b[0;34m[\u001b[0m\u001b[0mhuman_protagonists\u001b[0m\u001b[0;34m,\u001b[0m \u001b[0mnonhuman_protagonists\u001b[0m\u001b[0;34m,\u001b[0m \u001b[0mhuman_secondaries\u001b[0m\u001b[0;34m,\u001b[0m \u001b[0mnonhuman_secondaries\u001b[0m\u001b[0;34m]\u001b[0m\u001b[0;34m\u001b[0m\u001b[0;34m\u001b[0m\u001b[0m\n\u001b[0m\u001b[1;32m      3\u001b[0m \u001b[0mlabels\u001b[0m \u001b[0;34m=\u001b[0m \u001b[0;34m[\u001b[0m\u001b[0;34m\"Human protagonists\"\u001b[0m\u001b[0;34m,\u001b[0m \u001b[0;34m\"Nonhuman protagonists\"\u001b[0m\u001b[0;34m,\u001b[0m \u001b[0;34m\"Human secondaries\"\u001b[0m\u001b[0;34m,\u001b[0m \u001b[0;34m\"Nonhuman secondaries\"\u001b[0m\u001b[0;34m]\u001b[0m\u001b[0;34m\u001b[0m\u001b[0;34m\u001b[0m\u001b[0m\n\u001b[1;32m      4\u001b[0m \u001b[0;32mfor\u001b[0m \u001b[0mi\u001b[0m \u001b[0;32min\u001b[0m \u001b[0mrange\u001b[0m\u001b[0;34m(\u001b[0m\u001b[0;36m4\u001b[0m\u001b[0;34m)\u001b[0m\u001b[0;34m:\u001b[0m\u001b[0;34m\u001b[0m\u001b[0;34m\u001b[0m\u001b[0m\n\u001b[1;32m      5\u001b[0m     \u001b[0mplt\u001b[0m\u001b[0;34m.\u001b[0m\u001b[0msubplot\u001b[0m\u001b[0;34m(\u001b[0m\u001b[0;36m2\u001b[0m\u001b[0;34m,\u001b[0m \u001b[0;36m2\u001b[0m\u001b[0;34m,\u001b[0m \u001b[0mi\u001b[0m\u001b[0;34m+\u001b[0m \u001b[0;36m1\u001b[0m\u001b[0;34m)\u001b[0m\u001b[0;34m\u001b[0m\u001b[0;34m\u001b[0m\u001b[0m\n",
      "\u001b[0;31mNameError\u001b[0m: name 'human_protagonists' is not defined"
     ]
    }
   ],
   "source": [
    "colours = ['salmon', 'grey', 'gold', 'powderblue']\n",
    "data = [human_protagonists, nonhuman_protagonists, human_secondaries, nonhuman_secondaries]\n",
    "labels = [\"Human protagonists\", \"Nonhuman protagonists\", \"Human secondaries\", \"Nonhuman secondaries\"]\n",
    "for i in range(4):\n",
    "    plt.subplot(2, 2, i+ 1)\n",
    "    plt.barh(gender, data[i], color=colours[i])\n",
    "    \n",
    "    if i > 1:\n",
    "        plt.xlabel('number of characters')\n",
    "    plt.title(labels[i])\n",
    "    plt.tight_layout()"
   ]
  },
  {
   "cell_type": "code",
   "execution_count": 76,
   "metadata": {},
   "outputs": [
    {
     "data": {
      "text/html": [
       "<div>\n",
       "<style scoped>\n",
       "    .dataframe tbody tr th:only-of-type {\n",
       "        vertical-align: middle;\n",
       "    }\n",
       "\n",
       "    .dataframe tbody tr th {\n",
       "        vertical-align: top;\n",
       "    }\n",
       "\n",
       "    .dataframe thead th {\n",
       "        text-align: right;\n",
       "    }\n",
       "</style>\n",
       "<table border=\"1\" class=\"dataframe\">\n",
       "  <thead>\n",
       "    <tr style=\"text-align: right;\">\n",
       "      <th></th>\n",
       "      <th>book</th>\n",
       "      <th>speech_section_id</th>\n",
       "      <th>speaker</th>\n",
       "      <th>recipient</th>\n",
       "      <th>speaker_matched</th>\n",
       "      <th>recipient_matched</th>\n",
       "      <th>speech_text</th>\n",
       "      <th>spoken_words_only</th>\n",
       "      <th>spoken_word_count</th>\n",
       "      <th>chunk_titles</th>\n",
       "      <th>...</th>\n",
       "      <th>human_recipient</th>\n",
       "      <th>alias_count_recipient</th>\n",
       "      <th>speaker_is_mum</th>\n",
       "      <th>speaker_is_dad</th>\n",
       "      <th>speaker_is_granny</th>\n",
       "      <th>speaker_is_grandpa</th>\n",
       "      <th>recipient_is_mum</th>\n",
       "      <th>recipient_is_dad</th>\n",
       "      <th>recipient_is_granny</th>\n",
       "      <th>recipient_is_grandpa</th>\n",
       "    </tr>\n",
       "  </thead>\n",
       "  <tbody>\n",
       "    <tr>\n",
       "      <th>0</th>\n",
       "      <td>The Night Before Christmas</td>\n",
       "      <td>0</td>\n",
       "      <td>St. Nicholas</td>\n",
       "      <td>Reindeer</td>\n",
       "      <td>St. Nicholas</td>\n",
       "      <td>Reindeer</td>\n",
       "      <td>\"Now, Dasher! now, Dancer!\\nnow, Prancer and V...</td>\n",
       "      <td>Now, Dasher! now, Dancer! now, Prancer and Vix...</td>\n",
       "      <td>183</td>\n",
       "      <td>The Night Before Christmas</td>\n",
       "      <td>...</td>\n",
       "      <td>NH</td>\n",
       "      <td>0.0</td>\n",
       "      <td>False</td>\n",
       "      <td>False</td>\n",
       "      <td>False</td>\n",
       "      <td>False</td>\n",
       "      <td>False</td>\n",
       "      <td>False</td>\n",
       "      <td>False</td>\n",
       "      <td>False</td>\n",
       "    </tr>\n",
       "    <tr>\n",
       "      <th>1</th>\n",
       "      <td>The Night Before Christmas</td>\n",
       "      <td>1</td>\n",
       "      <td>St. Nicholas</td>\n",
       "      <td>Everyone</td>\n",
       "      <td>St. Nicholas</td>\n",
       "      <td>Everyone</td>\n",
       "      <td>\"Happy\\nChristmas to all, and to all a good\\nn...</td>\n",
       "      <td>Happy Christmas to all, and to all a good night!</td>\n",
       "      <td>48</td>\n",
       "      <td>The Night Before Christmas</td>\n",
       "      <td>...</td>\n",
       "      <td>H</td>\n",
       "      <td>0.0</td>\n",
       "      <td>False</td>\n",
       "      <td>False</td>\n",
       "      <td>False</td>\n",
       "      <td>False</td>\n",
       "      <td>False</td>\n",
       "      <td>False</td>\n",
       "      <td>False</td>\n",
       "      <td>False</td>\n",
       "    </tr>\n",
       "    <tr>\n",
       "      <th>2</th>\n",
       "      <td>Sugarlump and the Unicorn</td>\n",
       "      <td>0</td>\n",
       "      <td>Sugarlump</td>\n",
       "      <td>himself</td>\n",
       "      <td>Sugarlump</td>\n",
       "      <td>Sugarlump</td>\n",
       "      <td>\"Here in the children's bedroom\\nIs where I wa...</td>\n",
       "      <td>Here in the children's bedroom Is where I want...</td>\n",
       "      <td>106</td>\n",
       "      <td>Sugarlump and the Unicorn</td>\n",
       "      <td>...</td>\n",
       "      <td>NH</td>\n",
       "      <td>0.0</td>\n",
       "      <td>False</td>\n",
       "      <td>False</td>\n",
       "      <td>False</td>\n",
       "      <td>False</td>\n",
       "      <td>False</td>\n",
       "      <td>False</td>\n",
       "      <td>False</td>\n",
       "      <td>False</td>\n",
       "    </tr>\n",
       "    <tr>\n",
       "      <th>3</th>\n",
       "      <td>Sugarlump and the Unicorn</td>\n",
       "      <td>1</td>\n",
       "      <td>Sugarlump</td>\n",
       "      <td>himself</td>\n",
       "      <td>Sugarlump</td>\n",
       "      <td>Sugarlump</td>\n",
       "      <td>\"Oh to be out in the big wide world!\\nI wish I...</td>\n",
       "      <td>Oh to be out in the big wide world! I wish I c...</td>\n",
       "      <td>56</td>\n",
       "      <td>Sugarlump and the Unicorn</td>\n",
       "      <td>...</td>\n",
       "      <td>NH</td>\n",
       "      <td>0.0</td>\n",
       "      <td>False</td>\n",
       "      <td>False</td>\n",
       "      <td>False</td>\n",
       "      <td>False</td>\n",
       "      <td>False</td>\n",
       "      <td>False</td>\n",
       "      <td>False</td>\n",
       "      <td>False</td>\n",
       "    </tr>\n",
       "    <tr>\n",
       "      <th>4</th>\n",
       "      <td>Sugarlump and the Unicorn</td>\n",
       "      <td>2</td>\n",
       "      <td>unicorn</td>\n",
       "      <td>Sugarlump</td>\n",
       "      <td>unicorn</td>\n",
       "      <td>Sugarlump</td>\n",
       "      <td>\"Done!\" came a voice, and there stood a beast\\...</td>\n",
       "      <td>Done! I can grant horses' wishes.</td>\n",
       "      <td>33</td>\n",
       "      <td>Sugarlump and the Unicorn</td>\n",
       "      <td>...</td>\n",
       "      <td>NH</td>\n",
       "      <td>0.0</td>\n",
       "      <td>False</td>\n",
       "      <td>False</td>\n",
       "      <td>False</td>\n",
       "      <td>False</td>\n",
       "      <td>False</td>\n",
       "      <td>False</td>\n",
       "      <td>False</td>\n",
       "      <td>False</td>\n",
       "    </tr>\n",
       "    <tr>\n",
       "      <th>...</th>\n",
       "      <td>...</td>\n",
       "      <td>...</td>\n",
       "      <td>...</td>\n",
       "      <td>...</td>\n",
       "      <td>...</td>\n",
       "      <td>...</td>\n",
       "      <td>...</td>\n",
       "      <td>...</td>\n",
       "      <td>...</td>\n",
       "      <td>...</td>\n",
       "      <td>...</td>\n",
       "      <td>...</td>\n",
       "      <td>...</td>\n",
       "      <td>...</td>\n",
       "      <td>...</td>\n",
       "      <td>...</td>\n",
       "      <td>...</td>\n",
       "      <td>...</td>\n",
       "      <td>...</td>\n",
       "      <td>...</td>\n",
       "      <td>...</td>\n",
       "    </tr>\n",
       "    <tr>\n",
       "      <th>3908</th>\n",
       "      <td>How The Grinch Stole Christmas</td>\n",
       "      <td>4</td>\n",
       "      <td>Grinch</td>\n",
       "      <td>Himself</td>\n",
       "      <td>Grinch</td>\n",
       "      <td>Grinch</td>\n",
       "      <td>All I need is a reindeer...</td>\n",
       "      <td>All I need is a reindeer...</td>\n",
       "      <td>27</td>\n",
       "      <td>How The Grinch Stole Christmas</td>\n",
       "      <td>...</td>\n",
       "      <td>NH</td>\n",
       "      <td>0.0</td>\n",
       "      <td>False</td>\n",
       "      <td>False</td>\n",
       "      <td>False</td>\n",
       "      <td>False</td>\n",
       "      <td>False</td>\n",
       "      <td>False</td>\n",
       "      <td>False</td>\n",
       "      <td>False</td>\n",
       "    </tr>\n",
       "    <tr>\n",
       "      <th>3909</th>\n",
       "      <td>How The Grinch Stole Christmas</td>\n",
       "      <td>5</td>\n",
       "      <td>Grinch</td>\n",
       "      <td>Himself</td>\n",
       "      <td>Grinch</td>\n",
       "      <td>Grinch</td>\n",
       "      <td>If I can't find a reindeer, I'll make one inst...</td>\n",
       "      <td>If I can't find a reindeer, I'll make one inst...</td>\n",
       "      <td>50</td>\n",
       "      <td>How The Grinch Stole Christmas</td>\n",
       "      <td>...</td>\n",
       "      <td>NH</td>\n",
       "      <td>0.0</td>\n",
       "      <td>False</td>\n",
       "      <td>False</td>\n",
       "      <td>False</td>\n",
       "      <td>False</td>\n",
       "      <td>False</td>\n",
       "      <td>False</td>\n",
       "      <td>False</td>\n",
       "      <td>False</td>\n",
       "    </tr>\n",
       "    <tr>\n",
       "      <th>3910</th>\n",
       "      <td>How The Grinch Stole Christmas</td>\n",
       "      <td>6</td>\n",
       "      <td>Grinch</td>\n",
       "      <td>Max (the dog)</td>\n",
       "      <td>Grinch</td>\n",
       "      <td>Max</td>\n",
       "      <td>Giddap!</td>\n",
       "      <td>Giddap!</td>\n",
       "      <td>7</td>\n",
       "      <td>How The Grinch Stole Christmas</td>\n",
       "      <td>...</td>\n",
       "      <td>NH</td>\n",
       "      <td>0.0</td>\n",
       "      <td>False</td>\n",
       "      <td>False</td>\n",
       "      <td>False</td>\n",
       "      <td>False</td>\n",
       "      <td>False</td>\n",
       "      <td>False</td>\n",
       "      <td>False</td>\n",
       "      <td>False</td>\n",
       "    </tr>\n",
       "    <tr>\n",
       "      <th>3911</th>\n",
       "      <td>How The Grinch Stole Christmas</td>\n",
       "      <td>7</td>\n",
       "      <td>Grinch</td>\n",
       "      <td>Himself</td>\n",
       "      <td>Grinch</td>\n",
       "      <td>Grinch</td>\n",
       "      <td>This is stop number one, the old Grinchy Claus...</td>\n",
       "      <td>This is stop number one.</td>\n",
       "      <td>24</td>\n",
       "      <td>How The Grinch Stole Christmas</td>\n",
       "      <td>...</td>\n",
       "      <td>NH</td>\n",
       "      <td>0.0</td>\n",
       "      <td>False</td>\n",
       "      <td>False</td>\n",
       "      <td>False</td>\n",
       "      <td>False</td>\n",
       "      <td>False</td>\n",
       "      <td>False</td>\n",
       "      <td>False</td>\n",
       "      <td>False</td>\n",
       "    </tr>\n",
       "    <tr>\n",
       "      <th>3912</th>\n",
       "      <td>How The Grinch Stole Christmas</td>\n",
       "      <td>8</td>\n",
       "      <td>Grinch</td>\n",
       "      <td>Himself</td>\n",
       "      <td>Grinch</td>\n",
       "      <td>Grinch</td>\n",
       "      <td>These stockings, he grinned, are the first thi...</td>\n",
       "      <td>These stockings are the first things to go!</td>\n",
       "      <td>43</td>\n",
       "      <td>How The Grinch Stole Christmas</td>\n",
       "      <td>...</td>\n",
       "      <td>NH</td>\n",
       "      <td>0.0</td>\n",
       "      <td>False</td>\n",
       "      <td>False</td>\n",
       "      <td>False</td>\n",
       "      <td>False</td>\n",
       "      <td>False</td>\n",
       "      <td>False</td>\n",
       "      <td>False</td>\n",
       "      <td>False</td>\n",
       "    </tr>\n",
       "  </tbody>\n",
       "</table>\n",
       "<p>3913 rows × 27 columns</p>\n",
       "</div>"
      ],
      "text/plain": [
       "                                book  speech_section_id       speaker  \\\n",
       "0         The Night Before Christmas                  0  St. Nicholas   \n",
       "1         The Night Before Christmas                  1  St. Nicholas   \n",
       "2          Sugarlump and the Unicorn                  0     Sugarlump   \n",
       "3          Sugarlump and the Unicorn                  1     Sugarlump   \n",
       "4          Sugarlump and the Unicorn                  2       unicorn   \n",
       "...                              ...                ...           ...   \n",
       "3908  How The Grinch Stole Christmas                  4        Grinch   \n",
       "3909  How The Grinch Stole Christmas                  5        Grinch   \n",
       "3910  How The Grinch Stole Christmas                  6        Grinch   \n",
       "3911  How The Grinch Stole Christmas                  7        Grinch   \n",
       "3912  How The Grinch Stole Christmas                  8        Grinch   \n",
       "\n",
       "          recipient speaker_matched recipient_matched  \\\n",
       "0          Reindeer    St. Nicholas          Reindeer   \n",
       "1          Everyone    St. Nicholas          Everyone   \n",
       "2           himself       Sugarlump         Sugarlump   \n",
       "3           himself       Sugarlump         Sugarlump   \n",
       "4         Sugarlump         unicorn         Sugarlump   \n",
       "...             ...             ...               ...   \n",
       "3908        Himself          Grinch            Grinch   \n",
       "3909        Himself          Grinch            Grinch   \n",
       "3910  Max (the dog)          Grinch               Max   \n",
       "3911        Himself          Grinch            Grinch   \n",
       "3912        Himself          Grinch            Grinch   \n",
       "\n",
       "                                            speech_text  \\\n",
       "0     \"Now, Dasher! now, Dancer!\\nnow, Prancer and V...   \n",
       "1     \"Happy\\nChristmas to all, and to all a good\\nn...   \n",
       "2     \"Here in the children's bedroom\\nIs where I wa...   \n",
       "3     \"Oh to be out in the big wide world!\\nI wish I...   \n",
       "4     \"Done!\" came a voice, and there stood a beast\\...   \n",
       "...                                                 ...   \n",
       "3908                        All I need is a reindeer...   \n",
       "3909  If I can't find a reindeer, I'll make one inst...   \n",
       "3910                                            Giddap!   \n",
       "3911  This is stop number one, the old Grinchy Claus...   \n",
       "3912  These stockings, he grinned, are the first thi...   \n",
       "\n",
       "                                      spoken_words_only  spoken_word_count  \\\n",
       "0     Now, Dasher! now, Dancer! now, Prancer and Vix...                183   \n",
       "1      Happy Christmas to all, and to all a good night!                 48   \n",
       "2     Here in the children's bedroom Is where I want...                106   \n",
       "3     Oh to be out in the big wide world! I wish I c...                 56   \n",
       "4                     Done! I can grant horses' wishes.                 33   \n",
       "...                                                 ...                ...   \n",
       "3908                        All I need is a reindeer...                 27   \n",
       "3909  If I can't find a reindeer, I'll make one inst...                 50   \n",
       "3910                                            Giddap!                  7   \n",
       "3911                           This is stop number one.                 24   \n",
       "3912        These stockings are the first things to go!                 43   \n",
       "\n",
       "                        chunk_titles  ...  human_recipient  \\\n",
       "0         The Night Before Christmas  ...               NH   \n",
       "1         The Night Before Christmas  ...                H   \n",
       "2          Sugarlump and the Unicorn  ...               NH   \n",
       "3          Sugarlump and the Unicorn  ...               NH   \n",
       "4          Sugarlump and the Unicorn  ...               NH   \n",
       "...                              ...  ...              ...   \n",
       "3908  How The Grinch Stole Christmas  ...               NH   \n",
       "3909  How The Grinch Stole Christmas  ...               NH   \n",
       "3910  How The Grinch Stole Christmas  ...               NH   \n",
       "3911  How The Grinch Stole Christmas  ...               NH   \n",
       "3912  How The Grinch Stole Christmas  ...               NH   \n",
       "\n",
       "     alias_count_recipient speaker_is_mum speaker_is_dad  speaker_is_granny  \\\n",
       "0                      0.0          False          False              False   \n",
       "1                      0.0          False          False              False   \n",
       "2                      0.0          False          False              False   \n",
       "3                      0.0          False          False              False   \n",
       "4                      0.0          False          False              False   \n",
       "...                    ...            ...            ...                ...   \n",
       "3908                   0.0          False          False              False   \n",
       "3909                   0.0          False          False              False   \n",
       "3910                   0.0          False          False              False   \n",
       "3911                   0.0          False          False              False   \n",
       "3912                   0.0          False          False              False   \n",
       "\n",
       "     speaker_is_grandpa recipient_is_mum recipient_is_dad  \\\n",
       "0                 False            False            False   \n",
       "1                 False            False            False   \n",
       "2                 False            False            False   \n",
       "3                 False            False            False   \n",
       "4                 False            False            False   \n",
       "...                 ...              ...              ...   \n",
       "3908              False            False            False   \n",
       "3909              False            False            False   \n",
       "3910              False            False            False   \n",
       "3911              False            False            False   \n",
       "3912              False            False            False   \n",
       "\n",
       "      recipient_is_granny  recipient_is_grandpa  \n",
       "0                   False                 False  \n",
       "1                   False                 False  \n",
       "2                   False                 False  \n",
       "3                   False                 False  \n",
       "4                   False                 False  \n",
       "...                   ...                   ...  \n",
       "3908                False                 False  \n",
       "3909                False                 False  \n",
       "3910                False                 False  \n",
       "3911                False                 False  \n",
       "3912                False                 False  \n",
       "\n",
       "[3913 rows x 27 columns]"
      ]
     },
     "execution_count": 76,
     "metadata": {},
     "output_type": "execute_result"
    }
   ],
   "source": [
    "speakers"
   ]
  },
  {
   "cell_type": "code",
   "execution_count": null,
   "metadata": {},
   "outputs": [],
   "source": []
  },
  {
   "cell_type": "code",
   "execution_count": null,
   "metadata": {},
   "outputs": [],
   "source": []
  },
  {
   "cell_type": "code",
   "execution_count": 428,
   "metadata": {},
   "outputs": [
    {
     "data": {
      "text/plain": [
       "0.09888958726168029"
      ]
     },
     "execution_count": 428,
     "metadata": {},
     "output_type": "execute_result"
    }
   ],
   "source": [
    "speakers[speakers.speaker_is_mum].spoken_word_count.sum() / speakers[speakers.gender_speaker=='F'].spoken_word_count.sum()"
   ]
  },
  {
   "cell_type": "code",
   "execution_count": 429,
   "metadata": {},
   "outputs": [
    {
     "data": {
      "text/plain": [
       "0.0200529701097238"
      ]
     },
     "execution_count": 429,
     "metadata": {},
     "output_type": "execute_result"
    }
   ],
   "source": [
    "speakers[speakers.speaker_is_dad].spoken_word_count.sum() / speakers[speakers.gender_speaker=='M'].spoken_word_count.sum()"
   ]
  },
  {
   "cell_type": "markdown",
   "metadata": {},
   "source": [
    "\n",
    "#### Protagonists only:"
   ]
  },
  {
   "cell_type": "code",
   "execution_count": 62,
   "metadata": {},
   "outputs": [],
   "source": [
    "merged = speakers.merge(characters, how='left', left_on=['book', 'name_speaker'], right_on=['book', 'name'])"
   ]
  },
  {
   "cell_type": "code",
   "execution_count": 78,
   "metadata": {},
   "outputs": [],
   "source": [
    "merged = merged[merged.is_protagonist == 1]"
   ]
  },
  {
   "cell_type": "code",
   "execution_count": 79,
   "metadata": {},
   "outputs": [],
   "source": [
    "spoken_word_count = {\n",
    "    G: sum([len(text.split()) for text in merged[merged.gender_speaker==G].spoken_words_only])\n",
    "    for G in ['F', 'M', 'NGS']\n",
    "}\n"
   ]
  },
  {
   "cell_type": "code",
   "execution_count": 80,
   "metadata": {},
   "outputs": [],
   "source": [
    "received_word_count = {\n",
    "    G: sum([len(text.split()) for text in merged[merged.gender_recipient==G].spoken_words_only])\n",
    "    for G in ['F', 'M', 'NGS']\n",
    "}\n"
   ]
  },
  {
   "cell_type": "code",
   "execution_count": 81,
   "metadata": {},
   "outputs": [
    {
     "data": {
      "text/plain": [
       "{'F': 2335, 'M': 9874, 'NGS': 1134}"
      ]
     },
     "execution_count": 81,
     "metadata": {},
     "output_type": "execute_result"
    }
   ],
   "source": [
    "spoken_word_count"
   ]
  },
  {
   "cell_type": "code",
   "execution_count": 82,
   "metadata": {},
   "outputs": [
    {
     "data": {
      "text/plain": [
       "{'F': 3210, 'M': 5166, 'NGS': 4538}"
      ]
     },
     "execution_count": 82,
     "metadata": {},
     "output_type": "execute_result"
    }
   ],
   "source": [
    "received_word_count"
   ]
  },
  {
   "cell_type": "code",
   "execution_count": 83,
   "metadata": {},
   "outputs": [
    {
     "data": {
      "text/plain": [
       "77"
      ]
     },
     "execution_count": 83,
     "metadata": {},
     "output_type": "execute_result"
    }
   ],
   "source": [
    "len(merged[merged.gender_recipient=='F'].book.unique())"
   ]
  },
  {
   "cell_type": "code",
   "execution_count": 84,
   "metadata": {},
   "outputs": [],
   "source": [
    "speaker_book_count = {\n",
    "    G: len(merged[\n",
    "        (merged.gender_speaker==G)*(merged.gender_recipient==G)\n",
    "    ].book.unique())\n",
    "    for G in ['F', 'M', 'NGS']\n",
    "}\n"
   ]
  },
  {
   "cell_type": "code",
   "execution_count": 85,
   "metadata": {},
   "outputs": [
    {
     "data": {
      "text/plain": [
       "{'F': 18, 'M': 76, 'NGS': 7}"
      ]
     },
     "execution_count": 85,
     "metadata": {},
     "output_type": "execute_result"
    }
   ],
   "source": [
    "speaker_book_count"
   ]
  },
  {
   "cell_type": "code",
   "execution_count": 86,
   "metadata": {},
   "outputs": [],
   "source": [
    "received_book_count = {\n",
    "    G: len(merged[merged.gender_recipient==G].book.unique())\n",
    "    for G in ['F', 'M', 'NGS']\n",
    "}\n"
   ]
  },
  {
   "cell_type": "code",
   "execution_count": 87,
   "metadata": {},
   "outputs": [
    {
     "data": {
      "text/plain": [
       "{'F': 77, 'M': 100, 'NGS': 84}"
      ]
     },
     "execution_count": 87,
     "metadata": {},
     "output_type": "execute_result"
    }
   ],
   "source": [
    "received_book_count"
   ]
  },
  {
   "cell_type": "code",
   "execution_count": 88,
   "metadata": {},
   "outputs": [],
   "source": [
    "speech_book_count = len(merged.book.unique())"
   ]
  },
  {
   "cell_type": "code",
   "execution_count": 89,
   "metadata": {},
   "outputs": [
    {
     "data": {
      "text/plain": [
       "144"
      ]
     },
     "execution_count": 89,
     "metadata": {},
     "output_type": "execute_result"
    }
   ],
   "source": [
    "speech_book_count"
   ]
  },
  {
   "cell_type": "code",
   "execution_count": 90,
   "metadata": {},
   "outputs": [],
   "source": [
    "gender_count = {\n",
    "    G: sum([1 for g,p in zip(characters.gender, characters.is_protagonist) if g==G and p==1])\n",
    "    for G in ['F', 'M', 'NGS']\n",
    "}"
   ]
  },
  {
   "cell_type": "code",
   "execution_count": 91,
   "metadata": {},
   "outputs": [],
   "source": [
    "summary_speech = pd.DataFrame({\n",
    "    'gender': spoken_word_count.keys(),\n",
    "    'total_spoken_words': spoken_word_count.values(),\n",
    "    'proportion_speech': [v / sum(spoken_word_count.values()) for v in spoken_word_count.values()],\n",
    "    'words_spoken_per_character': [v / c for v,c in zip(spoken_word_count.values(), gender_count.values())],\n",
    "    'words_received_per_character': [v / c for v,c in zip(received_word_count.values(), gender_count.values())],\n",
    "    'bechdel_books': speaker_book_count.values(),\n",
    "    'bechdel_proportions': [v / speech_book_count for v in speaker_book_count.values()],\n",
    "    'total_received_words': received_word_count.values(),\n",
    "    'received_proportion_speech': [v / sum(received_word_count.values()) for v in received_word_count.values()],\n",
    "    \n",
    "#     'human proportions': [v / sum(characters.human=='H') for v in human_count.values()],\n",
    "#     'nonhuman characters': nonhuman_count.values(),\n",
    "#     'nonhuman proportions': [v / sum(characters.human=='NH') for v in nonhuman_count.values()],\n",
    "#     'protagonists': protagonist_count.values(),\n",
    "#     'protagonist proportions': [v / sum(characters.is_protagonist==1) for v in protagonist_count.values()],\n",
    "#     'secondaries': secondary_count.values(),\n",
    "#     'secondary proportions': [v / sum(characters.is_protagonist==0) for v in secondary_count.values()],\n",
    "})"
   ]
  },
  {
   "cell_type": "code",
   "execution_count": 92,
   "metadata": {},
   "outputs": [
    {
     "data": {
      "text/html": [
       "<div>\n",
       "<style scoped>\n",
       "    .dataframe tbody tr th:only-of-type {\n",
       "        vertical-align: middle;\n",
       "    }\n",
       "\n",
       "    .dataframe tbody tr th {\n",
       "        vertical-align: top;\n",
       "    }\n",
       "\n",
       "    .dataframe thead th {\n",
       "        text-align: right;\n",
       "    }\n",
       "</style>\n",
       "<table border=\"1\" class=\"dataframe\">\n",
       "  <thead>\n",
       "    <tr style=\"text-align: right;\">\n",
       "      <th></th>\n",
       "      <th>gender</th>\n",
       "      <th>total_spoken_words</th>\n",
       "      <th>proportion_speech</th>\n",
       "      <th>words_spoken_per_character</th>\n",
       "      <th>words_received_per_character</th>\n",
       "      <th>bechdel_books</th>\n",
       "      <th>bechdel_proportions</th>\n",
       "      <th>total_received_words</th>\n",
       "      <th>received_proportion_speech</th>\n",
       "    </tr>\n",
       "  </thead>\n",
       "  <tbody>\n",
       "    <tr>\n",
       "      <th>0</th>\n",
       "      <td>F</td>\n",
       "      <td>2335</td>\n",
       "      <td>0.174998</td>\n",
       "      <td>53.068182</td>\n",
       "      <td>72.954545</td>\n",
       "      <td>18</td>\n",
       "      <td>0.125000</td>\n",
       "      <td>3210</td>\n",
       "      <td>0.248567</td>\n",
       "    </tr>\n",
       "    <tr>\n",
       "      <th>1</th>\n",
       "      <td>M</td>\n",
       "      <td>9874</td>\n",
       "      <td>0.740013</td>\n",
       "      <td>69.535211</td>\n",
       "      <td>36.380282</td>\n",
       "      <td>76</td>\n",
       "      <td>0.527778</td>\n",
       "      <td>5166</td>\n",
       "      <td>0.400031</td>\n",
       "    </tr>\n",
       "    <tr>\n",
       "      <th>2</th>\n",
       "      <td>NGS</td>\n",
       "      <td>1134</td>\n",
       "      <td>0.084988</td>\n",
       "      <td>54.000000</td>\n",
       "      <td>216.095238</td>\n",
       "      <td>7</td>\n",
       "      <td>0.048611</td>\n",
       "      <td>4538</td>\n",
       "      <td>0.351402</td>\n",
       "    </tr>\n",
       "  </tbody>\n",
       "</table>\n",
       "</div>"
      ],
      "text/plain": [
       "  gender  total_spoken_words  proportion_speech  words_spoken_per_character  \\\n",
       "0      F                2335           0.174998                   53.068182   \n",
       "1      M                9874           0.740013                   69.535211   \n",
       "2    NGS                1134           0.084988                   54.000000   \n",
       "\n",
       "   words_received_per_character  bechdel_books  bechdel_proportions  \\\n",
       "0                     72.954545             18             0.125000   \n",
       "1                     36.380282             76             0.527778   \n",
       "2                    216.095238              7             0.048611   \n",
       "\n",
       "   total_received_words  received_proportion_speech  \n",
       "0                  3210                    0.248567  \n",
       "1                  5166                    0.400031  \n",
       "2                  4538                    0.351402  "
      ]
     },
     "execution_count": 92,
     "metadata": {},
     "output_type": "execute_result"
    }
   ],
   "source": [
    "summary_speech"
   ]
  },
  {
   "cell_type": "code",
   "execution_count": 629,
   "metadata": {},
   "outputs": [
    {
     "data": {
      "text/plain": [
       "{'F': 44, 'M': 142, 'NGS': 21}"
      ]
     },
     "execution_count": 629,
     "metadata": {},
     "output_type": "execute_result"
    }
   ],
   "source": [
    "gender_count[]"
   ]
  },
  {
   "cell_type": "code",
   "execution_count": 630,
   "metadata": {},
   "outputs": [
    {
     "data": {
      "text/plain": [
       "0.7058823529411765"
      ]
     },
     "execution_count": 630,
     "metadata": {},
     "output_type": "execute_result"
    }
   ],
   "source": [
    "60/85"
   ]
  },
  {
   "cell_type": "code",
   "execution_count": 93,
   "metadata": {},
   "outputs": [
    {
     "data": {
      "text/plain": [
       "0.762589928057554"
      ]
     },
     "execution_count": 93,
     "metadata": {},
     "output_type": "execute_result"
    }
   ],
   "source": [
    "53/69.5"
   ]
  },
  {
   "cell_type": "code",
   "execution_count": null,
   "metadata": {},
   "outputs": [],
   "source": []
  }
 ],
 "metadata": {
  "kernelspec": {
   "display_name": "newenv",
   "language": "python",
   "name": "newenv"
  },
  "language_info": {
   "codemirror_mode": {
    "name": "ipython",
    "version": 3
   },
   "file_extension": ".py",
   "mimetype": "text/x-python",
   "name": "python",
   "nbconvert_exporter": "python",
   "pygments_lexer": "ipython3",
   "version": "3.7.4"
  }
 },
 "nbformat": 4,
 "nbformat_minor": 4
}
