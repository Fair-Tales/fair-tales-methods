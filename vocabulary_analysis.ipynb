{
 "cells": [
  {
   "cell_type": "code",
   "execution_count": 2,
   "metadata": {},
   "outputs": [],
   "source": [
    "import os\n",
    "import json\n",
    "import pdfplumber\n",
    "import pandas as pd\n",
    "import numpy as np\n",
    "import matplotlib.pyplot as plt\n",
    "from collections import Counter\n",
    "import string\n",
    "import spacy\n",
    "from spacy import displacy\n",
    "from spacy.lang.en.examples import sentences \n",
    "import pickle\n",
    "from lexicalrichness import LexicalRichness\n",
    "\n",
    "%matplotlib inline"
   ]
  },
  {
   "cell_type": "code",
   "execution_count": 434,
   "metadata": {},
   "outputs": [],
   "source": [
    "with open('data/gpt4_speakers_recipients_processed.json', 'r') as outfile:\n",
    "    speakers = pd.read_json(outfile)"
   ]
  },
  {
   "cell_type": "code",
   "execution_count": 435,
   "metadata": {},
   "outputs": [],
   "source": [
    "male_spoken_words = ' '.join(speakers[speakers.gender_recipient == 'M'].spoken_words_only)\n",
    "female_spoken_words = ' '.join(speakers[speakers.gender_recipient == 'F'].spoken_words_only)\n",
    "ngs_spoken_words = ' '.join(speakers[speakers.gender_recipient == 'NGS'].spoken_words_only)\n",
    "\n",
    "# male_spoken_words = ' '.join(speakers[speakers.gender_speaker == 'M'].spoken_words_only)\n",
    "# female_spoken_words = ' '.join(speakers[speakers.gender_speaker == 'F'].spoken_words_only)\n",
    "# ngs_spoken_words = ' '.join(speakers[speakers.gender_speaker == 'NGS'].spoken_words_only)"
   ]
  },
  {
   "cell_type": "code",
   "execution_count": 437,
   "metadata": {},
   "outputs": [
    {
     "data": {
      "text/plain": [
       "7020"
      ]
     },
     "execution_count": 437,
     "metadata": {},
     "output_type": "execute_result"
    }
   ],
   "source": [
    "len(female_spoken_words.split())"
   ]
  },
  {
   "cell_type": "code",
   "execution_count": 438,
   "metadata": {},
   "outputs": [
    {
     "data": {
      "text/plain": [
       "62      Listen to me, Celery, If you act like a monste...\n",
       "64      This isn’t funny, Celery! If you act like a mo...\n",
       "66      Yuk! That smells disgusting, Celery! If you ac...\n",
       "72                             Oh NO! I can’t stand THIS.\n",
       "81                                   Not VERY well, dear.\n",
       "                              ...                        \n",
       "3850    It is more fun to share a book with a friend. ...\n",
       "3852                                      I could do that\n",
       "3853                      Mum, why can't I jump like you?\n",
       "3876                Look, Mum! I can jump. Just like you!\n",
       "3901                                        We’d love to!\n",
       "Name: spoken_words_only, Length: 717, dtype: object"
      ]
     },
     "execution_count": 438,
     "metadata": {},
     "output_type": "execute_result"
    }
   ],
   "source": [
    "speakers[speakers.gender_recipient == 'F'].spoken_words_only"
   ]
  },
  {
   "cell_type": "code",
   "execution_count": 148,
   "metadata": {},
   "outputs": [],
   "source": [
    "f_lex = LexicalRichness(female_spoken_words)\n",
    "m_lex = LexicalRichness(male_spoken_words)\n",
    "n_lex = LexicalRichness(ngs_spoken_words)"
   ]
  },
  {
   "cell_type": "code",
   "execution_count": 11,
   "metadata": {},
   "outputs": [
    {
     "data": {
      "text/plain": [
       "1330"
      ]
     },
     "execution_count": 11,
     "metadata": {},
     "output_type": "execute_result"
    }
   ],
   "source": [
    "f_lex.terms"
   ]
  },
  {
   "cell_type": "code",
   "execution_count": 12,
   "metadata": {},
   "outputs": [
    {
     "data": {
      "text/plain": [
       "1981"
      ]
     },
     "execution_count": 12,
     "metadata": {},
     "output_type": "execute_result"
    }
   ],
   "source": [
    "m_lex.terms"
   ]
  },
  {
   "cell_type": "code",
   "execution_count": 13,
   "metadata": {},
   "outputs": [
    {
     "data": {
      "text/plain": [
       "1493"
      ]
     },
     "execution_count": 13,
     "metadata": {},
     "output_type": "execute_result"
    }
   ],
   "source": [
    "n_lex.terms"
   ]
  },
  {
   "cell_type": "code",
   "execution_count": 15,
   "metadata": {},
   "outputs": [
    {
     "name": "stdout",
     "output_type": "stream",
     "text": [
      "57.56973800328276 66.65045824718376 43.94124016714517\n"
     ]
    }
   ],
   "source": [
    "print(\n",
    "    f_lex.mtld(threshold=0.72),\n",
    "    m_lex.mtld(threshold=0.72),\n",
    "    n_lex.mtld(threshold=0.72)\n",
    ")"
   ]
  },
  {
   "cell_type": "code",
   "execution_count": 16,
   "metadata": {},
   "outputs": [
    {
     "name": "stdout",
     "output_type": "stream",
     "text": [
      "0.7848239328067733 0.7624663738600715 0.7889611143371854\n"
     ]
    }
   ],
   "source": [
    "print(\n",
    "    f_lex.Herdan,\n",
    "    m_lex.Herdan,\n",
    "    n_lex.Herdan\n",
    ")"
   ]
  },
  {
   "cell_type": "code",
   "execution_count": 17,
   "metadata": {},
   "outputs": [
    {
     "name": "stdout",
     "output_type": "stream",
     "text": [
      "0.8906308495698824 0.8819963376166602 0.893517746576197\n"
     ]
    }
   ],
   "source": [
    "print(\n",
    "    f_lex.Summer,\n",
    "    m_lex.Summer,\n",
    "    n_lex.Summer\n",
    ")"
   ]
  },
  {
   "cell_type": "code",
   "execution_count": 18,
   "metadata": {},
   "outputs": [
    {
     "name": "stdout",
     "output_type": "stream",
     "text": [
      "0.02347794684433221 0.023857579281099647 0.022781760880852146\n"
     ]
    }
   ],
   "source": [
    "print(\n",
    "    f_lex.Maas,\n",
    "    m_lex.Maas,\n",
    "    n_lex.Maas\n",
    ")"
   ]
  },
  {
   "cell_type": "code",
   "execution_count": 20,
   "metadata": {},
   "outputs": [
    {
     "name": "stdout",
     "output_type": "stream",
     "text": [
      "42.59316228247654 41.91540089703132 43.89476323757267\n"
     ]
    }
   ],
   "source": [
    "print(\n",
    "    f_lex.Dugast,\n",
    "    m_lex.Dugast,\n",
    "    n_lex.Dugast\n",
    ")"
   ]
  },
  {
   "cell_type": "code",
   "execution_count": 26,
   "metadata": {},
   "outputs": [
    {
     "name": "stdout",
     "output_type": "stream",
     "text": [
      "13.604758844635063 13.642616555605526 14.538376923347835\n"
     ]
    }
   ],
   "source": [
    "print(\n",
    "    f_lex.rttr,\n",
    "    m_lex.rttr,\n",
    "    n_lex.rttr\n",
    ")"
   ]
  },
  {
   "cell_type": "code",
   "execution_count": 24,
   "metadata": {},
   "outputs": [
    {
     "name": "stdout",
     "output_type": "stream",
     "text": [
      "0.8902730270122277 0.8913245911602806 0.8965731252193138\n"
     ]
    }
   ],
   "source": [
    "print(\n",
    "    f_lex.hdd(draws=42),\n",
    "    m_lex.hdd(draws=42),\n",
    "    n_lex.hdd(draws=42)\n",
    ")"
   ]
  },
  {
   "cell_type": "code",
   "execution_count": 31,
   "metadata": {},
   "outputs": [],
   "source": [
    "import random"
   ]
  },
  {
   "cell_type": "code",
   "execution_count": 54,
   "metadata": {},
   "outputs": [],
   "source": [
    "rep = 10"
   ]
  },
  {
   "cell_type": "code",
   "execution_count": 195,
   "metadata": {},
   "outputs": [],
   "source": [
    "\n",
    "def get_mean_ttr_sample(text, sample_size, rep=20):\n",
    "    fttr  =[\n",
    "        LexicalRichness(' '.join(random.sample(text.split(), sample_size))).terms#['terms']\n",
    "        for i in range(rep)\n",
    "    ]\n",
    "    return np.mean(fttr)"
   ]
  },
  {
   "cell_type": "code",
   "execution_count": 181,
   "metadata": {},
   "outputs": [],
   "source": [
    "ss = [10, 50, 100, 500, 1000, 5000, 6000, 7000]#, 8000, 9000]"
   ]
  },
  {
   "cell_type": "code",
   "execution_count": 182,
   "metadata": {},
   "outputs": [],
   "source": [
    "a_mttr = [\n",
    "    get_mean_ttr_sample(' '.join(speakers.spoken_words_only), s) for s in ss\n",
    "]"
   ]
  },
  {
   "cell_type": "code",
   "execution_count": 196,
   "metadata": {},
   "outputs": [],
   "source": [
    "f_mttr = [\n",
    "    get_mean_ttr_sample(female_spoken_words, s) / len(speakers[speakers.gender_recipient=='F'].name_speaker.unique()) for si,s in enumerate(ss)\n",
    "]\n",
    "m_mttr = [\n",
    "    get_mean_ttr_sample(male_spoken_words, s) / len(speakers[speakers.gender_recipient=='M'].name_speaker.unique()) for  si,s in enumerate(ss)\n",
    "]\n",
    "n_mttr = [\n",
    "    get_mean_ttr_sample(ngs_spoken_words, s) / len(speakers[speakers.gender_recipient=='NGS'].name_speaker.unique()) for  si,s in enumerate(ss)\n",
    "]\n"
   ]
  },
  {
   "cell_type": "code",
   "execution_count": 184,
   "metadata": {},
   "outputs": [],
   "source": [
    "f_mttr = [\n",
    "    get_mean_ttr_sample(female_spoken_words, s)/a_mttr[si] for si,s in enumerate(ss)\n",
    "]\n",
    "m_mttr = [\n",
    "    get_mean_ttr_sample(male_spoken_words, s)/a_mttr[si] for  si,s in enumerate(ss)\n",
    "]\n",
    "n_mttr = [\n",
    "    get_mean_ttr_sample(ngs_spoken_words, s)/a_mttr[si] for  si,s in enumerate(ss)\n",
    "]\n"
   ]
  },
  {
   "cell_type": "code",
   "execution_count": 197,
   "metadata": {},
   "outputs": [
    {
     "data": {
      "image/png": "[encoded data removed]",
      "text/plain": [
       "<Figure size 640x480 with 1 Axes>"
      ]
     },
     "metadata": {},
     "output_type": "display_data"
    }
   ],
   "source": [
    "plt.plot(ss, f_mttr, c='pink')\n",
    "plt.plot(ss, m_mttr, c='b')\n",
    "plt.plot(ss, n_mttr, c='g')\n",
    "# plt.yscale('log')\n",
    "plt.xscale('log')"
   ]
  },
  {
   "cell_type": "code",
   "execution_count": 84,
   "metadata": {},
   "outputs": [
    {
     "data": {
      "text/plain": [
       "21144"
      ]
     },
     "execution_count": 84,
     "metadata": {},
     "output_type": "execute_result"
    }
   ],
   "source": [
    "len(male_spoken_words.split())"
   ]
  },
  {
   "cell_type": "code",
   "execution_count": 156,
   "metadata": {},
   "outputs": [
    {
     "data": {
      "text/plain": [
       "7020"
      ]
     },
     "execution_count": 156,
     "metadata": {},
     "output_type": "execute_result"
    }
   ],
   "source": [
    "len(female_spoken_words.split())"
   ]
  },
  {
   "cell_type": "code",
   "execution_count": 152,
   "metadata": {},
   "outputs": [
    {
     "data": {
      "text/plain": [
       "73222"
      ]
     },
     "execution_count": 152,
     "metadata": {},
     "output_type": "execute_result"
    }
   ],
   "source": [
    "len(ngs_spoken_words)"
   ]
  },
  {
   "cell_type": "code",
   "execution_count": 155,
   "metadata": {},
   "outputs": [
    {
     "data": {
      "text/plain": [
       "105327"
      ]
     },
     "execution_count": 155,
     "metadata": {},
     "output_type": "execute_result"
    }
   ],
   "source": [
    "len(male_spoken_words)"
   ]
  },
  {
   "cell_type": "code",
   "execution_count": 189,
   "metadata": {},
   "outputs": [
    {
     "data": {
      "text/plain": [
       "113"
      ]
     },
     "execution_count": 189,
     "metadata": {},
     "output_type": "execute_result"
    }
   ],
   "source": [
    "len(speakers[speakers.gender_speaker=='F'].name_speaker.unique())"
   ]
  },
  {
   "cell_type": "code",
   "execution_count": 190,
   "metadata": {},
   "outputs": [
    {
     "data": {
      "text/plain": [
       "188"
      ]
     },
     "execution_count": 190,
     "metadata": {},
     "output_type": "execute_result"
    }
   ],
   "source": [
    "len(speakers[speakers.gender_speaker=='M'].name_speaker.unique())"
   ]
  },
  {
   "cell_type": "code",
   "execution_count": 191,
   "metadata": {},
   "outputs": [
    {
     "data": {
      "text/plain": [
       "155"
      ]
     },
     "execution_count": 191,
     "metadata": {},
     "output_type": "execute_result"
    }
   ],
   "source": [
    "len(speakers[speakers.gender_speaker=='NGS'].name_speaker.unique())"
   ]
  },
  {
   "cell_type": "code",
   "execution_count": null,
   "metadata": {},
   "outputs": [],
   "source": []
  },
  {
   "cell_type": "code",
   "execution_count": 192,
   "metadata": {},
   "outputs": [
    {
     "data": {
      "text/plain": [
       "149"
      ]
     },
     "execution_count": 192,
     "metadata": {},
     "output_type": "execute_result"
    }
   ],
   "source": [
    "len(speakers[speakers.gender_recipient=='F'].name_speaker.unique())"
   ]
  },
  {
   "cell_type": "code",
   "execution_count": 193,
   "metadata": {},
   "outputs": [
    {
     "data": {
      "text/plain": [
       "283"
      ]
     },
     "execution_count": 193,
     "metadata": {},
     "output_type": "execute_result"
    }
   ],
   "source": [
    "len(speakers[speakers.gender_recipient=='M'].name_speaker.unique())"
   ]
  },
  {
   "cell_type": "code",
   "execution_count": 194,
   "metadata": {},
   "outputs": [
    {
     "data": {
      "text/plain": [
       "200"
      ]
     },
     "execution_count": 194,
     "metadata": {},
     "output_type": "execute_result"
    }
   ],
   "source": [
    "len(speakers[speakers.gender_recipient=='NGS'].name_speaker.unique())"
   ]
  },
  {
   "cell_type": "code",
   "execution_count": null,
   "metadata": {},
   "outputs": [],
   "source": []
  },
  {
   "cell_type": "markdown",
   "metadata": {},
   "source": [
    "# By character:"
   ]
  },
  {
   "cell_type": "code",
   "execution_count": 235,
   "metadata": {},
   "outputs": [],
   "source": [
    "fcr = [\n",
    "    LexicalRichness(text).ttr\n",
    "    for text in speakers[speakers.gender_recipient=='F'].spoken_words_only\n",
    "]\n",
    "fwc = [\n",
    "    len(text.split())\n",
    "    for text in speakers[speakers.gender_recipient=='F'].spoken_words_only\n",
    "]"
   ]
  },
  {
   "cell_type": "code",
   "execution_count": 236,
   "metadata": {},
   "outputs": [],
   "source": [
    "mcr = [\n",
    "    LexicalRichness(text).ttr\n",
    "    for text in speakers[speakers.gender_speaker=='NGS'].spoken_words_only\n",
    "#     if len(text) > 0 and not pd.isna(text)\n",
    "]\n",
    "mwc = [\n",
    "    len(text.split())\n",
    "    for text in speakers[speakers.gender_speaker=='M'].spoken_words_only\n",
    "]"
   ]
  },
  {
   "cell_type": "code",
   "execution_count": 228,
   "metadata": {},
   "outputs": [
    {
     "ename": "ValueError",
     "evalue": "x and y must be the same size",
     "output_type": "error",
     "traceback": [
      "\u001b[0;31m---------------------------------------------------------------------------\u001b[0m",
      "\u001b[0;31mValueError\u001b[0m                                Traceback (most recent call last)",
      "\u001b[0;32m/tmp/ipykernel_24677/3138547894.py\u001b[0m in \u001b[0;36m<module>\u001b[0;34m\u001b[0m\n\u001b[1;32m      1\u001b[0m \u001b[0mplt\u001b[0m\u001b[0;34m.\u001b[0m\u001b[0mscatter\u001b[0m\u001b[0;34m(\u001b[0m\u001b[0mfwc\u001b[0m\u001b[0;34m,\u001b[0m \u001b[0mfcr\u001b[0m\u001b[0;34m)\u001b[0m\u001b[0;34m\u001b[0m\u001b[0;34m\u001b[0m\u001b[0m\n\u001b[0;32m----> 2\u001b[0;31m \u001b[0mplt\u001b[0m\u001b[0;34m.\u001b[0m\u001b[0mscatter\u001b[0m\u001b[0;34m(\u001b[0m\u001b[0mmwc\u001b[0m\u001b[0;34m,\u001b[0m \u001b[0mmcr\u001b[0m\u001b[0;34m,\u001b[0m \u001b[0mc\u001b[0m\u001b[0;34m=\u001b[0m\u001b[0;34m'g'\u001b[0m\u001b[0;34m)\u001b[0m\u001b[0;34m\u001b[0m\u001b[0;34m\u001b[0m\u001b[0m\n\u001b[0m\u001b[1;32m      3\u001b[0m \u001b[0mplt\u001b[0m\u001b[0;34m.\u001b[0m\u001b[0mxscale\u001b[0m\u001b[0;34m(\u001b[0m\u001b[0;34m'log'\u001b[0m\u001b[0;34m)\u001b[0m\u001b[0;34m\u001b[0m\u001b[0;34m\u001b[0m\u001b[0m\n",
      "\u001b[0;32m~/Documents/Work/Research/gender/Gender in Children's Literature/code_new_version/newenv/lib/python3.7/site-packages/matplotlib/pyplot.py\u001b[0m in \u001b[0;36mscatter\u001b[0;34m(x, y, s, c, marker, cmap, norm, vmin, vmax, alpha, linewidths, edgecolors, plotnonfinite, data, **kwargs)\u001b[0m\n\u001b[1;32m   2819\u001b[0m         \u001b[0mvmin\u001b[0m\u001b[0;34m=\u001b[0m\u001b[0mvmin\u001b[0m\u001b[0;34m,\u001b[0m \u001b[0mvmax\u001b[0m\u001b[0;34m=\u001b[0m\u001b[0mvmax\u001b[0m\u001b[0;34m,\u001b[0m \u001b[0malpha\u001b[0m\u001b[0;34m=\u001b[0m\u001b[0malpha\u001b[0m\u001b[0;34m,\u001b[0m \u001b[0mlinewidths\u001b[0m\u001b[0;34m=\u001b[0m\u001b[0mlinewidths\u001b[0m\u001b[0;34m,\u001b[0m\u001b[0;34m\u001b[0m\u001b[0;34m\u001b[0m\u001b[0m\n\u001b[1;32m   2820\u001b[0m         \u001b[0medgecolors\u001b[0m\u001b[0;34m=\u001b[0m\u001b[0medgecolors\u001b[0m\u001b[0;34m,\u001b[0m \u001b[0mplotnonfinite\u001b[0m\u001b[0;34m=\u001b[0m\u001b[0mplotnonfinite\u001b[0m\u001b[0;34m,\u001b[0m\u001b[0;34m\u001b[0m\u001b[0;34m\u001b[0m\u001b[0m\n\u001b[0;32m-> 2821\u001b[0;31m         **({\"data\": data} if data is not None else {}), **kwargs)\n\u001b[0m\u001b[1;32m   2822\u001b[0m     \u001b[0msci\u001b[0m\u001b[0;34m(\u001b[0m\u001b[0m__ret\u001b[0m\u001b[0;34m)\u001b[0m\u001b[0;34m\u001b[0m\u001b[0;34m\u001b[0m\u001b[0m\n\u001b[1;32m   2823\u001b[0m     \u001b[0;32mreturn\u001b[0m \u001b[0m__ret\u001b[0m\u001b[0;34m\u001b[0m\u001b[0;34m\u001b[0m\u001b[0m\n",
      "\u001b[0;32m~/Documents/Work/Research/gender/Gender in Children's Literature/code_new_version/newenv/lib/python3.7/site-packages/matplotlib/__init__.py\u001b[0m in \u001b[0;36minner\u001b[0;34m(ax, data, *args, **kwargs)\u001b[0m\n\u001b[1;32m   1412\u001b[0m     \u001b[0;32mdef\u001b[0m \u001b[0minner\u001b[0m\u001b[0;34m(\u001b[0m\u001b[0max\u001b[0m\u001b[0;34m,\u001b[0m \u001b[0;34m*\u001b[0m\u001b[0margs\u001b[0m\u001b[0;34m,\u001b[0m \u001b[0mdata\u001b[0m\u001b[0;34m=\u001b[0m\u001b[0;32mNone\u001b[0m\u001b[0;34m,\u001b[0m \u001b[0;34m**\u001b[0m\u001b[0mkwargs\u001b[0m\u001b[0;34m)\u001b[0m\u001b[0;34m:\u001b[0m\u001b[0;34m\u001b[0m\u001b[0;34m\u001b[0m\u001b[0m\n\u001b[1;32m   1413\u001b[0m         \u001b[0;32mif\u001b[0m \u001b[0mdata\u001b[0m \u001b[0;32mis\u001b[0m \u001b[0;32mNone\u001b[0m\u001b[0;34m:\u001b[0m\u001b[0;34m\u001b[0m\u001b[0;34m\u001b[0m\u001b[0m\n\u001b[0;32m-> 1414\u001b[0;31m             \u001b[0;32mreturn\u001b[0m \u001b[0mfunc\u001b[0m\u001b[0;34m(\u001b[0m\u001b[0max\u001b[0m\u001b[0;34m,\u001b[0m \u001b[0;34m*\u001b[0m\u001b[0mmap\u001b[0m\u001b[0;34m(\u001b[0m\u001b[0msanitize_sequence\u001b[0m\u001b[0;34m,\u001b[0m \u001b[0margs\u001b[0m\u001b[0;34m)\u001b[0m\u001b[0;34m,\u001b[0m \u001b[0;34m**\u001b[0m\u001b[0mkwargs\u001b[0m\u001b[0;34m)\u001b[0m\u001b[0;34m\u001b[0m\u001b[0;34m\u001b[0m\u001b[0m\n\u001b[0m\u001b[1;32m   1415\u001b[0m \u001b[0;34m\u001b[0m\u001b[0m\n\u001b[1;32m   1416\u001b[0m         \u001b[0mbound\u001b[0m \u001b[0;34m=\u001b[0m \u001b[0mnew_sig\u001b[0m\u001b[0;34m.\u001b[0m\u001b[0mbind\u001b[0m\u001b[0;34m(\u001b[0m\u001b[0max\u001b[0m\u001b[0;34m,\u001b[0m \u001b[0;34m*\u001b[0m\u001b[0margs\u001b[0m\u001b[0;34m,\u001b[0m \u001b[0;34m**\u001b[0m\u001b[0mkwargs\u001b[0m\u001b[0;34m)\u001b[0m\u001b[0;34m\u001b[0m\u001b[0;34m\u001b[0m\u001b[0m\n",
      "\u001b[0;32m~/Documents/Work/Research/gender/Gender in Children's Literature/code_new_version/newenv/lib/python3.7/site-packages/matplotlib/axes/_axes.py\u001b[0m in \u001b[0;36mscatter\u001b[0;34m(self, x, y, s, c, marker, cmap, norm, vmin, vmax, alpha, linewidths, edgecolors, plotnonfinite, **kwargs)\u001b[0m\n\u001b[1;32m   4366\u001b[0m         \u001b[0my\u001b[0m \u001b[0;34m=\u001b[0m \u001b[0mnp\u001b[0m\u001b[0;34m.\u001b[0m\u001b[0mma\u001b[0m\u001b[0;34m.\u001b[0m\u001b[0mravel\u001b[0m\u001b[0;34m(\u001b[0m\u001b[0my\u001b[0m\u001b[0;34m)\u001b[0m\u001b[0;34m\u001b[0m\u001b[0;34m\u001b[0m\u001b[0m\n\u001b[1;32m   4367\u001b[0m         \u001b[0;32mif\u001b[0m \u001b[0mx\u001b[0m\u001b[0;34m.\u001b[0m\u001b[0msize\u001b[0m \u001b[0;34m!=\u001b[0m \u001b[0my\u001b[0m\u001b[0;34m.\u001b[0m\u001b[0msize\u001b[0m\u001b[0;34m:\u001b[0m\u001b[0;34m\u001b[0m\u001b[0;34m\u001b[0m\u001b[0m\n\u001b[0;32m-> 4368\u001b[0;31m             \u001b[0;32mraise\u001b[0m \u001b[0mValueError\u001b[0m\u001b[0;34m(\u001b[0m\u001b[0;34m\"x and y must be the same size\"\u001b[0m\u001b[0;34m)\u001b[0m\u001b[0;34m\u001b[0m\u001b[0;34m\u001b[0m\u001b[0m\n\u001b[0m\u001b[1;32m   4369\u001b[0m \u001b[0;34m\u001b[0m\u001b[0m\n\u001b[1;32m   4370\u001b[0m         \u001b[0;32mif\u001b[0m \u001b[0ms\u001b[0m \u001b[0;32mis\u001b[0m \u001b[0;32mNone\u001b[0m\u001b[0;34m:\u001b[0m\u001b[0;34m\u001b[0m\u001b[0;34m\u001b[0m\u001b[0m\n",
      "\u001b[0;31mValueError\u001b[0m: x and y must be the same size"
     ]
    },
    {
     "data": {
      "image/png": "[encoded data removed]",
      "text/plain": [
       "<Figure size 640x480 with 1 Axes>"
      ]
     },
     "metadata": {},
     "output_type": "display_data"
    }
   ],
   "source": [
    "plt.scatter(fwc, fcr)\n",
    "plt.scatter(mwc, mcr, c='g')\n",
    "plt.xscale('log')"
   ]
  },
  {
   "cell_type": "code",
   "execution_count": 237,
   "metadata": {},
   "outputs": [
    {
     "data": {
      "text/plain": [
       "(array([0.08548162, 0.04026634, 0.01844603, 0.00877311, 0.00449903,\n",
       "        0.00202456, 0.00112476, 0.        , 0.00022495, 0.        ,\n",
       "        0.        , 0.        , 0.        , 0.        , 0.        ,\n",
       "        0.        , 0.        , 0.        , 0.        , 0.0004499 ]),\n",
       " array([  1. ,   7.2,  13.4,  19.6,  25.8,  32. ,  38.2,  44.4,  50.6,\n",
       "         56.8,  63. ,  69.2,  75.4,  81.6,  87.8,  94. , 100.2, 106.4,\n",
       "        112.6, 118.8, 125. ]),\n",
       " <BarContainer object of 20 artists>)"
      ]
     },
     "execution_count": 237,
     "metadata": {},
     "output_type": "execute_result"
    },
    {
     "data": {
      "image/png": "[encoded data removed]",
      "text/plain": [
       "<Figure size 640x480 with 1 Axes>"
      ]
     },
     "metadata": {},
     "output_type": "display_data"
    }
   ],
   "source": [
    "\n",
    "\n",
    "plt.hist(mwc, bins=20, density=True)\n",
    "plt.hist(fwc, bins=20, density=True)"
   ]
  },
  {
   "cell_type": "code",
   "execution_count": 240,
   "metadata": {},
   "outputs": [
    {
     "data": {
      "text/plain": [
       "10.793261868300153"
      ]
     },
     "execution_count": 240,
     "metadata": {},
     "output_type": "execute_result"
    }
   ],
   "source": [
    "np.mean(mwc)"
   ]
  },
  {
   "cell_type": "code",
   "execution_count": 241,
   "metadata": {},
   "outputs": [
    {
     "data": {
      "text/plain": [
       "9.790794979079498"
      ]
     },
     "execution_count": 241,
     "metadata": {},
     "output_type": "execute_result"
    }
   ],
   "source": [
    "np.mean(fwc)"
   ]
  },
  {
   "cell_type": "code",
   "execution_count": 242,
   "metadata": {},
   "outputs": [
    {
     "data": {
      "text/html": [
       "<div>\n",
       "<style scoped>\n",
       "    .dataframe tbody tr th:only-of-type {\n",
       "        vertical-align: middle;\n",
       "    }\n",
       "\n",
       "    .dataframe tbody tr th {\n",
       "        vertical-align: top;\n",
       "    }\n",
       "\n",
       "    .dataframe thead th {\n",
       "        text-align: right;\n",
       "    }\n",
       "</style>\n",
       "<table border=\"1\" class=\"dataframe\">\n",
       "  <thead>\n",
       "    <tr style=\"text-align: right;\">\n",
       "      <th></th>\n",
       "      <th>book</th>\n",
       "      <th>speech_section_id</th>\n",
       "      <th>speaker</th>\n",
       "      <th>recipient</th>\n",
       "      <th>speaker_matched</th>\n",
       "      <th>recipient_matched</th>\n",
       "      <th>speech_text</th>\n",
       "      <th>spoken_words_only</th>\n",
       "      <th>spoken_word_count</th>\n",
       "      <th>chunk_titles</th>\n",
       "      <th>...</th>\n",
       "      <th>human_recipient</th>\n",
       "      <th>alias_count_recipient</th>\n",
       "      <th>speaker_is_mum</th>\n",
       "      <th>speaker_is_dad</th>\n",
       "      <th>speaker_is_granny</th>\n",
       "      <th>speaker_is_grandpa</th>\n",
       "      <th>recipient_is_mum</th>\n",
       "      <th>recipient_is_dad</th>\n",
       "      <th>recipient_is_granny</th>\n",
       "      <th>recipient_is_grandpa</th>\n",
       "    </tr>\n",
       "  </thead>\n",
       "  <tbody>\n",
       "    <tr>\n",
       "      <th>0</th>\n",
       "      <td>The Night Before Christmas</td>\n",
       "      <td>0</td>\n",
       "      <td>St. Nicholas</td>\n",
       "      <td>Reindeer</td>\n",
       "      <td>St. Nicholas</td>\n",
       "      <td>Reindeer</td>\n",
       "      <td>\"Now, Dasher! now, Dancer!\\nnow, Prancer and V...</td>\n",
       "      <td>Now, Dasher! now, Dancer! now, Prancer and Vix...</td>\n",
       "      <td>183</td>\n",
       "      <td>The Night Before Christmas</td>\n",
       "      <td>...</td>\n",
       "      <td>NH</td>\n",
       "      <td>0.0</td>\n",
       "      <td>False</td>\n",
       "      <td>False</td>\n",
       "      <td>False</td>\n",
       "      <td>False</td>\n",
       "      <td>False</td>\n",
       "      <td>False</td>\n",
       "      <td>False</td>\n",
       "      <td>False</td>\n",
       "    </tr>\n",
       "    <tr>\n",
       "      <th>1</th>\n",
       "      <td>The Night Before Christmas</td>\n",
       "      <td>1</td>\n",
       "      <td>St. Nicholas</td>\n",
       "      <td>Everyone</td>\n",
       "      <td>St. Nicholas</td>\n",
       "      <td>Everyone</td>\n",
       "      <td>\"Happy\\nChristmas to all, and to all a good\\nn...</td>\n",
       "      <td>Happy Christmas to all, and to all a good night!</td>\n",
       "      <td>48</td>\n",
       "      <td>The Night Before Christmas</td>\n",
       "      <td>...</td>\n",
       "      <td>H</td>\n",
       "      <td>0.0</td>\n",
       "      <td>False</td>\n",
       "      <td>False</td>\n",
       "      <td>False</td>\n",
       "      <td>False</td>\n",
       "      <td>False</td>\n",
       "      <td>False</td>\n",
       "      <td>False</td>\n",
       "      <td>False</td>\n",
       "    </tr>\n",
       "    <tr>\n",
       "      <th>2</th>\n",
       "      <td>Sugarlump and the Unicorn</td>\n",
       "      <td>0</td>\n",
       "      <td>Sugarlump</td>\n",
       "      <td>himself</td>\n",
       "      <td>Sugarlump</td>\n",
       "      <td>Sugarlump</td>\n",
       "      <td>\"Here in the children's bedroom\\nIs where I wa...</td>\n",
       "      <td>Here in the children's bedroom Is where I want...</td>\n",
       "      <td>106</td>\n",
       "      <td>Sugarlump and the Unicorn</td>\n",
       "      <td>...</td>\n",
       "      <td>NH</td>\n",
       "      <td>0.0</td>\n",
       "      <td>False</td>\n",
       "      <td>False</td>\n",
       "      <td>False</td>\n",
       "      <td>False</td>\n",
       "      <td>False</td>\n",
       "      <td>False</td>\n",
       "      <td>False</td>\n",
       "      <td>False</td>\n",
       "    </tr>\n",
       "    <tr>\n",
       "      <th>3</th>\n",
       "      <td>Sugarlump and the Unicorn</td>\n",
       "      <td>1</td>\n",
       "      <td>Sugarlump</td>\n",
       "      <td>himself</td>\n",
       "      <td>Sugarlump</td>\n",
       "      <td>Sugarlump</td>\n",
       "      <td>\"Oh to be out in the big wide world!\\nI wish I...</td>\n",
       "      <td>Oh to be out in the big wide world! I wish I c...</td>\n",
       "      <td>56</td>\n",
       "      <td>Sugarlump and the Unicorn</td>\n",
       "      <td>...</td>\n",
       "      <td>NH</td>\n",
       "      <td>0.0</td>\n",
       "      <td>False</td>\n",
       "      <td>False</td>\n",
       "      <td>False</td>\n",
       "      <td>False</td>\n",
       "      <td>False</td>\n",
       "      <td>False</td>\n",
       "      <td>False</td>\n",
       "      <td>False</td>\n",
       "    </tr>\n",
       "    <tr>\n",
       "      <th>4</th>\n",
       "      <td>Sugarlump and the Unicorn</td>\n",
       "      <td>2</td>\n",
       "      <td>unicorn</td>\n",
       "      <td>Sugarlump</td>\n",
       "      <td>unicorn</td>\n",
       "      <td>Sugarlump</td>\n",
       "      <td>\"Done!\" came a voice, and there stood a beast\\...</td>\n",
       "      <td>Done! I can grant horses' wishes.</td>\n",
       "      <td>33</td>\n",
       "      <td>Sugarlump and the Unicorn</td>\n",
       "      <td>...</td>\n",
       "      <td>NH</td>\n",
       "      <td>0.0</td>\n",
       "      <td>False</td>\n",
       "      <td>False</td>\n",
       "      <td>False</td>\n",
       "      <td>False</td>\n",
       "      <td>False</td>\n",
       "      <td>False</td>\n",
       "      <td>False</td>\n",
       "      <td>False</td>\n",
       "    </tr>\n",
       "    <tr>\n",
       "      <th>...</th>\n",
       "      <td>...</td>\n",
       "      <td>...</td>\n",
       "      <td>...</td>\n",
       "      <td>...</td>\n",
       "      <td>...</td>\n",
       "      <td>...</td>\n",
       "      <td>...</td>\n",
       "      <td>...</td>\n",
       "      <td>...</td>\n",
       "      <td>...</td>\n",
       "      <td>...</td>\n",
       "      <td>...</td>\n",
       "      <td>...</td>\n",
       "      <td>...</td>\n",
       "      <td>...</td>\n",
       "      <td>...</td>\n",
       "      <td>...</td>\n",
       "      <td>...</td>\n",
       "      <td>...</td>\n",
       "      <td>...</td>\n",
       "      <td>...</td>\n",
       "    </tr>\n",
       "    <tr>\n",
       "      <th>3908</th>\n",
       "      <td>How The Grinch Stole Christmas</td>\n",
       "      <td>4</td>\n",
       "      <td>Grinch</td>\n",
       "      <td>Himself</td>\n",
       "      <td>Grinch</td>\n",
       "      <td>Grinch</td>\n",
       "      <td>All I need is a reindeer...</td>\n",
       "      <td>All I need is a reindeer...</td>\n",
       "      <td>27</td>\n",
       "      <td>How The Grinch Stole Christmas</td>\n",
       "      <td>...</td>\n",
       "      <td>NH</td>\n",
       "      <td>0.0</td>\n",
       "      <td>False</td>\n",
       "      <td>False</td>\n",
       "      <td>False</td>\n",
       "      <td>False</td>\n",
       "      <td>False</td>\n",
       "      <td>False</td>\n",
       "      <td>False</td>\n",
       "      <td>False</td>\n",
       "    </tr>\n",
       "    <tr>\n",
       "      <th>3909</th>\n",
       "      <td>How The Grinch Stole Christmas</td>\n",
       "      <td>5</td>\n",
       "      <td>Grinch</td>\n",
       "      <td>Himself</td>\n",
       "      <td>Grinch</td>\n",
       "      <td>Grinch</td>\n",
       "      <td>If I can't find a reindeer, I'll make one inst...</td>\n",
       "      <td>If I can't find a reindeer, I'll make one inst...</td>\n",
       "      <td>50</td>\n",
       "      <td>How The Grinch Stole Christmas</td>\n",
       "      <td>...</td>\n",
       "      <td>NH</td>\n",
       "      <td>0.0</td>\n",
       "      <td>False</td>\n",
       "      <td>False</td>\n",
       "      <td>False</td>\n",
       "      <td>False</td>\n",
       "      <td>False</td>\n",
       "      <td>False</td>\n",
       "      <td>False</td>\n",
       "      <td>False</td>\n",
       "    </tr>\n",
       "    <tr>\n",
       "      <th>3910</th>\n",
       "      <td>How The Grinch Stole Christmas</td>\n",
       "      <td>6</td>\n",
       "      <td>Grinch</td>\n",
       "      <td>Max (the dog)</td>\n",
       "      <td>Grinch</td>\n",
       "      <td>Max</td>\n",
       "      <td>Giddap!</td>\n",
       "      <td>Giddap!</td>\n",
       "      <td>7</td>\n",
       "      <td>How The Grinch Stole Christmas</td>\n",
       "      <td>...</td>\n",
       "      <td>NH</td>\n",
       "      <td>0.0</td>\n",
       "      <td>False</td>\n",
       "      <td>False</td>\n",
       "      <td>False</td>\n",
       "      <td>False</td>\n",
       "      <td>False</td>\n",
       "      <td>False</td>\n",
       "      <td>False</td>\n",
       "      <td>False</td>\n",
       "    </tr>\n",
       "    <tr>\n",
       "      <th>3911</th>\n",
       "      <td>How The Grinch Stole Christmas</td>\n",
       "      <td>7</td>\n",
       "      <td>Grinch</td>\n",
       "      <td>Himself</td>\n",
       "      <td>Grinch</td>\n",
       "      <td>Grinch</td>\n",
       "      <td>This is stop number one, the old Grinchy Claus...</td>\n",
       "      <td>This is stop number one.</td>\n",
       "      <td>24</td>\n",
       "      <td>How The Grinch Stole Christmas</td>\n",
       "      <td>...</td>\n",
       "      <td>NH</td>\n",
       "      <td>0.0</td>\n",
       "      <td>False</td>\n",
       "      <td>False</td>\n",
       "      <td>False</td>\n",
       "      <td>False</td>\n",
       "      <td>False</td>\n",
       "      <td>False</td>\n",
       "      <td>False</td>\n",
       "      <td>False</td>\n",
       "    </tr>\n",
       "    <tr>\n",
       "      <th>3912</th>\n",
       "      <td>How The Grinch Stole Christmas</td>\n",
       "      <td>8</td>\n",
       "      <td>Grinch</td>\n",
       "      <td>Himself</td>\n",
       "      <td>Grinch</td>\n",
       "      <td>Grinch</td>\n",
       "      <td>These stockings, he grinned, are the first thi...</td>\n",
       "      <td>These stockings are the first things to go!</td>\n",
       "      <td>43</td>\n",
       "      <td>How The Grinch Stole Christmas</td>\n",
       "      <td>...</td>\n",
       "      <td>NH</td>\n",
       "      <td>0.0</td>\n",
       "      <td>False</td>\n",
       "      <td>False</td>\n",
       "      <td>False</td>\n",
       "      <td>False</td>\n",
       "      <td>False</td>\n",
       "      <td>False</td>\n",
       "      <td>False</td>\n",
       "      <td>False</td>\n",
       "    </tr>\n",
       "  </tbody>\n",
       "</table>\n",
       "<p>3913 rows × 27 columns</p>\n",
       "</div>"
      ],
      "text/plain": [
       "                                book  speech_section_id       speaker  \\\n",
       "0         The Night Before Christmas                  0  St. Nicholas   \n",
       "1         The Night Before Christmas                  1  St. Nicholas   \n",
       "2          Sugarlump and the Unicorn                  0     Sugarlump   \n",
       "3          Sugarlump and the Unicorn                  1     Sugarlump   \n",
       "4          Sugarlump and the Unicorn                  2       unicorn   \n",
       "...                              ...                ...           ...   \n",
       "3908  How The Grinch Stole Christmas                  4        Grinch   \n",
       "3909  How The Grinch Stole Christmas                  5        Grinch   \n",
       "3910  How The Grinch Stole Christmas                  6        Grinch   \n",
       "3911  How The Grinch Stole Christmas                  7        Grinch   \n",
       "3912  How The Grinch Stole Christmas                  8        Grinch   \n",
       "\n",
       "          recipient speaker_matched recipient_matched  \\\n",
       "0          Reindeer    St. Nicholas          Reindeer   \n",
       "1          Everyone    St. Nicholas          Everyone   \n",
       "2           himself       Sugarlump         Sugarlump   \n",
       "3           himself       Sugarlump         Sugarlump   \n",
       "4         Sugarlump         unicorn         Sugarlump   \n",
       "...             ...             ...               ...   \n",
       "3908        Himself          Grinch            Grinch   \n",
       "3909        Himself          Grinch            Grinch   \n",
       "3910  Max (the dog)          Grinch               Max   \n",
       "3911        Himself          Grinch            Grinch   \n",
       "3912        Himself          Grinch            Grinch   \n",
       "\n",
       "                                            speech_text  \\\n",
       "0     \"Now, Dasher! now, Dancer!\\nnow, Prancer and V...   \n",
       "1     \"Happy\\nChristmas to all, and to all a good\\nn...   \n",
       "2     \"Here in the children's bedroom\\nIs where I wa...   \n",
       "3     \"Oh to be out in the big wide world!\\nI wish I...   \n",
       "4     \"Done!\" came a voice, and there stood a beast\\...   \n",
       "...                                                 ...   \n",
       "3908                        All I need is a reindeer...   \n",
       "3909  If I can't find a reindeer, I'll make one inst...   \n",
       "3910                                            Giddap!   \n",
       "3911  This is stop number one, the old Grinchy Claus...   \n",
       "3912  These stockings, he grinned, are the first thi...   \n",
       "\n",
       "                                      spoken_words_only  spoken_word_count  \\\n",
       "0     Now, Dasher! now, Dancer! now, Prancer and Vix...                183   \n",
       "1      Happy Christmas to all, and to all a good night!                 48   \n",
       "2     Here in the children's bedroom Is where I want...                106   \n",
       "3     Oh to be out in the big wide world! I wish I c...                 56   \n",
       "4                     Done! I can grant horses' wishes.                 33   \n",
       "...                                                 ...                ...   \n",
       "3908                        All I need is a reindeer...                 27   \n",
       "3909  If I can't find a reindeer, I'll make one inst...                 50   \n",
       "3910                                            Giddap!                  7   \n",
       "3911                           This is stop number one.                 24   \n",
       "3912        These stockings are the first things to go!                 43   \n",
       "\n",
       "                        chunk_titles  ...  human_recipient  \\\n",
       "0         The Night Before Christmas  ...               NH   \n",
       "1         The Night Before Christmas  ...                H   \n",
       "2          Sugarlump and the Unicorn  ...               NH   \n",
       "3          Sugarlump and the Unicorn  ...               NH   \n",
       "4          Sugarlump and the Unicorn  ...               NH   \n",
       "...                              ...  ...              ...   \n",
       "3908  How The Grinch Stole Christmas  ...               NH   \n",
       "3909  How The Grinch Stole Christmas  ...               NH   \n",
       "3910  How The Grinch Stole Christmas  ...               NH   \n",
       "3911  How The Grinch Stole Christmas  ...               NH   \n",
       "3912  How The Grinch Stole Christmas  ...               NH   \n",
       "\n",
       "     alias_count_recipient speaker_is_mum speaker_is_dad  speaker_is_granny  \\\n",
       "0                      0.0          False          False              False   \n",
       "1                      0.0          False          False              False   \n",
       "2                      0.0          False          False              False   \n",
       "3                      0.0          False          False              False   \n",
       "4                      0.0          False          False              False   \n",
       "...                    ...            ...            ...                ...   \n",
       "3908                   0.0          False          False              False   \n",
       "3909                   0.0          False          False              False   \n",
       "3910                   0.0          False          False              False   \n",
       "3911                   0.0          False          False              False   \n",
       "3912                   0.0          False          False              False   \n",
       "\n",
       "     speaker_is_grandpa recipient_is_mum recipient_is_dad  \\\n",
       "0                 False            False            False   \n",
       "1                 False            False            False   \n",
       "2                 False            False            False   \n",
       "3                 False            False            False   \n",
       "4                 False            False            False   \n",
       "...                 ...              ...              ...   \n",
       "3908              False            False            False   \n",
       "3909              False            False            False   \n",
       "3910              False            False            False   \n",
       "3911              False            False            False   \n",
       "3912              False            False            False   \n",
       "\n",
       "      recipient_is_granny  recipient_is_grandpa  \n",
       "0                   False                 False  \n",
       "1                   False                 False  \n",
       "2                   False                 False  \n",
       "3                   False                 False  \n",
       "4                   False                 False  \n",
       "...                   ...                   ...  \n",
       "3908                False                 False  \n",
       "3909                False                 False  \n",
       "3910                False                 False  \n",
       "3911                False                 False  \n",
       "3912                False                 False  \n",
       "\n",
       "[3913 rows x 27 columns]"
      ]
     },
     "execution_count": 242,
     "metadata": {},
     "output_type": "execute_result"
    }
   ],
   "source": [
    "speakers"
   ]
  },
  {
   "cell_type": "code",
   "execution_count": 243,
   "metadata": {},
   "outputs": [],
   "source": [
    "speakers['spoken_word_count'] = [\n",
    "    len(text.split()) for text in speakers.spoken_words_only\n",
    "]"
   ]
  },
  {
   "cell_type": "code",
   "execution_count": 245,
   "metadata": {},
   "outputs": [
    {
     "data": {
      "text/plain": [
       "9.790794979079498"
      ]
     },
     "execution_count": 245,
     "metadata": {},
     "output_type": "execute_result"
    }
   ],
   "source": [
    "speakers[speakers.gender_recipient=='F'].spoken_word_count.mean()"
   ]
  },
  {
   "cell_type": "code",
   "execution_count": 246,
   "metadata": {},
   "outputs": [
    {
     "data": {
      "text/plain": [
       "11.19590481460985"
      ]
     },
     "execution_count": 246,
     "metadata": {},
     "output_type": "execute_result"
    }
   ],
   "source": [
    "speakers[speakers.gender_recipient=='M'].spoken_word_count.mean()"
   ]
  },
  {
   "cell_type": "code",
   "execution_count": 278,
   "metadata": {},
   "outputs": [],
   "source": [
    "import sqlite3\n",
    "conn = sqlite3.connect('character_database.db')"
   ]
  },
  {
   "cell_type": "code",
   "execution_count": 279,
   "metadata": {},
   "outputs": [],
   "source": [
    "aliases = pd.read_sql('select * from aliases', conn, index_col='index')\n",
    "characters = pd.read_sql('select * from characters', conn, index_col='index')"
   ]
  },
  {
   "cell_type": "code",
   "execution_count": null,
   "metadata": {},
   "outputs": [],
   "source": []
  },
  {
   "cell_type": "code",
   "execution_count": 251,
   "metadata": {},
   "outputs": [],
   "source": [
    "female_character_count = sum(characters.gender == 'F')\n",
    "male_character_count = sum(characters.gender == 'M')\n",
    "ngs_character_count = sum(characters.gender == 'NGS')"
   ]
  },
  {
   "cell_type": "code",
   "execution_count": 255,
   "metadata": {},
   "outputs": [],
   "source": [
    "total_male_words = speakers[speakers.gender_recipient=='M'].spoken_word_count.sum()\n",
    "total_female_words = speakers[speakers.gender_recipient=='F'].spoken_word_count.sum()\n",
    "total_ngs_words = speakers[speakers.gender_recipient=='NGS'].spoken_word_count.sum()"
   ]
  },
  {
   "cell_type": "code",
   "execution_count": 256,
   "metadata": {},
   "outputs": [
    {
     "data": {
      "text/plain": [
       "0.1707239962061334"
      ]
     },
     "execution_count": 256,
     "metadata": {},
     "output_type": "execute_result"
    }
   ],
   "source": [
    "total_female_words / (total_female_words+total_male_words+total_ngs_words)"
   ]
  },
  {
   "cell_type": "code",
   "execution_count": 257,
   "metadata": {},
   "outputs": [
    {
     "data": {
      "text/plain": [
       "0.4920109924852258"
      ]
     },
     "execution_count": 257,
     "metadata": {},
     "output_type": "execute_result"
    }
   ],
   "source": [
    "total_male_words / (total_female_words+total_male_words+total_ngs_words)"
   ]
  },
  {
   "cell_type": "code",
   "execution_count": 258,
   "metadata": {},
   "outputs": [
    {
     "data": {
      "text/plain": [
       "0.3372650113086408"
      ]
     },
     "execution_count": 258,
     "metadata": {},
     "output_type": "execute_result"
    }
   ],
   "source": [
    "total_ngs_words / (total_female_words+total_male_words+total_ngs_words)"
   ]
  },
  {
   "cell_type": "code",
   "execution_count": 253,
   "metadata": {},
   "outputs": [
    {
     "data": {
      "text/plain": [
       "38.17169811320755"
      ]
     },
     "execution_count": 253,
     "metadata": {},
     "output_type": "execute_result"
    }
   ],
   "source": [
    "speakers[speakers.gender_recipient=='M'].spoken_word_count.sum() / male_character_count"
   ]
  },
  {
   "cell_type": "code",
   "execution_count": 254,
   "metadata": {},
   "outputs": [
    {
     "data": {
      "text/plain": [
       "20.955223880597014"
      ]
     },
     "execution_count": 254,
     "metadata": {},
     "output_type": "execute_result"
    }
   ],
   "source": [
    "speakers[speakers.gender_recipient=='F'].spoken_word_count.sum() / female_character_count"
   ]
  },
  {
   "cell_type": "code",
   "execution_count": null,
   "metadata": {},
   "outputs": [],
   "source": []
  },
  {
   "cell_type": "markdown",
   "metadata": {},
   "source": [
    "#### For interview:"
   ]
  },
  {
   "cell_type": "code",
   "execution_count": null,
   "metadata": {},
   "outputs": [],
   "source": []
  },
  {
   "cell_type": "code",
   "execution_count": 468,
   "metadata": {},
   "outputs": [],
   "source": [
    "conn = sqlite3.connect('character_database.db')"
   ]
  },
  {
   "cell_type": "code",
   "execution_count": 469,
   "metadata": {},
   "outputs": [],
   "source": [
    "aliases = pd.read_sql('select * from aliases', conn, index_col='index')\n",
    "characters = pd.read_sql('select * from characters', conn, index_col='index')"
   ]
  },
  {
   "cell_type": "code",
   "execution_count": 470,
   "metadata": {},
   "outputs": [],
   "source": [
    "remove_non_stories = [\n",
    "    'All Year Round', 'All About Feelings', 'Ten in the Bed and Other Counting Rhymes', 'Why Am I An Insect',\n",
    "    'Farmer Duck'\n",
    "]"
   ]
  },
  {
   "cell_type": "code",
   "execution_count": 471,
   "metadata": {},
   "outputs": [],
   "source": [
    "characters = characters[~characters.book.isin(remove_non_stories)]"
   ]
  },
  {
   "cell_type": "code",
   "execution_count": 472,
   "metadata": {},
   "outputs": [],
   "source": [
    "gender_count = {\n",
    "    G: sum([1 for g in characters.gender if g==G])\n",
    "    for G in ['F', 'M', 'NGS']\n",
    "}"
   ]
  },
  {
   "cell_type": "code",
   "execution_count": 473,
   "metadata": {},
   "outputs": [],
   "source": [
    "human_count = {\n",
    "    G: sum([1 for g,h in zip(characters.gender, characters.human) if g==G and h=='H'])\n",
    "    for G in ['F', 'M', 'NGS']\n",
    "}"
   ]
  },
  {
   "cell_type": "code",
   "execution_count": 474,
   "metadata": {},
   "outputs": [
    {
     "data": {
      "text/plain": [
       "{'F': 197, 'M': 223, 'NGS': 59}"
      ]
     },
     "execution_count": 474,
     "metadata": {},
     "output_type": "execute_result"
    }
   ],
   "source": [
    "human_count"
   ]
  },
  {
   "cell_type": "code",
   "execution_count": 475,
   "metadata": {},
   "outputs": [],
   "source": [
    "nonhuman_count = {\n",
    "    G: sum([1 for g,h in zip(characters.gender, characters.human) if g==G and h=='NH'])\n",
    "    for G in ['F', 'M', 'NGS']\n",
    "}"
   ]
  },
  {
   "cell_type": "code",
   "execution_count": 476,
   "metadata": {},
   "outputs": [
    {
     "data": {
      "text/plain": [
       "{'F': 123, 'M': 271, 'NGS': 516}"
      ]
     },
     "execution_count": 476,
     "metadata": {},
     "output_type": "execute_result"
    }
   ],
   "source": [
    "nonhuman_count"
   ]
  },
  {
   "cell_type": "code",
   "execution_count": 477,
   "metadata": {},
   "outputs": [],
   "source": [
    "protagonist_count = {\n",
    "    G: sum([1 for g,h in zip(characters.gender, characters.is_protagonist) if g==G and h==1])\n",
    "    for G in ['F', 'M', 'NGS']\n",
    "}"
   ]
  },
  {
   "cell_type": "code",
   "execution_count": 487,
   "metadata": {},
   "outputs": [
    {
     "data": {
      "text/plain": [
       "{'F': 44, 'M': 142, 'NGS': 21}"
      ]
     },
     "execution_count": 487,
     "metadata": {},
     "output_type": "execute_result"
    }
   ],
   "source": [
    "protagonist_count"
   ]
  },
  {
   "cell_type": "code",
   "execution_count": null,
   "metadata": {},
   "outputs": [],
   "source": []
  },
  {
   "cell_type": "code",
   "execution_count": 479,
   "metadata": {},
   "outputs": [],
   "source": [
    "secondary_count = {\n",
    "    G: sum([1 for g,h in zip(characters.gender, characters.is_protagonist) if g==G and h==0])\n",
    "    for G in ['F', 'M', 'NGS']\n",
    "}"
   ]
  },
  {
   "cell_type": "code",
   "execution_count": 480,
   "metadata": {},
   "outputs": [
    {
     "data": {
      "text/plain": [
       "{'F': 286, 'M': 388, 'NGS': 580}"
      ]
     },
     "execution_count": 480,
     "metadata": {},
     "output_type": "execute_result"
    }
   ],
   "source": [
    "secondary_count"
   ]
  },
  {
   "cell_type": "code",
   "execution_count": 481,
   "metadata": {},
   "outputs": [
    {
     "data": {
      "text/plain": [
       "{'F': 286, 'M': 388, 'NGS': 580}"
      ]
     },
     "execution_count": 481,
     "metadata": {},
     "output_type": "execute_result"
    }
   ],
   "source": [
    "secondary_count"
   ]
  },
  {
   "cell_type": "code",
   "execution_count": 477,
   "metadata": {},
   "outputs": [],
   "source": [
    "protagonist_count = {\n",
    "    G: sum([1 for g,h in zip(characters.gender, characters.is_protagonist) if g==G and h==1])\n",
    "    for G in ['F', 'M', 'NGS']\n",
    "}"
   ]
  },
  {
   "cell_type": "code",
   "execution_count": 478,
   "metadata": {},
   "outputs": [
    {
     "data": {
      "text/plain": [
       "{'F': 44, 'M': 142, 'NGS': 21}"
      ]
     },
     "execution_count": 478,
     "metadata": {},
     "output_type": "execute_result"
    }
   ],
   "source": [
    "protagonist_count"
   ]
  },
  {
   "cell_type": "code",
   "execution_count": 489,
   "metadata": {},
   "outputs": [],
   "source": [
    "protagonist_human_count = {\n",
    "    G: sum(\n",
    "        [\n",
    "            1 for g,p,h \n",
    "            in zip(characters.gender, characters.is_protagonist, characters.human) \n",
    "            if g==G and p==1 and h=='H']\n",
    "    )\n",
    "    for G in ['F', 'M', 'NGS']\n",
    "}"
   ]
  },
  {
   "cell_type": "code",
   "execution_count": 490,
   "metadata": {},
   "outputs": [
    {
     "data": {
      "text/plain": [
       "{'F': 23, 'M': 47, 'NGS': 8}"
      ]
     },
     "execution_count": 490,
     "metadata": {},
     "output_type": "execute_result"
    }
   ],
   "source": [
    "protagonist_human_count"
   ]
  },
  {
   "cell_type": "code",
   "execution_count": 493,
   "metadata": {},
   "outputs": [],
   "source": [
    "protagonist_nonhuman_count = {\n",
    "    G: sum(\n",
    "        [\n",
    "            1 for g,p,h \n",
    "            in zip(characters.gender, characters.is_protagonist, characters.human) \n",
    "            if g==G and p==1 and h=='NH']\n",
    "    )\n",
    "    for G in ['F', 'M', 'NGS']\n",
    "}"
   ]
  },
  {
   "cell_type": "code",
   "execution_count": 494,
   "metadata": {},
   "outputs": [
    {
     "data": {
      "text/plain": [
       "{'F': 18, 'M': 71, 'NGS': 9}"
      ]
     },
     "execution_count": 494,
     "metadata": {},
     "output_type": "execute_result"
    }
   ],
   "source": [
    "protagonist_nonhuman_count"
   ]
  },
  {
   "cell_type": "code",
   "execution_count": 545,
   "metadata": {},
   "outputs": [],
   "source": [
    "secondary_human_count = {\n",
    "    G: sum(\n",
    "        [\n",
    "            1 for g,p,h \n",
    "            in zip(characters.gender, characters.is_protagonist, characters.human) \n",
    "            if g==G and p==0 and h=='H']\n",
    "    )\n",
    "    for G in ['F', 'M', 'NGS']\n",
    "}"
   ]
  },
  {
   "cell_type": "code",
   "execution_count": 546,
   "metadata": {},
   "outputs": [
    {
     "data": {
      "text/plain": [
       "{'F': 174, 'M': 176, 'NGS': 51}"
      ]
     },
     "execution_count": 546,
     "metadata": {},
     "output_type": "execute_result"
    }
   ],
   "source": [
    "secondary_human_count"
   ]
  },
  {
   "cell_type": "code",
   "execution_count": 547,
   "metadata": {},
   "outputs": [],
   "source": [
    "secondary_nonhuman_count = {\n",
    "    G: sum(\n",
    "        [\n",
    "            1 for g,p,h \n",
    "            in zip(characters.gender, characters.is_protagonist, characters.human) \n",
    "            if g==G and p==0 and h=='NH']\n",
    "    )\n",
    "    for G in ['F', 'M', 'NGS']\n",
    "}"
   ]
  },
  {
   "cell_type": "code",
   "execution_count": 548,
   "metadata": {},
   "outputs": [
    {
     "data": {
      "text/plain": [
       "{'F': 105, 'M': 200, 'NGS': 507}"
      ]
     },
     "execution_count": 548,
     "metadata": {},
     "output_type": "execute_result"
    }
   ],
   "source": [
    "secondary_nonhuman_count"
   ]
  },
  {
   "cell_type": "code",
   "execution_count": null,
   "metadata": {},
   "outputs": [],
   "source": []
  },
  {
   "cell_type": "code",
   "execution_count": 482,
   "metadata": {},
   "outputs": [
    {
     "data": {
      "text/plain": [
       "1461"
      ]
     },
     "execution_count": 482,
     "metadata": {},
     "output_type": "execute_result"
    }
   ],
   "source": [
    "sum(gender_count.values())"
   ]
  },
  {
   "cell_type": "code",
   "execution_count": 483,
   "metadata": {},
   "outputs": [
    {
     "data": {
      "text/plain": [
       "{'F': 330, 'M': 530, 'NGS': 601}"
      ]
     },
     "execution_count": 483,
     "metadata": {},
     "output_type": "execute_result"
    }
   ],
   "source": [
    "gender_count"
   ]
  },
  {
   "cell_type": "code",
   "execution_count": 549,
   "metadata": {},
   "outputs": [],
   "source": [
    "summary_character = pd.DataFrame({\n",
    "    'gender': gender_count.keys(),\n",
    "    'total characters': gender_count.values(),\n",
    "    'proportions': [v / len(characters) for v in gender_count.values()],\n",
    "    'human characters': human_count.values(),\n",
    "    'human proportions': [v / sum(characters.human=='H') for v in human_count.values()],\n",
    "    'nonhuman characters': nonhuman_count.values(),\n",
    "    'nonhuman proportions': [v / sum(characters.human=='NH') for v in nonhuman_count.values()],\n",
    "    'protagonists': protagonist_count.values(),\n",
    "    'protagonist proportions': [v / sum(characters.is_protagonist==1) for v in protagonist_count.values()],\n",
    "    'secondaries': secondary_count.values(),\n",
    "    'secondary proportions': [v / sum(characters.is_protagonist==0) for v in secondary_count.values()],\n",
    "    'human protagonists': protagonist_human_count.values(),\n",
    "    'human protagonist proportions': [v / sum((characters.is_protagonist==1)*(characters.human=='H')) for v in protagonist_human_count.values()],\n",
    "    'nonhuman protagonists': protagonist_nonhuman_count.values(),\n",
    "    'nonhuman protagonist proportions': [v / sum((characters.is_protagonist==1)*(characters.human=='NH')) for v in protagonist_nonhuman_count.values()],\n",
    "    'human secondaries': secondary_human_count.values(),\n",
    "    'human secondary proportions': [v / sum((characters.is_protagonist==0)*(characters.human=='H')) for v in secondary_human_count.values()],\n",
    "    'nonhuman secondaries': secondary_nonhuman_count.values(),\n",
    "    'nonhuman secondary proportions': [v / sum((characters.is_protagonist==0)*(characters.human=='NH')) for v in secondary_nonhuman_count.values()],\n",
    "})"
   ]
  },
  {
   "cell_type": "code",
   "execution_count": 550,
   "metadata": {},
   "outputs": [
    {
     "data": {
      "text/html": [
       "<div>\n",
       "<style scoped>\n",
       "    .dataframe tbody tr th:only-of-type {\n",
       "        vertical-align: middle;\n",
       "    }\n",
       "\n",
       "    .dataframe tbody tr th {\n",
       "        vertical-align: top;\n",
       "    }\n",
       "\n",
       "    .dataframe thead th {\n",
       "        text-align: right;\n",
       "    }\n",
       "</style>\n",
       "<table border=\"1\" class=\"dataframe\">\n",
       "  <thead>\n",
       "    <tr style=\"text-align: right;\">\n",
       "      <th></th>\n",
       "      <th>gender</th>\n",
       "      <th>total characters</th>\n",
       "      <th>proportions</th>\n",
       "      <th>human characters</th>\n",
       "      <th>human proportions</th>\n",
       "      <th>nonhuman characters</th>\n",
       "      <th>nonhuman proportions</th>\n",
       "      <th>protagonists</th>\n",
       "      <th>protagonist proportions</th>\n",
       "      <th>secondaries</th>\n",
       "      <th>secondary proportions</th>\n",
       "      <th>human protagonists</th>\n",
       "      <th>human protagonist proportions</th>\n",
       "      <th>nonhuman protagonists</th>\n",
       "      <th>nonhuman protagonist proportions</th>\n",
       "      <th>human secondaries</th>\n",
       "      <th>human secondary proportions</th>\n",
       "      <th>nonhuman secondaries</th>\n",
       "      <th>nonhuman secondary proportions</th>\n",
       "    </tr>\n",
       "  </thead>\n",
       "  <tbody>\n",
       "    <tr>\n",
       "      <th>0</th>\n",
       "      <td>F</td>\n",
       "      <td>330</td>\n",
       "      <td>0.225873</td>\n",
       "      <td>197</td>\n",
       "      <td>0.411273</td>\n",
       "      <td>123</td>\n",
       "      <td>0.135165</td>\n",
       "      <td>44</td>\n",
       "      <td>0.212560</td>\n",
       "      <td>286</td>\n",
       "      <td>0.22807</td>\n",
       "      <td>23</td>\n",
       "      <td>0.294872</td>\n",
       "      <td>18</td>\n",
       "      <td>0.183673</td>\n",
       "      <td>174</td>\n",
       "      <td>0.433915</td>\n",
       "      <td>105</td>\n",
       "      <td>0.129310</td>\n",
       "    </tr>\n",
       "    <tr>\n",
       "      <th>1</th>\n",
       "      <td>M</td>\n",
       "      <td>530</td>\n",
       "      <td>0.362765</td>\n",
       "      <td>223</td>\n",
       "      <td>0.465553</td>\n",
       "      <td>271</td>\n",
       "      <td>0.297802</td>\n",
       "      <td>142</td>\n",
       "      <td>0.685990</td>\n",
       "      <td>388</td>\n",
       "      <td>0.30941</td>\n",
       "      <td>47</td>\n",
       "      <td>0.602564</td>\n",
       "      <td>71</td>\n",
       "      <td>0.724490</td>\n",
       "      <td>176</td>\n",
       "      <td>0.438903</td>\n",
       "      <td>200</td>\n",
       "      <td>0.246305</td>\n",
       "    </tr>\n",
       "    <tr>\n",
       "      <th>2</th>\n",
       "      <td>NGS</td>\n",
       "      <td>601</td>\n",
       "      <td>0.411362</td>\n",
       "      <td>59</td>\n",
       "      <td>0.123173</td>\n",
       "      <td>516</td>\n",
       "      <td>0.567033</td>\n",
       "      <td>21</td>\n",
       "      <td>0.101449</td>\n",
       "      <td>580</td>\n",
       "      <td>0.46252</td>\n",
       "      <td>8</td>\n",
       "      <td>0.102564</td>\n",
       "      <td>9</td>\n",
       "      <td>0.091837</td>\n",
       "      <td>51</td>\n",
       "      <td>0.127182</td>\n",
       "      <td>507</td>\n",
       "      <td>0.624384</td>\n",
       "    </tr>\n",
       "  </tbody>\n",
       "</table>\n",
       "</div>"
      ],
      "text/plain": [
       "  gender  total characters  proportions  human characters  human proportions  \\\n",
       "0      F               330     0.225873               197           0.411273   \n",
       "1      M               530     0.362765               223           0.465553   \n",
       "2    NGS               601     0.411362                59           0.123173   \n",
       "\n",
       "   nonhuman characters  nonhuman proportions  protagonists  \\\n",
       "0                  123              0.135165            44   \n",
       "1                  271              0.297802           142   \n",
       "2                  516              0.567033            21   \n",
       "\n",
       "   protagonist proportions  secondaries  secondary proportions  \\\n",
       "0                 0.212560          286                0.22807   \n",
       "1                 0.685990          388                0.30941   \n",
       "2                 0.101449          580                0.46252   \n",
       "\n",
       "   human protagonists  human protagonist proportions  nonhuman protagonists  \\\n",
       "0                  23                       0.294872                     18   \n",
       "1                  47                       0.602564                     71   \n",
       "2                   8                       0.102564                      9   \n",
       "\n",
       "   nonhuman protagonist proportions  human secondaries  \\\n",
       "0                          0.183673                174   \n",
       "1                          0.724490                176   \n",
       "2                          0.091837                 51   \n",
       "\n",
       "   human secondary proportions  nonhuman secondaries  \\\n",
       "0                     0.433915                   105   \n",
       "1                     0.438903                   200   \n",
       "2                     0.127182                   507   \n",
       "\n",
       "   nonhuman secondary proportions  \n",
       "0                        0.129310  \n",
       "1                        0.246305  \n",
       "2                        0.624384  "
      ]
     },
     "execution_count": 550,
     "metadata": {},
     "output_type": "execute_result"
    }
   ],
   "source": [
    "summary_character"
   ]
  },
  {
   "cell_type": "code",
   "execution_count": 551,
   "metadata": {},
   "outputs": [
    {
     "data": {
      "text/plain": [
       "0.6226415094339622"
      ]
     },
     "execution_count": 551,
     "metadata": {},
     "output_type": "execute_result"
    }
   ],
   "source": [
    "gender_count['F'] / gender_count['M']"
   ]
  },
  {
   "cell_type": "code",
   "execution_count": 395,
   "metadata": {},
   "outputs": [],
   "source": [
    "mum_map = ['mum', 'mother', 'mummy', 'mom', 'mommy', 'ma', 'mama', 'mumma', 'mamma']\n",
    "dad_map = ['dad', 'father', 'daddy', 'dada', 'dadda', 'da', 'pa', 'papa']\n",
    "gran_map = ['gran', 'granny', 'nan', 'nana', 'nanna', 'grandma', 'gradmother', 'granmother'] \n",
    "grandpa_map = ['grandpa', 'gramps', 'grandfather', 'grandad', 'granddad']\n",
    "\n",
    "def match_map(_map, _name, verbose=False):\n",
    "    exclusions = ['christmas', 'xmas', 'nature', 'earth', 'time', 'clock']\n",
    "    \n",
    "    if not pd.isna(_name):\n",
    "        _name = str(_name)\n",
    "    else:\n",
    "        _name=''\n",
    "   \n",
    "    is_exclusion = sum([\n",
    "        m in _name.lower() for m in exclusions\n",
    "    ]) > 0\n",
    "    if is_exclusion:\n",
    "        return False\n",
    "    \n",
    "    is_match = sum([\n",
    "        m in _name.lower().split() for m in _map\n",
    "    ]) > 0\n",
    "    if is_match and verbose:\n",
    "        print(_name)\n",
    "\n",
    "    return is_match "
   ]
  },
  {
   "cell_type": "code",
   "execution_count": 396,
   "metadata": {},
   "outputs": [],
   "source": [
    "characters['is_mum'] = [\n",
    "    match_map(mum_map, s)\n",
    "    for s in characters.name\n",
    "]\n",
    "characters['is_dad'] = [\n",
    "    match_map(dad_map, s)\n",
    "    for s in characters.name\n",
    "]\n",
    "characters['is_granny'] = [\n",
    "    match_map(gran_map, s)\n",
    "    for s in characters.name\n",
    "]\n",
    "characters['is_grandpa'] = [\n",
    "    match_map(grandpa_map, s)\n",
    "    for s in characters.name\n",
    "]"
   ]
  },
  {
   "cell_type": "code",
   "execution_count": 397,
   "metadata": {},
   "outputs": [
    {
     "data": {
      "text/plain": [
       "0.16363636363636364"
      ]
     },
     "execution_count": 397,
     "metadata": {},
     "output_type": "execute_result"
    }
   ],
   "source": [
    "characters.is_mum.sum() / (characters.gender=='F').sum()"
   ]
  },
  {
   "cell_type": "code",
   "execution_count": 398,
   "metadata": {},
   "outputs": [
    {
     "data": {
      "text/plain": [
       "0.05849056603773585"
      ]
     },
     "execution_count": 398,
     "metadata": {},
     "output_type": "execute_result"
    }
   ],
   "source": [
    "characters.is_dad.sum() / (characters.gender=='M').sum()"
   ]
  },
  {
   "cell_type": "code",
   "execution_count": null,
   "metadata": {},
   "outputs": [],
   "source": []
  },
  {
   "cell_type": "code",
   "execution_count": 399,
   "metadata": {},
   "outputs": [
    {
     "data": {
      "text/plain": [
       "0.06363636363636363"
      ]
     },
     "execution_count": 399,
     "metadata": {},
     "output_type": "execute_result"
    }
   ],
   "source": [
    "characters.is_granny.sum() / (characters.gender=='F').sum()"
   ]
  },
  {
   "cell_type": "code",
   "execution_count": 400,
   "metadata": {},
   "outputs": [
    {
     "data": {
      "text/plain": [
       "0.013207547169811321"
      ]
     },
     "execution_count": 400,
     "metadata": {},
     "output_type": "execute_result"
    }
   ],
   "source": [
    "characters.is_grandpa.sum() / (characters.gender=='M').sum()"
   ]
  },
  {
   "cell_type": "markdown",
   "metadata": {},
   "source": [
    "#### Speech stats for interview:"
   ]
  },
  {
   "cell_type": "code",
   "execution_count": 439,
   "metadata": {},
   "outputs": [],
   "source": [
    "spoken_word_count = {\n",
    "    G: sum([len(text.split()) for text in speakers[speakers.gender_speaker==G].spoken_words_only])\n",
    "    for G in ['F', 'M', 'NGS']\n",
    "}\n"
   ]
  },
  {
   "cell_type": "code",
   "execution_count": 464,
   "metadata": {},
   "outputs": [],
   "source": [
    "received_word_count = {\n",
    "    G: sum([len(text.split()) for text in speakers[speakers.gender_recipient==G].spoken_words_only])\n",
    "    for G in ['F', 'M', 'NGS']\n",
    "}\n"
   ]
  },
  {
   "cell_type": "code",
   "execution_count": 465,
   "metadata": {},
   "outputs": [
    {
     "data": {
      "text/plain": [
       "{'F': 9546, 'M': 21144, 'NGS': 10553}"
      ]
     },
     "execution_count": 465,
     "metadata": {},
     "output_type": "execute_result"
    }
   ],
   "source": [
    "spoken_word_count"
   ]
  },
  {
   "cell_type": "code",
   "execution_count": 466,
   "metadata": {},
   "outputs": [
    {
     "data": {
      "text/plain": [
       "{'F': 7020, 'M': 20231, 'NGS': 13868}"
      ]
     },
     "execution_count": 466,
     "metadata": {},
     "output_type": "execute_result"
    }
   ],
   "source": [
    "received_word_count"
   ]
  },
  {
   "cell_type": "code",
   "execution_count": 507,
   "metadata": {},
   "outputs": [
    {
     "data": {
      "text/plain": [
       "81"
      ]
     },
     "execution_count": 507,
     "metadata": {},
     "output_type": "execute_result"
    }
   ],
   "source": [
    "len(speakers[speakers.gender_recipient=='F'].book.unique())"
   ]
  },
  {
   "cell_type": "code",
   "execution_count": 519,
   "metadata": {},
   "outputs": [],
   "source": [
    "speaker_book_count = {\n",
    "    G: len(speakers[\n",
    "        (speakers.gender_speaker==G)*(speakers.gender_recipient==G)\n",
    "    ].book.unique())\n",
    "    for G in ['F', 'M', 'NGS']\n",
    "}\n"
   ]
  },
  {
   "cell_type": "code",
   "execution_count": 520,
   "metadata": {},
   "outputs": [
    {
     "data": {
      "text/plain": [
       "{'F': 28, 'M': 77, 'NGS': 42}"
      ]
     },
     "execution_count": 520,
     "metadata": {},
     "output_type": "execute_result"
    }
   ],
   "source": [
    "speaker_book_count"
   ]
  },
  {
   "cell_type": "code",
   "execution_count": 508,
   "metadata": {},
   "outputs": [],
   "source": [
    "received_book_count = {\n",
    "    G: len(speakers[speakers.gender_recipient==G].book.unique())\n",
    "    for G in ['F', 'M', 'NGS']\n",
    "}\n"
   ]
  },
  {
   "cell_type": "code",
   "execution_count": 509,
   "metadata": {},
   "outputs": [
    {
     "data": {
      "text/plain": [
       "{'F': 81, 'M': 114, 'NGS': 106}"
      ]
     },
     "execution_count": 509,
     "metadata": {},
     "output_type": "execute_result"
    }
   ],
   "source": [
    "received_book_count"
   ]
  },
  {
   "cell_type": "code",
   "execution_count": 514,
   "metadata": {},
   "outputs": [],
   "source": [
    "speech_book_count = len(speakers.book.unique())"
   ]
  },
  {
   "cell_type": "code",
   "execution_count": 517,
   "metadata": {},
   "outputs": [
    {
     "data": {
      "text/plain": [
       "139"
      ]
     },
     "execution_count": 517,
     "metadata": {},
     "output_type": "execute_result"
    }
   ],
   "source": [
    "speech_book_count"
   ]
  },
  {
   "cell_type": "code",
   "execution_count": 522,
   "metadata": {},
   "outputs": [
    {
     "data": {
      "text/plain": [
       "0.5539568345323741"
      ]
     },
     "execution_count": 522,
     "metadata": {},
     "output_type": "execute_result"
    }
   ],
   "source": [
    "77/139"
   ]
  },
  {
   "cell_type": "code",
   "execution_count": 526,
   "metadata": {},
   "outputs": [],
   "source": [
    "summary_speech = pd.DataFrame({\n",
    "    'gender': spoken_word_count.keys(),\n",
    "    'total_spoken_words': spoken_word_count.values(),\n",
    "    'proportion_speech': [v / sum(spoken_word_count.values()) for v in spoken_word_count.values()],\n",
    "    'words_spoken_per_character': [v / c for v,c in zip(spoken_word_count.values(), gender_count.values())],\n",
    "    'words_received_per_character': [v / c for v,c in zip(received_word_count.values(), gender_count.values())],\n",
    "    'bechdel_books': speaker_book_count.values(),\n",
    "    'bechdel_proportions': [v / speech_book_count for v in speaker_book_count.values()],\n",
    "    'total_received_words': received_word_count.values(),\n",
    "    'received_proportion_speech': [v / sum(received_word_count.values()) for v in received_word_count.values()],\n",
    "    \n",
    "#     'human proportions': [v / sum(characters.human=='H') for v in human_count.values()],\n",
    "#     'nonhuman characters': nonhuman_count.values(),\n",
    "#     'nonhuman proportions': [v / sum(characters.human=='NH') for v in nonhuman_count.values()],\n",
    "#     'protagonists': protagonist_count.values(),\n",
    "#     'protagonist proportions': [v / sum(characters.is_protagonist==1) for v in protagonist_count.values()],\n",
    "#     'secondaries': secondary_count.values(),\n",
    "#     'secondary proportions': [v / sum(characters.is_protagonist==0) for v in secondary_count.values()],\n",
    "})"
   ]
  },
  {
   "cell_type": "code",
   "execution_count": 527,
   "metadata": {},
   "outputs": [
    {
     "data": {
      "text/html": [
       "<div>\n",
       "<style scoped>\n",
       "    .dataframe tbody tr th:only-of-type {\n",
       "        vertical-align: middle;\n",
       "    }\n",
       "\n",
       "    .dataframe tbody tr th {\n",
       "        vertical-align: top;\n",
       "    }\n",
       "\n",
       "    .dataframe thead th {\n",
       "        text-align: right;\n",
       "    }\n",
       "</style>\n",
       "<table border=\"1\" class=\"dataframe\">\n",
       "  <thead>\n",
       "    <tr style=\"text-align: right;\">\n",
       "      <th></th>\n",
       "      <th>gender</th>\n",
       "      <th>total_spoken_words</th>\n",
       "      <th>proportion_speech</th>\n",
       "      <th>words_spoken_per_character</th>\n",
       "      <th>words_received_per_character</th>\n",
       "      <th>bechdel_books</th>\n",
       "      <th>bechdel_proportions</th>\n",
       "      <th>total_received_words</th>\n",
       "      <th>received_proportion_speech</th>\n",
       "    </tr>\n",
       "  </thead>\n",
       "  <tbody>\n",
       "    <tr>\n",
       "      <th>0</th>\n",
       "      <td>F</td>\n",
       "      <td>9546</td>\n",
       "      <td>0.231457</td>\n",
       "      <td>28.927273</td>\n",
       "      <td>21.272727</td>\n",
       "      <td>28</td>\n",
       "      <td>0.201439</td>\n",
       "      <td>7020</td>\n",
       "      <td>0.170724</td>\n",
       "    </tr>\n",
       "    <tr>\n",
       "      <th>1</th>\n",
       "      <td>M</td>\n",
       "      <td>21144</td>\n",
       "      <td>0.512669</td>\n",
       "      <td>39.894340</td>\n",
       "      <td>38.171698</td>\n",
       "      <td>77</td>\n",
       "      <td>0.553957</td>\n",
       "      <td>20231</td>\n",
       "      <td>0.492011</td>\n",
       "    </tr>\n",
       "    <tr>\n",
       "      <th>2</th>\n",
       "      <td>NGS</td>\n",
       "      <td>10553</td>\n",
       "      <td>0.255874</td>\n",
       "      <td>17.559068</td>\n",
       "      <td>23.074875</td>\n",
       "      <td>42</td>\n",
       "      <td>0.302158</td>\n",
       "      <td>13868</td>\n",
       "      <td>0.337265</td>\n",
       "    </tr>\n",
       "  </tbody>\n",
       "</table>\n",
       "</div>"
      ],
      "text/plain": [
       "  gender  total_spoken_words  proportion_speech  words_spoken_per_character  \\\n",
       "0      F                9546           0.231457                   28.927273   \n",
       "1      M               21144           0.512669                   39.894340   \n",
       "2    NGS               10553           0.255874                   17.559068   \n",
       "\n",
       "   words_received_per_character  bechdel_books  bechdel_proportions  \\\n",
       "0                     21.272727             28             0.201439   \n",
       "1                     38.171698             77             0.553957   \n",
       "2                     23.074875             42             0.302158   \n",
       "\n",
       "   total_received_words  received_proportion_speech  \n",
       "0                  7020                    0.170724  \n",
       "1                 20231                    0.492011  \n",
       "2                 13868                    0.337265  "
      ]
     },
     "execution_count": 527,
     "metadata": {},
     "output_type": "execute_result"
    }
   ],
   "source": [
    "summary_speech"
   ]
  },
  {
   "cell_type": "code",
   "execution_count": 534,
   "metadata": {},
   "outputs": [
    {
     "data": {
      "text/plain": [
       "(array([283., 292., 125.,  58.,  44.,  19.,   7.,   5.,   3.,   6.,   3.,\n",
       "          0.,   2.,   0.,   0.,   0.,   0.,   0.,   0.,   3.]),\n",
       " array([  0.  ,   5.85,  11.7 ,  17.55,  23.4 ,  29.25,  35.1 ,  40.95,\n",
       "         46.8 ,  52.65,  58.5 ,  64.35,  70.2 ,  76.05,  81.9 ,  87.75,\n",
       "         93.6 ,  99.45, 105.3 , 111.15, 117.  ]),\n",
       " <BarContainer object of 20 artists>)"
      ]
     },
     "execution_count": 534,
     "metadata": {},
     "output_type": "execute_result"
    },
    {
     "data": {
      "image/png": "[encoded data removed]",
      "text/plain": [
       "<Figure size 750x350 with 1 Axes>"
      ]
     },
     "metadata": {},
     "output_type": "display_data"
    }
   ],
   "source": [
    "plt.hist(speakers[speakers.gender_speaker=='NGS'].spoken_word_count, bins=20)\n",
    "plt.hist(speakers[speakers.gender_speaker=='M'].spoken_word_count, bins=20)\n",
    "\n",
    "plt.hist(speakers[speakers.gender_speaker=='F'].spoken_word_count, bins=20)\n"
   ]
  },
  {
   "cell_type": "code",
   "execution_count": 577,
   "metadata": {},
   "outputs": [
    {
     "data": {
      "image/png": "[encoded data removed]",
      "text/plain": [
       "<Figure size 750x450 with 1 Axes>"
      ]
     },
     "metadata": {},
     "output_type": "display_data"
    }
   ],
   "source": [
    "plt.boxplot(\n",
    "    [\n",
    "        speakers[speakers.gender_speaker=='F'].spoken_word_count,\n",
    "        speakers[speakers.gender_speaker=='M'].spoken_word_count,\n",
    "        speakers[speakers.gender_speaker=='NGS'].spoken_word_count\n",
    "    ]\n",
    ");\n",
    "plt.yscale('log')"
   ]
  },
  {
   "cell_type": "code",
   "execution_count": 593,
   "metadata": {},
   "outputs": [],
   "source": [
    "# gr = speakers.groupby(['book', 'name_speaker', 'gender_speaker']).sum()\n",
    "# gr"
   ]
  },
  {
   "cell_type": "code",
   "execution_count": 594,
   "metadata": {},
   "outputs": [],
   "source": [
    "# plt.boxplot(\n",
    "#     [\n",
    "#         gr.loc[:,:,'F'].spoken_word_count,\n",
    "#         gr.loc[:,:,'M'].spoken_word_count,\n",
    "#         gr.loc[:,:,'NGS'].spoken_word_count,\n",
    "#     ]\n",
    "# );\n",
    "# plt.yscale('log')\n",
    "# plt.xticks(['F', 'M', 'NGS'])"
   ]
  },
  {
   "cell_type": "code",
   "execution_count": null,
   "metadata": {},
   "outputs": [],
   "source": []
  },
  {
   "cell_type": "code",
   "execution_count": null,
   "metadata": {},
   "outputs": [],
   "source": []
  },
  {
   "cell_type": "code",
   "execution_count": 552,
   "metadata": {},
   "outputs": [
    {
     "data": {
      "text/html": [
       "<div>\n",
       "<style scoped>\n",
       "    .dataframe tbody tr th:only-of-type {\n",
       "        vertical-align: middle;\n",
       "    }\n",
       "\n",
       "    .dataframe tbody tr th {\n",
       "        vertical-align: top;\n",
       "    }\n",
       "\n",
       "    .dataframe thead th {\n",
       "        text-align: right;\n",
       "    }\n",
       "</style>\n",
       "<table border=\"1\" class=\"dataframe\">\n",
       "  <thead>\n",
       "    <tr style=\"text-align: right;\">\n",
       "      <th></th>\n",
       "      <th>gender</th>\n",
       "      <th>total characters</th>\n",
       "      <th>proportions</th>\n",
       "      <th>human characters</th>\n",
       "      <th>human proportions</th>\n",
       "      <th>nonhuman characters</th>\n",
       "      <th>nonhuman proportions</th>\n",
       "      <th>protagonists</th>\n",
       "      <th>protagonist proportions</th>\n",
       "      <th>secondaries</th>\n",
       "      <th>secondary proportions</th>\n",
       "      <th>human protagonists</th>\n",
       "      <th>human protagonist proportions</th>\n",
       "      <th>nonhuman protagonists</th>\n",
       "      <th>nonhuman protagonist proportions</th>\n",
       "      <th>human secondaries</th>\n",
       "      <th>human secondary proportions</th>\n",
       "      <th>nonhuman secondaries</th>\n",
       "      <th>nonhuman secondary proportions</th>\n",
       "    </tr>\n",
       "  </thead>\n",
       "  <tbody>\n",
       "    <tr>\n",
       "      <th>0</th>\n",
       "      <td>F</td>\n",
       "      <td>330</td>\n",
       "      <td>0.225873</td>\n",
       "      <td>197</td>\n",
       "      <td>0.411273</td>\n",
       "      <td>123</td>\n",
       "      <td>0.135165</td>\n",
       "      <td>44</td>\n",
       "      <td>0.212560</td>\n",
       "      <td>286</td>\n",
       "      <td>0.22807</td>\n",
       "      <td>23</td>\n",
       "      <td>0.294872</td>\n",
       "      <td>18</td>\n",
       "      <td>0.183673</td>\n",
       "      <td>174</td>\n",
       "      <td>0.433915</td>\n",
       "      <td>105</td>\n",
       "      <td>0.129310</td>\n",
       "    </tr>\n",
       "    <tr>\n",
       "      <th>1</th>\n",
       "      <td>M</td>\n",
       "      <td>530</td>\n",
       "      <td>0.362765</td>\n",
       "      <td>223</td>\n",
       "      <td>0.465553</td>\n",
       "      <td>271</td>\n",
       "      <td>0.297802</td>\n",
       "      <td>142</td>\n",
       "      <td>0.685990</td>\n",
       "      <td>388</td>\n",
       "      <td>0.30941</td>\n",
       "      <td>47</td>\n",
       "      <td>0.602564</td>\n",
       "      <td>71</td>\n",
       "      <td>0.724490</td>\n",
       "      <td>176</td>\n",
       "      <td>0.438903</td>\n",
       "      <td>200</td>\n",
       "      <td>0.246305</td>\n",
       "    </tr>\n",
       "    <tr>\n",
       "      <th>2</th>\n",
       "      <td>NGS</td>\n",
       "      <td>601</td>\n",
       "      <td>0.411362</td>\n",
       "      <td>59</td>\n",
       "      <td>0.123173</td>\n",
       "      <td>516</td>\n",
       "      <td>0.567033</td>\n",
       "      <td>21</td>\n",
       "      <td>0.101449</td>\n",
       "      <td>580</td>\n",
       "      <td>0.46252</td>\n",
       "      <td>8</td>\n",
       "      <td>0.102564</td>\n",
       "      <td>9</td>\n",
       "      <td>0.091837</td>\n",
       "      <td>51</td>\n",
       "      <td>0.127182</td>\n",
       "      <td>507</td>\n",
       "      <td>0.624384</td>\n",
       "    </tr>\n",
       "  </tbody>\n",
       "</table>\n",
       "</div>"
      ],
      "text/plain": [
       "  gender  total characters  proportions  human characters  human proportions  \\\n",
       "0      F               330     0.225873               197           0.411273   \n",
       "1      M               530     0.362765               223           0.465553   \n",
       "2    NGS               601     0.411362                59           0.123173   \n",
       "\n",
       "   nonhuman characters  nonhuman proportions  protagonists  \\\n",
       "0                  123              0.135165            44   \n",
       "1                  271              0.297802           142   \n",
       "2                  516              0.567033            21   \n",
       "\n",
       "   protagonist proportions  secondaries  secondary proportions  \\\n",
       "0                 0.212560          286                0.22807   \n",
       "1                 0.685990          388                0.30941   \n",
       "2                 0.101449          580                0.46252   \n",
       "\n",
       "   human protagonists  human protagonist proportions  nonhuman protagonists  \\\n",
       "0                  23                       0.294872                     18   \n",
       "1                  47                       0.602564                     71   \n",
       "2                   8                       0.102564                      9   \n",
       "\n",
       "   nonhuman protagonist proportions  human secondaries  \\\n",
       "0                          0.183673                174   \n",
       "1                          0.724490                176   \n",
       "2                          0.091837                 51   \n",
       "\n",
       "   human secondary proportions  nonhuman secondaries  \\\n",
       "0                     0.433915                   105   \n",
       "1                     0.438903                   200   \n",
       "2                     0.127182                   507   \n",
       "\n",
       "   nonhuman secondary proportions  \n",
       "0                        0.129310  \n",
       "1                        0.246305  \n",
       "2                        0.624384  "
      ]
     },
     "execution_count": 552,
     "metadata": {},
     "output_type": "execute_result"
    }
   ],
   "source": [
    "summary_character"
   ]
  },
  {
   "cell_type": "code",
   "execution_count": 553,
   "metadata": {},
   "outputs": [],
   "source": [
    "# summary_character.append(0, axis=1)\n",
    "summary_character.loc[len(summary_character)] = 0"
   ]
  },
  {
   "cell_type": "code",
   "execution_count": 572,
   "metadata": {},
   "outputs": [
    {
     "data": {
      "image/png": "[encoded data removed]",
      "text/plain": [
       "<Figure size 750x450 with 1 Axes>"
      ]
     },
     "metadata": {},
     "output_type": "display_data"
    }
   ],
   "source": [
    "plt.rcParams[\"figure.figsize\"] = [7.50, 4.50]\n",
    "plt.rcParams[\"figure.autolayout\"] = True\n",
    "\n",
    "gender = ['Female', 'Male', 'NGS', 'Transgender']\n",
    "human_protagonists = summary_character['human protagonists']\n",
    "nonhuman_protagonists = summary_character['nonhuman protagonists']\n",
    "human_secondaries = summary_character['human secondaries']\n",
    "nonhuman_secondaries = summary_character['nonhuman secondaries']\n",
    "\n",
    "\n",
    "b1 = plt.barh(gender, human_protagonists, color=\"salmon\")\n",
    "b2 = plt.barh(gender, nonhuman_protagonists, left=human_protagonists, color=\"grey\")\n",
    "b3 = plt.barh(gender, human_secondaries, left=human_protagonists + nonhuman_protagonists, color=\"gold\")\n",
    "b4 = plt.barh(gender, nonhuman_secondaries, left=human_protagonists + nonhuman_protagonists + human_secondaries, color=\"powderblue\")\n",
    "\n",
    "\n",
    "plt.legend([b1, b2, b3, b4], [\"Human protagonists\", \"Nonhuman protagonists\", \"Human secondaries\", \"Nonhuman secondaries\", ])#, title=\"Characters\")#, loc=\"upper right\")\n",
    "plt.tight_layout()\n",
    "plt.show()"
   ]
  },
  {
   "cell_type": "code",
   "execution_count": null,
   "metadata": {},
   "outputs": [],
   "source": []
  },
  {
   "cell_type": "code",
   "execution_count": null,
   "metadata": {},
   "outputs": [],
   "source": []
  },
  {
   "cell_type": "code",
   "execution_count": 428,
   "metadata": {},
   "outputs": [
    {
     "data": {
      "text/plain": [
       "0.09888958726168029"
      ]
     },
     "execution_count": 428,
     "metadata": {},
     "output_type": "execute_result"
    }
   ],
   "source": [
    "speakers[speakers.speaker_is_mum].spoken_word_count.sum() / speakers[speakers.gender_speaker=='F'].spoken_word_count.sum()"
   ]
  },
  {
   "cell_type": "code",
   "execution_count": 429,
   "metadata": {},
   "outputs": [
    {
     "data": {
      "text/plain": [
       "0.0200529701097238"
      ]
     },
     "execution_count": 429,
     "metadata": {},
     "output_type": "execute_result"
    }
   ],
   "source": [
    "speakers[speakers.speaker_is_dad].spoken_word_count.sum() / speakers[speakers.gender_speaker=='M'].spoken_word_count.sum()"
   ]
  },
  {
   "cell_type": "code",
   "execution_count": null,
   "metadata": {},
   "outputs": [],
   "source": []
  }
 ],
 "metadata": {
  "kernelspec": {
   "display_name": "newenv",
   "language": "python",
   "name": "newenv"
  },
  "language_info": {
   "codemirror_mode": {
    "name": "ipython",
    "version": 3
   },
   "file_extension": ".py",
   "mimetype": "text/x-python",
   "name": "python",
   "nbconvert_exporter": "python",
   "pygments_lexer": "ipython3",
   "version": "3.7.4"
  }
 },
 "nbformat": 4,
 "nbformat_minor": 2
}
