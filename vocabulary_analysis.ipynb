{
 "cells": [
  {
   "cell_type": "markdown",
   "metadata": {},
   "source": [
    "#### This script contains most of the results included in the chapter. Plus lots of quick exploratory stuff. (Needs cleaning.)"
   ]
  },
  {
   "cell_type": "code",
   "execution_count": 1,
   "metadata": {},
   "outputs": [],
   "source": [
    "import os\n",
    "import json\n",
    "import pdfplumber\n",
    "import pandas as pd\n",
    "import numpy as np\n",
    "import matplotlib.pyplot as plt\n",
    "from collections import Counter\n",
    "import string\n",
    "import spacy\n",
    "from spacy import displacy\n",
    "from spacy.lang.en.examples import sentences \n",
    "import pickle\n",
    "from lexicalrichness import LexicalRichness\n",
    "\n",
    "%matplotlib inline"
   ]
  },
  {
   "cell_type": "code",
   "execution_count": 2,
   "metadata": {},
   "outputs": [],
   "source": [
    "with open('data/gpt4_speakers_recipients_processed.json', 'r') as outfile:\n",
    "    speakers = pd.read_json(outfile)"
   ]
  },
  {
   "cell_type": "code",
   "execution_count": 3,
   "metadata": {},
   "outputs": [
    {
     "data": {
      "text/plain": [
       "Index(['book', 'speech_section_id', 'speaker', 'recipient', 'speaker_matched',\n",
       "       'recipient_matched', 'speech_text', 'spoken_words_only',\n",
       "       'spoken_word_count', 'chunk_titles', 'self_talk_flag', 'name_speaker',\n",
       "       'gender_speaker', 'human_speaker', 'alias_count_speaker',\n",
       "       'is_protagonist_speaker', 'name_recipient', 'gender_recipient',\n",
       "       'human_recipient', 'alias_count_recipient', 'is_protagonist_recipient'],\n",
       "      dtype='object')"
      ]
     },
     "execution_count": 3,
     "metadata": {},
     "output_type": "execute_result"
    }
   ],
   "source": [
    "speakers.columns"
   ]
  },
  {
   "cell_type": "code",
   "execution_count": 4,
   "metadata": {},
   "outputs": [],
   "source": [
    "# male_spoken_words = ' '.join(speakers[speakers.gender_recipient == 'M'].spoken_words_only)\n",
    "# female_spoken_words = ' '.join(speakers[speakers.gender_recipient == 'F'].spoken_words_only)\n",
    "# ngs_spoken_words = ' '.join(speakers[speakers.gender_recipient == 'NGS'].spoken_words_only)\n",
    "\n",
    "male_spoken_words = ' '.join(speakers[speakers.gender_speaker == 'M'].spoken_words_only)\n",
    "female_spoken_words = ' '.join(speakers[speakers.gender_speaker == 'F'].spoken_words_only)\n",
    "ngs_spoken_words = ' '.join(speakers[speakers.gender_speaker == 'NGS'].spoken_words_only)"
   ]
  },
  {
   "cell_type": "code",
   "execution_count": 5,
   "metadata": {},
   "outputs": [
    {
     "data": {
      "text/plain": [
       "7816"
      ]
     },
     "execution_count": 5,
     "metadata": {},
     "output_type": "execute_result"
    }
   ],
   "source": [
    "len(female_spoken_words.split())"
   ]
  },
  {
   "cell_type": "code",
   "execution_count": 6,
   "metadata": {},
   "outputs": [
    {
     "data": {
      "text/plain": [
       "7816"
      ]
     },
     "execution_count": 6,
     "metadata": {},
     "output_type": "execute_result"
    }
   ],
   "source": [
    "sum([len(text.split()) for text in speakers[speakers.gender_speaker=='F'].spoken_words_only])"
   ]
  },
  {
   "cell_type": "code",
   "execution_count": 131,
   "metadata": {},
   "outputs": [],
   "source": [
    "f_lex = LexicalRichness(female_spoken_words)\n",
    "m_lex = LexicalRichness(male_spoken_words)\n",
    "n_lex = LexicalRichness(ngs_spoken_words)"
   ]
  },
  {
   "cell_type": "code",
   "execution_count": 132,
   "metadata": {},
   "outputs": [
    {
     "data": {
      "text/plain": [
       "1604"
      ]
     },
     "execution_count": 132,
     "metadata": {},
     "output_type": "execute_result"
    }
   ],
   "source": [
    "f_lex.terms"
   ]
  },
  {
   "cell_type": "code",
   "execution_count": 133,
   "metadata": {},
   "outputs": [
    {
     "data": {
      "text/plain": [
       "2430"
      ]
     },
     "execution_count": 133,
     "metadata": {},
     "output_type": "execute_result"
    }
   ],
   "source": [
    "m_lex.terms"
   ]
  },
  {
   "cell_type": "code",
   "execution_count": 134,
   "metadata": {},
   "outputs": [
    {
     "data": {
      "text/plain": [
       "1646"
      ]
     },
     "execution_count": 134,
     "metadata": {},
     "output_type": "execute_result"
    }
   ],
   "source": [
    "n_lex.terms"
   ]
  },
  {
   "cell_type": "code",
   "execution_count": 103,
   "metadata": {},
   "outputs": [
    {
     "name": "stdout",
     "output_type": "stream",
     "text": [
      "57.80893329186752 65.28069594673612 46.2087712356104\n"
     ]
    }
   ],
   "source": [
    "print(\n",
    "    f_lex.mtld(threshold=0.72),\n",
    "    m_lex.mtld(threshold=0.72),\n",
    "    n_lex.mtld(threshold=0.72)\n",
    ")"
   ]
  },
  {
   "cell_type": "code",
   "execution_count": 104,
   "metadata": {},
   "outputs": [
    {
     "name": "stdout",
     "output_type": "stream",
     "text": [
      "0.8316333891977333 0.8035194500764283 0.8183646863355091\n"
     ]
    }
   ],
   "source": [
    "print(\n",
    "    f_lex.Herdan,\n",
    "    m_lex.Herdan,\n",
    "    n_lex.Herdan\n",
    ")"
   ]
  },
  {
   "cell_type": "code",
   "execution_count": 105,
   "metadata": {},
   "outputs": [
    {
     "name": "stdout",
     "output_type": "stream",
     "text": [
      "0.9151694507695607 0.9032965168163162 0.9099675587360264\n"
     ]
    }
   ],
   "source": [
    "print(\n",
    "    f_lex.Summer,\n",
    "    m_lex.Summer,\n",
    "    n_lex.Summer\n",
    ")"
   ]
  },
  {
   "cell_type": "code",
   "execution_count": 110,
   "metadata": {},
   "outputs": [],
   "source": [
    "import random"
   ]
  },
  {
   "cell_type": "code",
   "execution_count": 111,
   "metadata": {},
   "outputs": [],
   "source": [
    "rep = 10"
   ]
  },
  {
   "cell_type": "code",
   "execution_count": 195,
   "metadata": {},
   "outputs": [],
   "source": [
    "\n",
    "def get_mean_ttr_sample(text, sample_size, rep=20):\n",
    "    fttr  =[\n",
    "        LexicalRichness(' '.join(random.sample(text.split(), sample_size))).terms#['terms']\n",
    "        for i in range(rep)\n",
    "    ]\n",
    "    return np.mean(fttr)"
   ]
  },
  {
   "cell_type": "code",
   "execution_count": 181,
   "metadata": {},
   "outputs": [],
   "source": [
    "ss = [10, 50, 100, 500, 1000, 5000, 6000, 7000]#, 8000, 9000]"
   ]
  },
  {
   "cell_type": "code",
   "execution_count": 182,
   "metadata": {},
   "outputs": [],
   "source": [
    "a_mttr = [\n",
    "    get_mean_ttr_sample(' '.join(speakers.spoken_words_only), s) for s in ss\n",
    "]"
   ]
  },
  {
   "cell_type": "code",
   "execution_count": 196,
   "metadata": {},
   "outputs": [],
   "source": [
    "f_mttr = [\n",
    "    get_mean_ttr_sample(female_spoken_words, s) / len(speakers[speakers.gender_recipient=='F'].name_speaker.unique()) for si,s in enumerate(ss)\n",
    "]\n",
    "m_mttr = [\n",
    "    get_mean_ttr_sample(male_spoken_words, s) / len(speakers[speakers.gender_recipient=='M'].name_speaker.unique()) for  si,s in enumerate(ss)\n",
    "]\n",
    "n_mttr = [\n",
    "    get_mean_ttr_sample(ngs_spoken_words, s) / len(speakers[speakers.gender_recipient=='NGS'].name_speaker.unique()) for  si,s in enumerate(ss)\n",
    "]\n"
   ]
  },
  {
   "cell_type": "code",
   "execution_count": 184,
   "metadata": {},
   "outputs": [],
   "source": [
    "f_mttr = [\n",
    "    get_mean_ttr_sample(female_spoken_words, s)/a_mttr[si] for si,s in enumerate(ss)\n",
    "]\n",
    "m_mttr = [\n",
    "    get_mean_ttr_sample(male_spoken_words, s)/a_mttr[si] for  si,s in enumerate(ss)\n",
    "]\n",
    "n_mttr = [\n",
    "    get_mean_ttr_sample(ngs_spoken_words, s)/a_mttr[si] for  si,s in enumerate(ss)\n",
    "]\n"
   ]
  },
  {
   "cell_type": "code",
   "execution_count": 197,
   "metadata": {},
   "outputs": [
    {
     "data": {
      "image/png": "[encoded data removed]",
      "text/plain": [
       "<Figure size 640x480 with 1 Axes>"
      ]
     },
     "metadata": {},
     "output_type": "display_data"
    }
   ],
   "source": [
    "plt.plot(ss, f_mttr, c='pink')\n",
    "plt.plot(ss, m_mttr, c='b')\n",
    "plt.plot(ss, n_mttr, c='g')\n",
    "# plt.yscale('log')\n",
    "plt.xscale('log')"
   ]
  },
  {
   "cell_type": "code",
   "execution_count": 7,
   "metadata": {},
   "outputs": [
    {
     "data": {
      "text/plain": [
       "16450"
      ]
     },
     "execution_count": 7,
     "metadata": {},
     "output_type": "execute_result"
    }
   ],
   "source": [
    "len(male_spoken_words.split())"
   ]
  },
  {
   "cell_type": "code",
   "execution_count": 156,
   "metadata": {},
   "outputs": [
    {
     "data": {
      "text/plain": [
       "7020"
      ]
     },
     "execution_count": 156,
     "metadata": {},
     "output_type": "execute_result"
    }
   ],
   "source": [
    "len(female_spoken_words.split())"
   ]
  },
  {
   "cell_type": "code",
   "execution_count": 152,
   "metadata": {},
   "outputs": [
    {
     "data": {
      "text/plain": [
       "73222"
      ]
     },
     "execution_count": 152,
     "metadata": {},
     "output_type": "execute_result"
    }
   ],
   "source": [
    "len(ngs_spoken_words)"
   ]
  },
  {
   "cell_type": "code",
   "execution_count": 155,
   "metadata": {},
   "outputs": [
    {
     "data": {
      "text/plain": [
       "105327"
      ]
     },
     "execution_count": 155,
     "metadata": {},
     "output_type": "execute_result"
    }
   ],
   "source": [
    "len(male_spoken_words)"
   ]
  },
  {
   "cell_type": "code",
   "execution_count": 97,
   "metadata": {},
   "outputs": [
    {
     "data": {
      "text/plain": [
       "146"
      ]
     },
     "execution_count": 97,
     "metadata": {},
     "output_type": "execute_result"
    }
   ],
   "source": [
    "len(speakers[speakers.gender_speaker=='F'].name_speaker.unique())"
   ]
  },
  {
   "cell_type": "code",
   "execution_count": 190,
   "metadata": {},
   "outputs": [
    {
     "data": {
      "text/plain": [
       "188"
      ]
     },
     "execution_count": 190,
     "metadata": {},
     "output_type": "execute_result"
    }
   ],
   "source": [
    "len(speakers[speakers.gender_speaker=='M'].name_speaker.unique())"
   ]
  },
  {
   "cell_type": "code",
   "execution_count": 191,
   "metadata": {},
   "outputs": [
    {
     "data": {
      "text/plain": [
       "155"
      ]
     },
     "execution_count": 191,
     "metadata": {},
     "output_type": "execute_result"
    }
   ],
   "source": [
    "len(speakers[speakers.gender_speaker=='NGS'].name_speaker.unique())"
   ]
  },
  {
   "cell_type": "code",
   "execution_count": null,
   "metadata": {},
   "outputs": [],
   "source": []
  },
  {
   "cell_type": "code",
   "execution_count": 192,
   "metadata": {},
   "outputs": [
    {
     "data": {
      "text/plain": [
       "149"
      ]
     },
     "execution_count": 192,
     "metadata": {},
     "output_type": "execute_result"
    }
   ],
   "source": [
    "len(speakers[speakers.gender_recipient=='F'].name_speaker.unique())"
   ]
  },
  {
   "cell_type": "code",
   "execution_count": 193,
   "metadata": {},
   "outputs": [
    {
     "data": {
      "text/plain": [
       "283"
      ]
     },
     "execution_count": 193,
     "metadata": {},
     "output_type": "execute_result"
    }
   ],
   "source": [
    "len(speakers[speakers.gender_recipient=='M'].name_speaker.unique())"
   ]
  },
  {
   "cell_type": "code",
   "execution_count": 194,
   "metadata": {},
   "outputs": [
    {
     "data": {
      "text/plain": [
       "200"
      ]
     },
     "execution_count": 194,
     "metadata": {},
     "output_type": "execute_result"
    }
   ],
   "source": [
    "len(speakers[speakers.gender_recipient=='NGS'].name_speaker.unique())"
   ]
  },
  {
   "cell_type": "code",
   "execution_count": null,
   "metadata": {},
   "outputs": [],
   "source": []
  },
  {
   "cell_type": "code",
   "execution_count": 8,
   "metadata": {},
   "outputs": [
    {
     "data": {
      "text/html": [
       "<div>\n",
       "<style scoped>\n",
       "    .dataframe tbody tr th:only-of-type {\n",
       "        vertical-align: middle;\n",
       "    }\n",
       "\n",
       "    .dataframe tbody tr th {\n",
       "        vertical-align: top;\n",
       "    }\n",
       "\n",
       "    .dataframe thead th {\n",
       "        text-align: right;\n",
       "    }\n",
       "</style>\n",
       "<table border=\"1\" class=\"dataframe\">\n",
       "  <thead>\n",
       "    <tr style=\"text-align: right;\">\n",
       "      <th></th>\n",
       "      <th>book</th>\n",
       "      <th>speech_section_id</th>\n",
       "      <th>speaker</th>\n",
       "      <th>recipient</th>\n",
       "      <th>speaker_matched</th>\n",
       "      <th>recipient_matched</th>\n",
       "      <th>speech_text</th>\n",
       "      <th>spoken_words_only</th>\n",
       "      <th>spoken_word_count</th>\n",
       "      <th>chunk_titles</th>\n",
       "      <th>...</th>\n",
       "      <th>name_speaker</th>\n",
       "      <th>gender_speaker</th>\n",
       "      <th>human_speaker</th>\n",
       "      <th>alias_count_speaker</th>\n",
       "      <th>is_protagonist_speaker</th>\n",
       "      <th>name_recipient</th>\n",
       "      <th>gender_recipient</th>\n",
       "      <th>human_recipient</th>\n",
       "      <th>alias_count_recipient</th>\n",
       "      <th>is_protagonist_recipient</th>\n",
       "    </tr>\n",
       "  </thead>\n",
       "  <tbody>\n",
       "    <tr>\n",
       "      <th>0</th>\n",
       "      <td>The Night Before Christmas</td>\n",
       "      <td>0</td>\n",
       "      <td>St. Nicholas</td>\n",
       "      <td>Reindeer</td>\n",
       "      <td>St. Nicholas</td>\n",
       "      <td>Reindeer</td>\n",
       "      <td>Now, Dasher! now, Dancer!\\nnow, Prancer and Vi...</td>\n",
       "      <td>Now, Dasher! now, Dancer! now, Prancer and Vix...</td>\n",
       "      <td>183</td>\n",
       "      <td>The Night Before Christmas</td>\n",
       "      <td>...</td>\n",
       "      <td>St. Nicholas</td>\n",
       "      <td>M</td>\n",
       "      <td>H</td>\n",
       "      <td>1.0</td>\n",
       "      <td>0.0</td>\n",
       "      <td>Reindeer</td>\n",
       "      <td>NGS</td>\n",
       "      <td>NH</td>\n",
       "      <td>0.0</td>\n",
       "      <td>NaN</td>\n",
       "    </tr>\n",
       "    <tr>\n",
       "      <th>1</th>\n",
       "      <td>The Night Before Christmas</td>\n",
       "      <td>1</td>\n",
       "      <td>St. Nicholas</td>\n",
       "      <td>Everyone</td>\n",
       "      <td>St. Nicholas</td>\n",
       "      <td>The Reader</td>\n",
       "      <td>Happy\\nChristmas to all, and to all a good\\nni...</td>\n",
       "      <td>Happy Christmas to all, and to all a good night!</td>\n",
       "      <td>48</td>\n",
       "      <td>The Night Before Christmas</td>\n",
       "      <td>...</td>\n",
       "      <td>St. Nicholas</td>\n",
       "      <td>M</td>\n",
       "      <td>H</td>\n",
       "      <td>1.0</td>\n",
       "      <td>0.0</td>\n",
       "      <td>The Reader</td>\n",
       "      <td>NGS</td>\n",
       "      <td>H</td>\n",
       "      <td>0.0</td>\n",
       "      <td>NaN</td>\n",
       "    </tr>\n",
       "    <tr>\n",
       "      <th>2</th>\n",
       "      <td>Sugarlump and the Unicorn</td>\n",
       "      <td>0</td>\n",
       "      <td>Sugarlump</td>\n",
       "      <td>himself</td>\n",
       "      <td>Sugarlump</td>\n",
       "      <td>Sugarlump</td>\n",
       "      <td>\"Here in the children's bedroom\\nIs where I wa...</td>\n",
       "      <td>Here in the children's bedroom Is where I want...</td>\n",
       "      <td>106</td>\n",
       "      <td>Sugarlump and the Unicorn</td>\n",
       "      <td>...</td>\n",
       "      <td>Sugarlump</td>\n",
       "      <td>M</td>\n",
       "      <td>NH</td>\n",
       "      <td>0.0</td>\n",
       "      <td>1.0</td>\n",
       "      <td>Sugarlump</td>\n",
       "      <td>M</td>\n",
       "      <td>NH</td>\n",
       "      <td>0.0</td>\n",
       "      <td>1.0</td>\n",
       "    </tr>\n",
       "    <tr>\n",
       "      <th>3</th>\n",
       "      <td>Sugarlump and the Unicorn</td>\n",
       "      <td>1</td>\n",
       "      <td>Sugarlump</td>\n",
       "      <td>himself</td>\n",
       "      <td>Sugarlump</td>\n",
       "      <td>Sugarlump</td>\n",
       "      <td>\"Oh to be out in the big wide world!\\nI wish I...</td>\n",
       "      <td>Oh to be out in the big wide world! I wish I c...</td>\n",
       "      <td>65</td>\n",
       "      <td>Sugarlump and the Unicorn</td>\n",
       "      <td>...</td>\n",
       "      <td>Sugarlump</td>\n",
       "      <td>M</td>\n",
       "      <td>NH</td>\n",
       "      <td>0.0</td>\n",
       "      <td>1.0</td>\n",
       "      <td>Sugarlump</td>\n",
       "      <td>M</td>\n",
       "      <td>NH</td>\n",
       "      <td>0.0</td>\n",
       "      <td>1.0</td>\n",
       "    </tr>\n",
       "    <tr>\n",
       "      <th>4</th>\n",
       "      <td>Sugarlump and the Unicorn</td>\n",
       "      <td>2</td>\n",
       "      <td>Unicorn</td>\n",
       "      <td>Sugarlump</td>\n",
       "      <td>unicorn</td>\n",
       "      <td>Sugarlump</td>\n",
       "      <td>\"Done!\" came a voice, and there stood a beast\\...</td>\n",
       "      <td>Done! came a voice, and there stood a beast Wi...</td>\n",
       "      <td>128</td>\n",
       "      <td>Sugarlump and the Unicorn</td>\n",
       "      <td>...</td>\n",
       "      <td>unicorn</td>\n",
       "      <td>F</td>\n",
       "      <td>NH</td>\n",
       "      <td>0.0</td>\n",
       "      <td>0.0</td>\n",
       "      <td>Sugarlump</td>\n",
       "      <td>M</td>\n",
       "      <td>NH</td>\n",
       "      <td>0.0</td>\n",
       "      <td>1.0</td>\n",
       "    </tr>\n",
       "    <tr>\n",
       "      <th>...</th>\n",
       "      <td>...</td>\n",
       "      <td>...</td>\n",
       "      <td>...</td>\n",
       "      <td>...</td>\n",
       "      <td>...</td>\n",
       "      <td>...</td>\n",
       "      <td>...</td>\n",
       "      <td>...</td>\n",
       "      <td>...</td>\n",
       "      <td>...</td>\n",
       "      <td>...</td>\n",
       "      <td>...</td>\n",
       "      <td>...</td>\n",
       "      <td>...</td>\n",
       "      <td>...</td>\n",
       "      <td>...</td>\n",
       "      <td>...</td>\n",
       "      <td>...</td>\n",
       "      <td>...</td>\n",
       "      <td>...</td>\n",
       "      <td>...</td>\n",
       "    </tr>\n",
       "    <tr>\n",
       "      <th>2918</th>\n",
       "      <td>Little Monkey</td>\n",
       "      <td>7</td>\n",
       "      <td>Monkey</td>\n",
       "      <td>Unknown</td>\n",
       "      <td>Monkey</td>\n",
       "      <td>Unknown</td>\n",
       "      <td>Who’s too\\nlittle now?\\nNOT ME.</td>\n",
       "      <td>Who’s too little now? NOT ME.</td>\n",
       "      <td>29</td>\n",
       "      <td>Little Monkey</td>\n",
       "      <td>...</td>\n",
       "      <td>Monkey</td>\n",
       "      <td>F</td>\n",
       "      <td>NH</td>\n",
       "      <td>0.0</td>\n",
       "      <td>1.0</td>\n",
       "      <td>None</td>\n",
       "      <td>None</td>\n",
       "      <td>None</td>\n",
       "      <td>NaN</td>\n",
       "      <td>NaN</td>\n",
       "    </tr>\n",
       "    <tr>\n",
       "      <th>2919</th>\n",
       "      <td>Little Monkey</td>\n",
       "      <td>8</td>\n",
       "      <td>Monkey</td>\n",
       "      <td>Unknown</td>\n",
       "      <td>Monkey</td>\n",
       "      <td>Unknown</td>\n",
       "      <td>This will be fun,</td>\n",
       "      <td>This will be fun,</td>\n",
       "      <td>17</td>\n",
       "      <td>Little Monkey</td>\n",
       "      <td>...</td>\n",
       "      <td>Monkey</td>\n",
       "      <td>F</td>\n",
       "      <td>NH</td>\n",
       "      <td>0.0</td>\n",
       "      <td>1.0</td>\n",
       "      <td>None</td>\n",
       "      <td>None</td>\n",
       "      <td>None</td>\n",
       "      <td>NaN</td>\n",
       "      <td>NaN</td>\n",
       "    </tr>\n",
       "    <tr>\n",
       "      <th>2920</th>\n",
       "      <td>Little Monkey</td>\n",
       "      <td>9</td>\n",
       "      <td>Monkey</td>\n",
       "      <td>Unknown</td>\n",
       "      <td>Monkey</td>\n",
       "      <td>Unknown</td>\n",
       "      <td>They look very excited to see me!</td>\n",
       "      <td>They look very excited to see me!</td>\n",
       "      <td>33</td>\n",
       "      <td>Little Monkey</td>\n",
       "      <td>...</td>\n",
       "      <td>Monkey</td>\n",
       "      <td>F</td>\n",
       "      <td>NH</td>\n",
       "      <td>0.0</td>\n",
       "      <td>1.0</td>\n",
       "      <td>None</td>\n",
       "      <td>None</td>\n",
       "      <td>None</td>\n",
       "      <td>NaN</td>\n",
       "      <td>NaN</td>\n",
       "    </tr>\n",
       "    <tr>\n",
       "      <th>2921</th>\n",
       "      <td>Little Monkey</td>\n",
       "      <td>10</td>\n",
       "      <td>Monkey</td>\n",
       "      <td>Unknown</td>\n",
       "      <td>Monkey</td>\n",
       "      <td>Unknown</td>\n",
       "      <td>I may be small but I’m very brave,</td>\n",
       "      <td>I may be small but I’m very brave,</td>\n",
       "      <td>34</td>\n",
       "      <td>Little Monkey</td>\n",
       "      <td>...</td>\n",
       "      <td>Monkey</td>\n",
       "      <td>F</td>\n",
       "      <td>NH</td>\n",
       "      <td>0.0</td>\n",
       "      <td>1.0</td>\n",
       "      <td>None</td>\n",
       "      <td>None</td>\n",
       "      <td>None</td>\n",
       "      <td>NaN</td>\n",
       "      <td>NaN</td>\n",
       "    </tr>\n",
       "    <tr>\n",
       "      <th>2922</th>\n",
       "      <td>Little Monkey</td>\n",
       "      <td>11</td>\n",
       "      <td>The rest of the troop</td>\n",
       "      <td>Monkey</td>\n",
       "      <td>her troop</td>\n",
       "      <td>Monkey</td>\n",
       "      <td>And very lucky!</td>\n",
       "      <td>And very lucky!</td>\n",
       "      <td>15</td>\n",
       "      <td>Little Monkey</td>\n",
       "      <td>...</td>\n",
       "      <td>her troop</td>\n",
       "      <td>NGS</td>\n",
       "      <td>NH</td>\n",
       "      <td>0.0</td>\n",
       "      <td>0.0</td>\n",
       "      <td>Monkey</td>\n",
       "      <td>F</td>\n",
       "      <td>NH</td>\n",
       "      <td>0.0</td>\n",
       "      <td>1.0</td>\n",
       "    </tr>\n",
       "  </tbody>\n",
       "</table>\n",
       "<p>2923 rows × 21 columns</p>\n",
       "</div>"
      ],
      "text/plain": [
       "                            book  speech_section_id                speaker  \\\n",
       "0     The Night Before Christmas                  0           St. Nicholas   \n",
       "1     The Night Before Christmas                  1           St. Nicholas   \n",
       "2      Sugarlump and the Unicorn                  0              Sugarlump   \n",
       "3      Sugarlump and the Unicorn                  1              Sugarlump   \n",
       "4      Sugarlump and the Unicorn                  2                Unicorn   \n",
       "...                          ...                ...                    ...   \n",
       "2918               Little Monkey                  7                 Monkey   \n",
       "2919               Little Monkey                  8                 Monkey   \n",
       "2920               Little Monkey                  9                 Monkey   \n",
       "2921               Little Monkey                 10                 Monkey   \n",
       "2922               Little Monkey                 11  The rest of the troop   \n",
       "\n",
       "      recipient speaker_matched recipient_matched  \\\n",
       "0      Reindeer    St. Nicholas          Reindeer   \n",
       "1      Everyone    St. Nicholas        The Reader   \n",
       "2       himself       Sugarlump         Sugarlump   \n",
       "3       himself       Sugarlump         Sugarlump   \n",
       "4     Sugarlump         unicorn         Sugarlump   \n",
       "...         ...             ...               ...   \n",
       "2918    Unknown          Monkey           Unknown   \n",
       "2919    Unknown          Monkey           Unknown   \n",
       "2920    Unknown          Monkey           Unknown   \n",
       "2921    Unknown          Monkey           Unknown   \n",
       "2922     Monkey       her troop            Monkey   \n",
       "\n",
       "                                            speech_text  \\\n",
       "0     Now, Dasher! now, Dancer!\\nnow, Prancer and Vi...   \n",
       "1     Happy\\nChristmas to all, and to all a good\\nni...   \n",
       "2     \"Here in the children's bedroom\\nIs where I wa...   \n",
       "3     \"Oh to be out in the big wide world!\\nI wish I...   \n",
       "4     \"Done!\" came a voice, and there stood a beast\\...   \n",
       "...                                                 ...   \n",
       "2918                    Who’s too\\nlittle now?\\nNOT ME.   \n",
       "2919                                  This will be fun,   \n",
       "2920                  They look very excited to see me!   \n",
       "2921                 I may be small but I’m very brave,   \n",
       "2922                                    And very lucky!   \n",
       "\n",
       "                                      spoken_words_only  spoken_word_count  \\\n",
       "0     Now, Dasher! now, Dancer! now, Prancer and Vix...                183   \n",
       "1      Happy Christmas to all, and to all a good night!                 48   \n",
       "2     Here in the children's bedroom Is where I want...                106   \n",
       "3     Oh to be out in the big wide world! I wish I c...                 65   \n",
       "4     Done! came a voice, and there stood a beast Wi...                128   \n",
       "...                                                 ...                ...   \n",
       "2918                      Who’s too little now? NOT ME.                 29   \n",
       "2919                                  This will be fun,                 17   \n",
       "2920                  They look very excited to see me!                 33   \n",
       "2921                 I may be small but I’m very brave,                 34   \n",
       "2922                                    And very lucky!                 15   \n",
       "\n",
       "                    chunk_titles  ...  name_speaker gender_speaker  \\\n",
       "0     The Night Before Christmas  ...  St. Nicholas              M   \n",
       "1     The Night Before Christmas  ...  St. Nicholas              M   \n",
       "2      Sugarlump and the Unicorn  ...     Sugarlump              M   \n",
       "3      Sugarlump and the Unicorn  ...     Sugarlump              M   \n",
       "4      Sugarlump and the Unicorn  ...       unicorn              F   \n",
       "...                          ...  ...           ...            ...   \n",
       "2918               Little Monkey  ...        Monkey              F   \n",
       "2919               Little Monkey  ...        Monkey              F   \n",
       "2920               Little Monkey  ...        Monkey              F   \n",
       "2921               Little Monkey  ...        Monkey              F   \n",
       "2922               Little Monkey  ...     her troop            NGS   \n",
       "\n",
       "     human_speaker alias_count_speaker  is_protagonist_speaker  \\\n",
       "0                H                 1.0                     0.0   \n",
       "1                H                 1.0                     0.0   \n",
       "2               NH                 0.0                     1.0   \n",
       "3               NH                 0.0                     1.0   \n",
       "4               NH                 0.0                     0.0   \n",
       "...            ...                 ...                     ...   \n",
       "2918            NH                 0.0                     1.0   \n",
       "2919            NH                 0.0                     1.0   \n",
       "2920            NH                 0.0                     1.0   \n",
       "2921            NH                 0.0                     1.0   \n",
       "2922            NH                 0.0                     0.0   \n",
       "\n",
       "      name_recipient gender_recipient human_recipient alias_count_recipient  \\\n",
       "0           Reindeer              NGS              NH                   0.0   \n",
       "1         The Reader              NGS               H                   0.0   \n",
       "2          Sugarlump                M              NH                   0.0   \n",
       "3          Sugarlump                M              NH                   0.0   \n",
       "4          Sugarlump                M              NH                   0.0   \n",
       "...              ...              ...             ...                   ...   \n",
       "2918            None             None            None                   NaN   \n",
       "2919            None             None            None                   NaN   \n",
       "2920            None             None            None                   NaN   \n",
       "2921            None             None            None                   NaN   \n",
       "2922          Monkey                F              NH                   0.0   \n",
       "\n",
       "      is_protagonist_recipient  \n",
       "0                          NaN  \n",
       "1                          NaN  \n",
       "2                          1.0  \n",
       "3                          1.0  \n",
       "4                          1.0  \n",
       "...                        ...  \n",
       "2918                       NaN  \n",
       "2919                       NaN  \n",
       "2920                       NaN  \n",
       "2921                       NaN  \n",
       "2922                       1.0  \n",
       "\n",
       "[2923 rows x 21 columns]"
      ]
     },
     "execution_count": 8,
     "metadata": {},
     "output_type": "execute_result"
    }
   ],
   "source": [
    "speakers"
   ]
  },
  {
   "cell_type": "code",
   "execution_count": 9,
   "metadata": {},
   "outputs": [],
   "source": [
    "speakers['spoken_word_count'] = [\n",
    "    len(text.split()) for text in speakers.spoken_words_only\n",
    "]"
   ]
  },
  {
   "cell_type": "code",
   "execution_count": 10,
   "metadata": {},
   "outputs": [
    {
     "data": {
      "text/plain": [
       "11.239316239316238"
      ]
     },
     "execution_count": 10,
     "metadata": {},
     "output_type": "execute_result"
    }
   ],
   "source": [
    "speakers[speakers.gender_recipient=='F'].spoken_word_count.mean()"
   ]
  },
  {
   "cell_type": "code",
   "execution_count": 11,
   "metadata": {},
   "outputs": [
    {
     "data": {
      "text/plain": [
       "10.602857142857143"
      ]
     },
     "execution_count": 11,
     "metadata": {},
     "output_type": "execute_result"
    }
   ],
   "source": [
    "speakers[speakers.gender_recipient=='M'].spoken_word_count.mean()"
   ]
  },
  {
   "cell_type": "code",
   "execution_count": 12,
   "metadata": {},
   "outputs": [],
   "source": [
    "import sqlite3\n",
    "conn = sqlite3.connect('character_database.db')"
   ]
  },
  {
   "cell_type": "code",
   "execution_count": 13,
   "metadata": {},
   "outputs": [],
   "source": [
    "aliases = pd.read_sql('select * from aliases', conn, index_col='index')\n",
    "characters = pd.read_sql('select * from characters', conn, index_col='index')"
   ]
  },
  {
   "cell_type": "code",
   "execution_count": null,
   "metadata": {},
   "outputs": [],
   "source": []
  },
  {
   "cell_type": "code",
   "execution_count": 14,
   "metadata": {},
   "outputs": [],
   "source": [
    "female_character_count = sum(characters.gender == 'F')\n",
    "male_character_count = sum(characters.gender == 'M')\n",
    "ngs_character_count = sum(characters.gender == 'NGS')"
   ]
  },
  {
   "cell_type": "code",
   "execution_count": 15,
   "metadata": {},
   "outputs": [],
   "source": [
    "total_male_words = speakers[speakers.gender_recipient=='M'].spoken_word_count.sum()\n",
    "total_female_words = speakers[speakers.gender_recipient=='F'].spoken_word_count.sum()\n",
    "total_ngs_words = speakers[speakers.gender_recipient=='NGS'].spoken_word_count.sum()"
   ]
  },
  {
   "cell_type": "code",
   "execution_count": 16,
   "metadata": {},
   "outputs": [
    {
     "data": {
      "text/plain": [
       "6575"
      ]
     },
     "execution_count": 16,
     "metadata": {},
     "output_type": "execute_result"
    }
   ],
   "source": [
    "total_female_words"
   ]
  },
  {
   "cell_type": "code",
   "execution_count": 17,
   "metadata": {},
   "outputs": [
    {
     "data": {
      "text/plain": [
       "0.20546875"
      ]
     },
     "execution_count": 17,
     "metadata": {},
     "output_type": "execute_result"
    }
   ],
   "source": [
    "total_female_words / (total_female_words+total_male_words+total_ngs_words)"
   ]
  },
  {
   "cell_type": "code",
   "execution_count": 18,
   "metadata": {},
   "outputs": [
    {
     "data": {
      "text/plain": [
       "0.463875"
      ]
     },
     "execution_count": 18,
     "metadata": {},
     "output_type": "execute_result"
    }
   ],
   "source": [
    "total_male_words / (total_female_words+total_male_words+total_ngs_words)"
   ]
  },
  {
   "cell_type": "code",
   "execution_count": 19,
   "metadata": {},
   "outputs": [
    {
     "data": {
      "text/plain": [
       "0.33065625"
      ]
     },
     "execution_count": 19,
     "metadata": {},
     "output_type": "execute_result"
    }
   ],
   "source": [
    "total_ngs_words / (total_female_words+total_male_words+total_ngs_words)"
   ]
  },
  {
   "cell_type": "code",
   "execution_count": 20,
   "metadata": {},
   "outputs": [
    {
     "data": {
      "text/plain": [
       "27.28676470588235"
      ]
     },
     "execution_count": 20,
     "metadata": {},
     "output_type": "execute_result"
    }
   ],
   "source": [
    "speakers[speakers.gender_recipient=='M'].spoken_word_count.sum() / male_character_count"
   ]
  },
  {
   "cell_type": "code",
   "execution_count": 96,
   "metadata": {},
   "outputs": [
    {
     "data": {
      "text/plain": [
       "19.057971014492754"
      ]
     },
     "execution_count": 96,
     "metadata": {},
     "output_type": "execute_result"
    }
   ],
   "source": [
    "speakers[speakers.gender_recipient=='F'].spoken_word_count.sum() / female_character_count"
   ]
  },
  {
   "cell_type": "code",
   "execution_count": null,
   "metadata": {},
   "outputs": [],
   "source": []
  },
  {
   "cell_type": "markdown",
   "metadata": {},
   "source": [
    "#### For interview:"
   ]
  },
  {
   "cell_type": "code",
   "execution_count": 108,
   "metadata": {},
   "outputs": [],
   "source": [
    "import sqlite3"
   ]
  },
  {
   "cell_type": "code",
   "execution_count": 109,
   "metadata": {},
   "outputs": [],
   "source": [
    "conn = sqlite3.connect('character_database.db')"
   ]
  },
  {
   "cell_type": "code",
   "execution_count": 110,
   "metadata": {},
   "outputs": [],
   "source": [
    "aliases = pd.read_sql('select * from aliases', conn, index_col='index')\n",
    "characters = pd.read_sql('select * from characters', conn, index_col='index')"
   ]
  },
  {
   "cell_type": "code",
   "execution_count": 114,
   "metadata": {},
   "outputs": [],
   "source": [
    "remove_non_stories = [\n",
    "    'All Year Round', 'All About Feelings', 'Ten in the Bed and Other Counting Rhymes', 'Why Am I An Insect',\n",
    "    'Farmer Duck'\n",
    "]"
   ]
  },
  {
   "cell_type": "code",
   "execution_count": 115,
   "metadata": {},
   "outputs": [],
   "source": [
    "characters = characters[~characters.book.isin(remove_non_stories)]"
   ]
  },
  {
   "cell_type": "code",
   "execution_count": 116,
   "metadata": {},
   "outputs": [],
   "source": [
    "gender_count = {\n",
    "    G: sum([1 for g in characters.gender if g==G])\n",
    "    for G in ['F', 'M', 'NGS']\n",
    "}"
   ]
  },
  {
   "cell_type": "code",
   "execution_count": 117,
   "metadata": {},
   "outputs": [],
   "source": [
    "human_count = {\n",
    "    G: sum([1 for g,h in zip(characters.gender, characters.human) if g==G and h=='H'])\n",
    "    for G in ['F', 'M', 'NGS']\n",
    "}"
   ]
  },
  {
   "cell_type": "code",
   "execution_count": 118,
   "metadata": {},
   "outputs": [
    {
     "data": {
      "text/plain": [
       "{'F': 197, 'M': 223, 'NGS': 59}"
      ]
     },
     "execution_count": 118,
     "metadata": {},
     "output_type": "execute_result"
    }
   ],
   "source": [
    "human_count"
   ]
  },
  {
   "cell_type": "code",
   "execution_count": 30,
   "metadata": {},
   "outputs": [],
   "source": [
    "nonhuman_count = {\n",
    "    G: sum([1 for g,h in zip(characters.gender, characters.human) if g==G and h=='NH'])\n",
    "    for G in ['F', 'M', 'NGS']\n",
    "}"
   ]
  },
  {
   "cell_type": "code",
   "execution_count": 31,
   "metadata": {},
   "outputs": [
    {
     "data": {
      "text/plain": [
       "{'F': 123, 'M': 271, 'NGS': 516}"
      ]
     },
     "execution_count": 31,
     "metadata": {},
     "output_type": "execute_result"
    }
   ],
   "source": [
    "nonhuman_count"
   ]
  },
  {
   "cell_type": "code",
   "execution_count": 32,
   "metadata": {},
   "outputs": [],
   "source": [
    "protagonist_count = {\n",
    "    G: sum([1 for g,h in zip(characters.gender, characters.is_protagonist) if g==G and h==1])\n",
    "    for G in ['F', 'M', 'NGS']\n",
    "}"
   ]
  },
  {
   "cell_type": "code",
   "execution_count": 33,
   "metadata": {},
   "outputs": [
    {
     "data": {
      "text/plain": [
       "{'F': 44, 'M': 142, 'NGS': 21}"
      ]
     },
     "execution_count": 33,
     "metadata": {},
     "output_type": "execute_result"
    }
   ],
   "source": [
    "protagonist_count"
   ]
  },
  {
   "cell_type": "code",
   "execution_count": null,
   "metadata": {},
   "outputs": [],
   "source": []
  },
  {
   "cell_type": "code",
   "execution_count": 34,
   "metadata": {},
   "outputs": [],
   "source": [
    "secondary_count = {\n",
    "    G: sum([1 for g,h in zip(characters.gender, characters.is_protagonist) if g==G and h==0])\n",
    "    for G in ['F', 'M', 'NGS']\n",
    "}"
   ]
  },
  {
   "cell_type": "code",
   "execution_count": 35,
   "metadata": {},
   "outputs": [
    {
     "data": {
      "text/plain": [
       "{'F': 286, 'M': 388, 'NGS': 580}"
      ]
     },
     "execution_count": 35,
     "metadata": {},
     "output_type": "execute_result"
    }
   ],
   "source": [
    "secondary_count"
   ]
  },
  {
   "cell_type": "code",
   "execution_count": 36,
   "metadata": {},
   "outputs": [
    {
     "data": {
      "text/plain": [
       "{'F': 286, 'M': 388, 'NGS': 580}"
      ]
     },
     "execution_count": 36,
     "metadata": {},
     "output_type": "execute_result"
    }
   ],
   "source": [
    "secondary_count"
   ]
  },
  {
   "cell_type": "code",
   "execution_count": 37,
   "metadata": {},
   "outputs": [],
   "source": [
    "protagonist_count = {\n",
    "    G: sum([1 for g,h in zip(characters.gender, characters.is_protagonist) if g==G and h==1])\n",
    "    for G in ['F', 'M', 'NGS']\n",
    "}"
   ]
  },
  {
   "cell_type": "code",
   "execution_count": 38,
   "metadata": {},
   "outputs": [
    {
     "data": {
      "text/plain": [
       "{'F': 44, 'M': 142, 'NGS': 21}"
      ]
     },
     "execution_count": 38,
     "metadata": {},
     "output_type": "execute_result"
    }
   ],
   "source": [
    "protagonist_count"
   ]
  },
  {
   "cell_type": "code",
   "execution_count": 39,
   "metadata": {},
   "outputs": [],
   "source": [
    "protagonist_human_count = {\n",
    "    G: sum(\n",
    "        [\n",
    "            1 for g,p,h \n",
    "            in zip(characters.gender, characters.is_protagonist, characters.human) \n",
    "            if g==G and p==1 and h=='H']\n",
    "    )\n",
    "    for G in ['F', 'M', 'NGS']\n",
    "}"
   ]
  },
  {
   "cell_type": "code",
   "execution_count": 40,
   "metadata": {},
   "outputs": [
    {
     "data": {
      "text/plain": [
       "{'F': 23, 'M': 47, 'NGS': 8}"
      ]
     },
     "execution_count": 40,
     "metadata": {},
     "output_type": "execute_result"
    }
   ],
   "source": [
    "protagonist_human_count"
   ]
  },
  {
   "cell_type": "code",
   "execution_count": 41,
   "metadata": {},
   "outputs": [],
   "source": [
    "protagonist_nonhuman_count = {\n",
    "    G: sum(\n",
    "        [\n",
    "            1 for g,p,h \n",
    "            in zip(characters.gender, characters.is_protagonist, characters.human) \n",
    "            if g==G and p==1 and h=='NH']\n",
    "    )\n",
    "    for G in ['F', 'M', 'NGS']\n",
    "}"
   ]
  },
  {
   "cell_type": "code",
   "execution_count": 42,
   "metadata": {},
   "outputs": [
    {
     "data": {
      "text/plain": [
       "{'F': 18, 'M': 71, 'NGS': 9}"
      ]
     },
     "execution_count": 42,
     "metadata": {},
     "output_type": "execute_result"
    }
   ],
   "source": [
    "protagonist_nonhuman_count"
   ]
  },
  {
   "cell_type": "code",
   "execution_count": 43,
   "metadata": {},
   "outputs": [],
   "source": [
    "secondary_human_count = {\n",
    "    G: sum(\n",
    "        [\n",
    "            1 for g,p,h \n",
    "            in zip(characters.gender, characters.is_protagonist, characters.human) \n",
    "            if g==G and p==0 and h=='H']\n",
    "    )\n",
    "    for G in ['F', 'M', 'NGS']\n",
    "}"
   ]
  },
  {
   "cell_type": "code",
   "execution_count": 44,
   "metadata": {},
   "outputs": [
    {
     "data": {
      "text/plain": [
       "{'F': 174, 'M': 176, 'NGS': 51}"
      ]
     },
     "execution_count": 44,
     "metadata": {},
     "output_type": "execute_result"
    }
   ],
   "source": [
    "secondary_human_count"
   ]
  },
  {
   "cell_type": "code",
   "execution_count": 45,
   "metadata": {},
   "outputs": [],
   "source": [
    "secondary_nonhuman_count = {\n",
    "    G: sum(\n",
    "        [\n",
    "            1 for g,p,h \n",
    "            in zip(characters.gender, characters.is_protagonist, characters.human) \n",
    "            if g==G and p==0 and h=='NH']\n",
    "    )\n",
    "    for G in ['F', 'M', 'NGS']\n",
    "}"
   ]
  },
  {
   "cell_type": "code",
   "execution_count": 46,
   "metadata": {},
   "outputs": [
    {
     "data": {
      "text/plain": [
       "{'F': 105, 'M': 200, 'NGS': 507}"
      ]
     },
     "execution_count": 46,
     "metadata": {},
     "output_type": "execute_result"
    }
   ],
   "source": [
    "secondary_nonhuman_count"
   ]
  },
  {
   "cell_type": "code",
   "execution_count": null,
   "metadata": {},
   "outputs": [],
   "source": []
  },
  {
   "cell_type": "code",
   "execution_count": 47,
   "metadata": {},
   "outputs": [
    {
     "data": {
      "text/plain": [
       "1461"
      ]
     },
     "execution_count": 47,
     "metadata": {},
     "output_type": "execute_result"
    }
   ],
   "source": [
    "sum(gender_count.values())"
   ]
  },
  {
   "cell_type": "code",
   "execution_count": 48,
   "metadata": {},
   "outputs": [
    {
     "data": {
      "text/plain": [
       "{'F': 330, 'M': 530, 'NGS': 601}"
      ]
     },
     "execution_count": 48,
     "metadata": {},
     "output_type": "execute_result"
    }
   ],
   "source": [
    "gender_count"
   ]
  },
  {
   "cell_type": "code",
   "execution_count": 119,
   "metadata": {},
   "outputs": [],
   "source": [
    "summary_character = pd.DataFrame({\n",
    "    'gender': gender_count.keys(),\n",
    "    'total characters': gender_count.values(),\n",
    "    'proportions': [v / len(characters) for v in gender_count.values()],\n",
    "    'human characters': human_count.values(),\n",
    "    'human proportions': [v / sum(characters.human=='H') for v in human_count.values()],\n",
    "    'nonhuman characters': nonhuman_count.values(),\n",
    "    'nonhuman proportions': [v / sum(characters.human=='NH') for v in nonhuman_count.values()],\n",
    "    'protagonists': protagonist_count.values(),\n",
    "    'protagonist proportions': [v / sum(characters.is_protagonist==1) for v in protagonist_count.values()],\n",
    "    'secondaries': secondary_count.values(),\n",
    "    'secondary proportions': [v / sum(characters.is_protagonist==0) for v in secondary_count.values()],\n",
    "    'human protagonists': protagonist_human_count.values(),\n",
    "    'human protagonist proportions': [v / sum((characters.is_protagonist==1)*(characters.human=='H')) for v in protagonist_human_count.values()],\n",
    "    'nonhuman protagonists': protagonist_nonhuman_count.values(),\n",
    "    'nonhuman protagonist proportions': [v / sum((characters.is_protagonist==1)*(characters.human=='NH')) for v in protagonist_nonhuman_count.values()],\n",
    "    'human secondaries': secondary_human_count.values(),\n",
    "    'human secondary proportions': [v / sum((characters.is_protagonist==0)*(characters.human=='H')) for v in secondary_human_count.values()],\n",
    "    'nonhuman secondaries': secondary_nonhuman_count.values(),\n",
    "    'nonhuman secondary proportions': [v / sum((characters.is_protagonist==0)*(characters.human=='NH')) for v in secondary_nonhuman_count.values()],\n",
    "})"
   ]
  },
  {
   "cell_type": "code",
   "execution_count": 120,
   "metadata": {},
   "outputs": [
    {
     "data": {
      "text/html": [
       "<div>\n",
       "<style scoped>\n",
       "    .dataframe tbody tr th:only-of-type {\n",
       "        vertical-align: middle;\n",
       "    }\n",
       "\n",
       "    .dataframe tbody tr th {\n",
       "        vertical-align: top;\n",
       "    }\n",
       "\n",
       "    .dataframe thead th {\n",
       "        text-align: right;\n",
       "    }\n",
       "</style>\n",
       "<table border=\"1\" class=\"dataframe\">\n",
       "  <thead>\n",
       "    <tr style=\"text-align: right;\">\n",
       "      <th></th>\n",
       "      <th>gender</th>\n",
       "      <th>total characters</th>\n",
       "      <th>proportions</th>\n",
       "      <th>human characters</th>\n",
       "      <th>human proportions</th>\n",
       "      <th>nonhuman characters</th>\n",
       "      <th>nonhuman proportions</th>\n",
       "      <th>protagonists</th>\n",
       "      <th>protagonist proportions</th>\n",
       "      <th>secondaries</th>\n",
       "      <th>secondary proportions</th>\n",
       "      <th>human protagonists</th>\n",
       "      <th>human protagonist proportions</th>\n",
       "      <th>nonhuman protagonists</th>\n",
       "      <th>nonhuman protagonist proportions</th>\n",
       "      <th>human secondaries</th>\n",
       "      <th>human secondary proportions</th>\n",
       "      <th>nonhuman secondaries</th>\n",
       "      <th>nonhuman secondary proportions</th>\n",
       "    </tr>\n",
       "  </thead>\n",
       "  <tbody>\n",
       "    <tr>\n",
       "      <th>0</th>\n",
       "      <td>F</td>\n",
       "      <td>330</td>\n",
       "      <td>0.225873</td>\n",
       "      <td>197</td>\n",
       "      <td>0.411273</td>\n",
       "      <td>123</td>\n",
       "      <td>0.135165</td>\n",
       "      <td>44</td>\n",
       "      <td>0.212560</td>\n",
       "      <td>286</td>\n",
       "      <td>0.22807</td>\n",
       "      <td>23</td>\n",
       "      <td>0.294872</td>\n",
       "      <td>18</td>\n",
       "      <td>0.183673</td>\n",
       "      <td>174</td>\n",
       "      <td>0.433915</td>\n",
       "      <td>105</td>\n",
       "      <td>0.129310</td>\n",
       "    </tr>\n",
       "    <tr>\n",
       "      <th>1</th>\n",
       "      <td>M</td>\n",
       "      <td>530</td>\n",
       "      <td>0.362765</td>\n",
       "      <td>223</td>\n",
       "      <td>0.465553</td>\n",
       "      <td>271</td>\n",
       "      <td>0.297802</td>\n",
       "      <td>142</td>\n",
       "      <td>0.685990</td>\n",
       "      <td>388</td>\n",
       "      <td>0.30941</td>\n",
       "      <td>47</td>\n",
       "      <td>0.602564</td>\n",
       "      <td>71</td>\n",
       "      <td>0.724490</td>\n",
       "      <td>176</td>\n",
       "      <td>0.438903</td>\n",
       "      <td>200</td>\n",
       "      <td>0.246305</td>\n",
       "    </tr>\n",
       "    <tr>\n",
       "      <th>2</th>\n",
       "      <td>NGS</td>\n",
       "      <td>601</td>\n",
       "      <td>0.411362</td>\n",
       "      <td>59</td>\n",
       "      <td>0.123173</td>\n",
       "      <td>516</td>\n",
       "      <td>0.567033</td>\n",
       "      <td>21</td>\n",
       "      <td>0.101449</td>\n",
       "      <td>580</td>\n",
       "      <td>0.46252</td>\n",
       "      <td>8</td>\n",
       "      <td>0.102564</td>\n",
       "      <td>9</td>\n",
       "      <td>0.091837</td>\n",
       "      <td>51</td>\n",
       "      <td>0.127182</td>\n",
       "      <td>507</td>\n",
       "      <td>0.624384</td>\n",
       "    </tr>\n",
       "  </tbody>\n",
       "</table>\n",
       "</div>"
      ],
      "text/plain": [
       "  gender  total characters  proportions  human characters  human proportions  \\\n",
       "0      F               330     0.225873               197           0.411273   \n",
       "1      M               530     0.362765               223           0.465553   \n",
       "2    NGS               601     0.411362                59           0.123173   \n",
       "\n",
       "   nonhuman characters  nonhuman proportions  protagonists  \\\n",
       "0                  123              0.135165            44   \n",
       "1                  271              0.297802           142   \n",
       "2                  516              0.567033            21   \n",
       "\n",
       "   protagonist proportions  secondaries  secondary proportions  \\\n",
       "0                 0.212560          286                0.22807   \n",
       "1                 0.685990          388                0.30941   \n",
       "2                 0.101449          580                0.46252   \n",
       "\n",
       "   human protagonists  human protagonist proportions  nonhuman protagonists  \\\n",
       "0                  23                       0.294872                     18   \n",
       "1                  47                       0.602564                     71   \n",
       "2                   8                       0.102564                      9   \n",
       "\n",
       "   nonhuman protagonist proportions  human secondaries  \\\n",
       "0                          0.183673                174   \n",
       "1                          0.724490                176   \n",
       "2                          0.091837                 51   \n",
       "\n",
       "   human secondary proportions  nonhuman secondaries  \\\n",
       "0                     0.433915                   105   \n",
       "1                     0.438903                   200   \n",
       "2                     0.127182                   507   \n",
       "\n",
       "   nonhuman secondary proportions  \n",
       "0                        0.129310  \n",
       "1                        0.246305  \n",
       "2                        0.624384  "
      ]
     },
     "execution_count": 120,
     "metadata": {},
     "output_type": "execute_result"
    }
   ],
   "source": [
    "summary_character"
   ]
  },
  {
   "cell_type": "code",
   "execution_count": 121,
   "metadata": {},
   "outputs": [
    {
     "data": {
      "text/plain": [
       "0.6226415094339622"
      ]
     },
     "execution_count": 121,
     "metadata": {},
     "output_type": "execute_result"
    }
   ],
   "source": [
    "gender_count['F'] / gender_count['M']"
   ]
  },
  {
   "cell_type": "code",
   "execution_count": 122,
   "metadata": {},
   "outputs": [],
   "source": [
    "mum_map = ['mum', 'mother', 'mummy', 'mom', 'mommy', 'ma', 'mama', 'mumma', 'mamma']\n",
    "dad_map = ['dad', 'father', 'daddy', 'dada', 'dadda', 'da', 'pa', 'papa']\n",
    "gran_map = ['gran', 'granny', 'nan', 'nana', 'nanna', 'grandma', 'gradmother', 'granmother'] \n",
    "grandpa_map = ['grandpa', 'gramps', 'grandfather', 'grandad', 'granddad']\n",
    "\n",
    "def match_map(_map, _name, verbose=False):\n",
    "    exclusions = ['christmas', 'xmas', 'nature', 'earth', 'time', 'clock']\n",
    "    \n",
    "    if not pd.isna(_name):\n",
    "        _name = str(_name)\n",
    "    else:\n",
    "        _name=''\n",
    "   \n",
    "    is_exclusion = sum([\n",
    "        m in _name.lower() for m in exclusions\n",
    "    ]) > 0\n",
    "    if is_exclusion:\n",
    "        return False\n",
    "    \n",
    "    is_match = sum([\n",
    "        m in _name.lower().split() for m in _map\n",
    "    ]) > 0\n",
    "    if is_match and verbose:\n",
    "        print(_name)\n",
    "\n",
    "    return is_match "
   ]
  },
  {
   "cell_type": "code",
   "execution_count": 123,
   "metadata": {},
   "outputs": [],
   "source": [
    "characters['is_mum'] = [\n",
    "    match_map(mum_map, s)\n",
    "    for s in characters.name\n",
    "]\n",
    "characters['is_dad'] = [\n",
    "    match_map(dad_map, s)\n",
    "    for s in characters.name\n",
    "]\n",
    "characters['is_granny'] = [\n",
    "    match_map(gran_map, s)\n",
    "    for s in characters.name\n",
    "]\n",
    "characters['is_grandpa'] = [\n",
    "    match_map(grandpa_map, s)\n",
    "    for s in characters.name\n",
    "]"
   ]
  },
  {
   "cell_type": "code",
   "execution_count": 124,
   "metadata": {},
   "outputs": [
    {
     "data": {
      "text/plain": [
       "0.16363636363636364"
      ]
     },
     "execution_count": 124,
     "metadata": {},
     "output_type": "execute_result"
    }
   ],
   "source": [
    "characters.is_mum.sum() / (characters.gender=='F').sum()"
   ]
  },
  {
   "cell_type": "code",
   "execution_count": 125,
   "metadata": {},
   "outputs": [
    {
     "data": {
      "text/plain": [
       "0.05849056603773585"
      ]
     },
     "execution_count": 125,
     "metadata": {},
     "output_type": "execute_result"
    }
   ],
   "source": [
    "characters.is_dad.sum() / (characters.gender=='M').sum()"
   ]
  },
  {
   "cell_type": "code",
   "execution_count": 126,
   "metadata": {},
   "outputs": [
    {
     "data": {
      "text/plain": [
       "0.18181818181818182"
      ]
     },
     "execution_count": 126,
     "metadata": {},
     "output_type": "execute_result"
    }
   ],
   "source": [
    "characters[characters.is_protagonist==False].is_mum.sum() / (characters[characters.is_protagonist==False].gender=='F').sum()"
   ]
  },
  {
   "cell_type": "code",
   "execution_count": 127,
   "metadata": {},
   "outputs": [
    {
     "data": {
      "text/plain": [
       "0.045454545454545456"
      ]
     },
     "execution_count": 127,
     "metadata": {},
     "output_type": "execute_result"
    }
   ],
   "source": [
    "characters[characters.is_protagonist==True].is_mum.sum() / (characters[characters.is_protagonist==True].gender=='F').sum()"
   ]
  },
  {
   "cell_type": "code",
   "execution_count": 128,
   "metadata": {},
   "outputs": [
    {
     "data": {
      "text/plain": [
       "0.07731958762886598"
      ]
     },
     "execution_count": 128,
     "metadata": {},
     "output_type": "execute_result"
    }
   ],
   "source": [
    "characters[characters.is_protagonist==False].is_dad.sum() / (characters[characters.is_protagonist==False].gender=='M').sum()"
   ]
  },
  {
   "cell_type": "code",
   "execution_count": null,
   "metadata": {},
   "outputs": [],
   "source": []
  },
  {
   "cell_type": "code",
   "execution_count": null,
   "metadata": {},
   "outputs": [],
   "source": []
  },
  {
   "cell_type": "code",
   "execution_count": 129,
   "metadata": {},
   "outputs": [
    {
     "data": {
      "text/plain": [
       "0.06363636363636363"
      ]
     },
     "execution_count": 129,
     "metadata": {},
     "output_type": "execute_result"
    }
   ],
   "source": [
    "characters.is_granny.sum() / (characters.gender=='F').sum()"
   ]
  },
  {
   "cell_type": "code",
   "execution_count": 130,
   "metadata": {},
   "outputs": [
    {
     "data": {
      "text/plain": [
       "0.013207547169811321"
      ]
     },
     "execution_count": 130,
     "metadata": {},
     "output_type": "execute_result"
    }
   ],
   "source": [
    "characters.is_grandpa.sum() / (characters.gender=='M').sum()"
   ]
  },
  {
   "cell_type": "markdown",
   "metadata": {},
   "source": [
    "#### Speech stats for interview:"
   ]
  },
  {
   "cell_type": "code",
   "execution_count": 131,
   "metadata": {},
   "outputs": [],
   "source": [
    "spoken_word_count = {\n",
    "    G: sum([len(text.split()) for text in speakers[speakers.gender_speaker==G].spoken_words_only])\n",
    "    for G in ['F', 'M', 'NGS']\n",
    "}\n"
   ]
  },
  {
   "cell_type": "code",
   "execution_count": 132,
   "metadata": {},
   "outputs": [],
   "source": [
    "received_word_count = {\n",
    "    G: sum([len(text.split()) for text in speakers[speakers.gender_recipient==G].spoken_words_only])\n",
    "    for G in ['F', 'M', 'NGS']\n",
    "}\n"
   ]
  },
  {
   "cell_type": "code",
   "execution_count": 133,
   "metadata": {},
   "outputs": [
    {
     "data": {
      "text/plain": [
       "{'F': 7816, 'M': 16450, 'NGS': 8060}"
      ]
     },
     "execution_count": 133,
     "metadata": {},
     "output_type": "execute_result"
    }
   ],
   "source": [
    "spoken_word_count"
   ]
  },
  {
   "cell_type": "code",
   "execution_count": 134,
   "metadata": {},
   "outputs": [
    {
     "data": {
      "text/plain": [
       "{'F': 6575, 'M': 14844, 'NGS': 10581}"
      ]
     },
     "execution_count": 134,
     "metadata": {},
     "output_type": "execute_result"
    }
   ],
   "source": [
    "received_word_count"
   ]
  },
  {
   "cell_type": "code",
   "execution_count": 135,
   "metadata": {},
   "outputs": [
    {
     "data": {
      "text/plain": [
       "103"
      ]
     },
     "execution_count": 135,
     "metadata": {},
     "output_type": "execute_result"
    }
   ],
   "source": [
    "len(speakers[speakers.gender_recipient=='F'].book.unique())"
   ]
  },
  {
   "cell_type": "code",
   "execution_count": 136,
   "metadata": {},
   "outputs": [],
   "source": [
    "speaker_book_count = {\n",
    "    G: len(speakers[\n",
    "        (speakers.gender_speaker==G)*(speakers.gender_recipient==G)\n",
    "    ].book.unique())\n",
    "    for G in ['F', 'M', 'NGS']\n",
    "}\n"
   ]
  },
  {
   "cell_type": "code",
   "execution_count": 137,
   "metadata": {},
   "outputs": [
    {
     "data": {
      "text/plain": [
       "{'F': 33, 'M': 97, 'NGS': 51}"
      ]
     },
     "execution_count": 137,
     "metadata": {},
     "output_type": "execute_result"
    }
   ],
   "source": [
    "speaker_book_count"
   ]
  },
  {
   "cell_type": "code",
   "execution_count": 138,
   "metadata": {},
   "outputs": [],
   "source": [
    "received_book_count = {\n",
    "    G: len(speakers[speakers.gender_recipient==G].book.unique())\n",
    "    for G in ['F', 'M', 'NGS']\n",
    "}\n"
   ]
  },
  {
   "cell_type": "code",
   "execution_count": 139,
   "metadata": {},
   "outputs": [
    {
     "data": {
      "text/plain": [
       "{'F': 103, 'M': 147, 'NGS': 123}"
      ]
     },
     "execution_count": 139,
     "metadata": {},
     "output_type": "execute_result"
    }
   ],
   "source": [
    "received_book_count"
   ]
  },
  {
   "cell_type": "code",
   "execution_count": 140,
   "metadata": {},
   "outputs": [],
   "source": [
    "speech_book_count = len(speakers.book.unique())"
   ]
  },
  {
   "cell_type": "code",
   "execution_count": 141,
   "metadata": {},
   "outputs": [
    {
     "data": {
      "text/plain": [
       "177"
      ]
     },
     "execution_count": 141,
     "metadata": {},
     "output_type": "execute_result"
    }
   ],
   "source": [
    "speech_book_count"
   ]
  },
  {
   "cell_type": "code",
   "execution_count": 142,
   "metadata": {},
   "outputs": [
    {
     "data": {
      "text/html": [
       "<div>\n",
       "<style scoped>\n",
       "    .dataframe tbody tr th:only-of-type {\n",
       "        vertical-align: middle;\n",
       "    }\n",
       "\n",
       "    .dataframe tbody tr th {\n",
       "        vertical-align: top;\n",
       "    }\n",
       "\n",
       "    .dataframe thead th {\n",
       "        text-align: right;\n",
       "    }\n",
       "</style>\n",
       "<table border=\"1\" class=\"dataframe\">\n",
       "  <thead>\n",
       "    <tr style=\"text-align: right;\">\n",
       "      <th></th>\n",
       "      <th>book</th>\n",
       "      <th>name</th>\n",
       "      <th>gender</th>\n",
       "      <th>human</th>\n",
       "      <th>alias_count</th>\n",
       "      <th>is_protagonist</th>\n",
       "      <th>is_mum</th>\n",
       "      <th>is_dad</th>\n",
       "      <th>is_granny</th>\n",
       "      <th>is_grandpa</th>\n",
       "    </tr>\n",
       "    <tr>\n",
       "      <th>index</th>\n",
       "      <th></th>\n",
       "      <th></th>\n",
       "      <th></th>\n",
       "      <th></th>\n",
       "      <th></th>\n",
       "      <th></th>\n",
       "      <th></th>\n",
       "      <th></th>\n",
       "      <th></th>\n",
       "      <th></th>\n",
       "    </tr>\n",
       "  </thead>\n",
       "  <tbody>\n",
       "    <tr>\n",
       "      <th>126</th>\n",
       "      <td>Boogie Bear</td>\n",
       "      <td>the biggest furriest one</td>\n",
       "      <td>F</td>\n",
       "      <td>NH</td>\n",
       "      <td>4</td>\n",
       "      <td>1</td>\n",
       "      <td>False</td>\n",
       "      <td>False</td>\n",
       "      <td>False</td>\n",
       "      <td>False</td>\n",
       "    </tr>\n",
       "    <tr>\n",
       "      <th>986</th>\n",
       "      <td>Boogie Bear</td>\n",
       "      <td>the little one</td>\n",
       "      <td>M</td>\n",
       "      <td>NH</td>\n",
       "      <td>2</td>\n",
       "      <td>0</td>\n",
       "      <td>False</td>\n",
       "      <td>False</td>\n",
       "      <td>False</td>\n",
       "      <td>False</td>\n",
       "    </tr>\n",
       "    <tr>\n",
       "      <th>987</th>\n",
       "      <td>Boogie Bear</td>\n",
       "      <td>the one with the  floppy ears</td>\n",
       "      <td>M</td>\n",
       "      <td>NH</td>\n",
       "      <td>1</td>\n",
       "      <td>0</td>\n",
       "      <td>False</td>\n",
       "      <td>False</td>\n",
       "      <td>False</td>\n",
       "      <td>False</td>\n",
       "    </tr>\n",
       "    <tr>\n",
       "      <th>988</th>\n",
       "      <td>Boogie Bear</td>\n",
       "      <td>cubs</td>\n",
       "      <td>NGS</td>\n",
       "      <td>NH</td>\n",
       "      <td>0</td>\n",
       "      <td>0</td>\n",
       "      <td>False</td>\n",
       "      <td>False</td>\n",
       "      <td>False</td>\n",
       "      <td>False</td>\n",
       "    </tr>\n",
       "    <tr>\n",
       "      <th>989</th>\n",
       "      <td>Boogie Bear</td>\n",
       "      <td>the one with the biggest,wettest nose</td>\n",
       "      <td>NGS</td>\n",
       "      <td>NH</td>\n",
       "      <td>0</td>\n",
       "      <td>0</td>\n",
       "      <td>False</td>\n",
       "      <td>False</td>\n",
       "      <td>False</td>\n",
       "      <td>False</td>\n",
       "    </tr>\n",
       "    <tr>\n",
       "      <th>990</th>\n",
       "      <td>Boogie Bear</td>\n",
       "      <td>the big one</td>\n",
       "      <td>NGS</td>\n",
       "      <td>NH</td>\n",
       "      <td>0</td>\n",
       "      <td>0</td>\n",
       "      <td>False</td>\n",
       "      <td>False</td>\n",
       "      <td>False</td>\n",
       "      <td>False</td>\n",
       "    </tr>\n",
       "    <tr>\n",
       "      <th>991</th>\n",
       "      <td>Boogie Bear</td>\n",
       "      <td>birds</td>\n",
       "      <td>NGS</td>\n",
       "      <td>NH</td>\n",
       "      <td>0</td>\n",
       "      <td>0</td>\n",
       "      <td>False</td>\n",
       "      <td>False</td>\n",
       "      <td>False</td>\n",
       "      <td>False</td>\n",
       "    </tr>\n",
       "    <tr>\n",
       "      <th>992</th>\n",
       "      <td>Boogie Bear</td>\n",
       "      <td>butterflies</td>\n",
       "      <td>NGS</td>\n",
       "      <td>NH</td>\n",
       "      <td>0</td>\n",
       "      <td>0</td>\n",
       "      <td>False</td>\n",
       "      <td>False</td>\n",
       "      <td>False</td>\n",
       "      <td>False</td>\n",
       "    </tr>\n",
       "    <tr>\n",
       "      <th>993</th>\n",
       "      <td>Boogie Bear</td>\n",
       "      <td>fish</td>\n",
       "      <td>NGS</td>\n",
       "      <td>NH</td>\n",
       "      <td>0</td>\n",
       "      <td>0</td>\n",
       "      <td>False</td>\n",
       "      <td>False</td>\n",
       "      <td>False</td>\n",
       "      <td>False</td>\n",
       "    </tr>\n",
       "  </tbody>\n",
       "</table>\n",
       "</div>"
      ],
      "text/plain": [
       "              book                                   name gender human  \\\n",
       "index                                                                    \n",
       "126    Boogie Bear               the biggest furriest one      F    NH   \n",
       "986    Boogie Bear                         the little one      M    NH   \n",
       "987    Boogie Bear          the one with the  floppy ears      M    NH   \n",
       "988    Boogie Bear                                   cubs    NGS    NH   \n",
       "989    Boogie Bear  the one with the biggest,wettest nose    NGS    NH   \n",
       "990    Boogie Bear                            the big one    NGS    NH   \n",
       "991    Boogie Bear                                  birds    NGS    NH   \n",
       "992    Boogie Bear                            butterflies    NGS    NH   \n",
       "993    Boogie Bear                                   fish    NGS    NH   \n",
       "\n",
       "       alias_count  is_protagonist  is_mum  is_dad  is_granny  is_grandpa  \n",
       "index                                                                      \n",
       "126              4               1   False   False      False       False  \n",
       "986              2               0   False   False      False       False  \n",
       "987              1               0   False   False      False       False  \n",
       "988              0               0   False   False      False       False  \n",
       "989              0               0   False   False      False       False  \n",
       "990              0               0   False   False      False       False  \n",
       "991              0               0   False   False      False       False  \n",
       "992              0               0   False   False      False       False  \n",
       "993              0               0   False   False      False       False  "
      ]
     },
     "execution_count": 142,
     "metadata": {},
     "output_type": "execute_result"
    }
   ],
   "source": [
    "characters[characters.book == 'Boogie Bear']"
   ]
  },
  {
   "cell_type": "code",
   "execution_count": 143,
   "metadata": {},
   "outputs": [
    {
     "data": {
      "text/plain": [
       "177"
      ]
     },
     "execution_count": 143,
     "metadata": {},
     "output_type": "execute_result"
    }
   ],
   "source": [
    "speech_book_count"
   ]
  },
  {
   "cell_type": "code",
   "execution_count": 144,
   "metadata": {},
   "outputs": [
    {
     "data": {
      "text/plain": [
       "{'F': 7816, 'M': 16450, 'NGS': 8060}"
      ]
     },
     "execution_count": 144,
     "metadata": {},
     "output_type": "execute_result"
    }
   ],
   "source": [
    "spoken_word_count"
   ]
  },
  {
   "cell_type": "code",
   "execution_count": 145,
   "metadata": {},
   "outputs": [],
   "source": [
    "summary_speech = pd.DataFrame({\n",
    "    'gender': spoken_word_count.keys(),\n",
    "    'total_spoken_words': spoken_word_count.values(),\n",
    "    'proportion_speech': [v / sum(spoken_word_count.values()) for v in spoken_word_count.values()],\n",
    "    'words_spoken_per_character': [v / c for v,c in zip(spoken_word_count.values(), gender_count.values())],\n",
    "    'words_received_per_character': [v / c for v,c in zip(received_word_count.values(), gender_count.values())],\n",
    "    'bechdel_books': speaker_book_count.values(),\n",
    "    'bechdel_proportions': [v / speech_book_count for v in speaker_book_count.values()],\n",
    "    'total_received_words': received_word_count.values(),\n",
    "    'received_proportion_speech': [v / sum(received_word_count.values()) for v in received_word_count.values()],\n",
    "    \n",
    "#     'human proportions': [v / sum(characters.human=='H') for v in human_count.values()],\n",
    "#     'nonhuman characters': nonhuman_count.values(),\n",
    "#     'nonhuman proportions': [v / sum(characters.human=='NH') for v in nonhuman_count.values()],\n",
    "#     'protagonists': protagonist_count.values(),\n",
    "#     'protagonist proportions': [v / sum(characters.is_protagonist==1) for v in protagonist_count.values()],\n",
    "#     'secondaries': secondary_count.values(),\n",
    "#     'secondary proportions': [v / sum(characters.is_protagonist==0) for v in secondary_count.values()],\n",
    "})"
   ]
  },
  {
   "cell_type": "code",
   "execution_count": 146,
   "metadata": {},
   "outputs": [
    {
     "data": {
      "text/html": [
       "<div>\n",
       "<style scoped>\n",
       "    .dataframe tbody tr th:only-of-type {\n",
       "        vertical-align: middle;\n",
       "    }\n",
       "\n",
       "    .dataframe tbody tr th {\n",
       "        vertical-align: top;\n",
       "    }\n",
       "\n",
       "    .dataframe thead th {\n",
       "        text-align: right;\n",
       "    }\n",
       "</style>\n",
       "<table border=\"1\" class=\"dataframe\">\n",
       "  <thead>\n",
       "    <tr style=\"text-align: right;\">\n",
       "      <th></th>\n",
       "      <th>gender</th>\n",
       "      <th>total_spoken_words</th>\n",
       "      <th>proportion_speech</th>\n",
       "      <th>words_spoken_per_character</th>\n",
       "      <th>words_received_per_character</th>\n",
       "      <th>bechdel_books</th>\n",
       "      <th>bechdel_proportions</th>\n",
       "      <th>total_received_words</th>\n",
       "      <th>received_proportion_speech</th>\n",
       "    </tr>\n",
       "  </thead>\n",
       "  <tbody>\n",
       "    <tr>\n",
       "      <th>0</th>\n",
       "      <td>F</td>\n",
       "      <td>7816</td>\n",
       "      <td>0.241787</td>\n",
       "      <td>23.684848</td>\n",
       "      <td>19.924242</td>\n",
       "      <td>33</td>\n",
       "      <td>0.186441</td>\n",
       "      <td>6575</td>\n",
       "      <td>0.205469</td>\n",
       "    </tr>\n",
       "    <tr>\n",
       "      <th>1</th>\n",
       "      <td>M</td>\n",
       "      <td>16450</td>\n",
       "      <td>0.508878</td>\n",
       "      <td>31.037736</td>\n",
       "      <td>28.007547</td>\n",
       "      <td>97</td>\n",
       "      <td>0.548023</td>\n",
       "      <td>14844</td>\n",
       "      <td>0.463875</td>\n",
       "    </tr>\n",
       "    <tr>\n",
       "      <th>2</th>\n",
       "      <td>NGS</td>\n",
       "      <td>8060</td>\n",
       "      <td>0.249335</td>\n",
       "      <td>13.410982</td>\n",
       "      <td>17.605657</td>\n",
       "      <td>51</td>\n",
       "      <td>0.288136</td>\n",
       "      <td>10581</td>\n",
       "      <td>0.330656</td>\n",
       "    </tr>\n",
       "  </tbody>\n",
       "</table>\n",
       "</div>"
      ],
      "text/plain": [
       "  gender  total_spoken_words  proportion_speech  words_spoken_per_character  \\\n",
       "0      F                7816           0.241787                   23.684848   \n",
       "1      M               16450           0.508878                   31.037736   \n",
       "2    NGS                8060           0.249335                   13.410982   \n",
       "\n",
       "   words_received_per_character  bechdel_books  bechdel_proportions  \\\n",
       "0                     19.924242             33             0.186441   \n",
       "1                     28.007547             97             0.548023   \n",
       "2                     17.605657             51             0.288136   \n",
       "\n",
       "   total_received_words  received_proportion_speech  \n",
       "0                  6575                    0.205469  \n",
       "1                 14844                    0.463875  \n",
       "2                 10581                    0.330656  "
      ]
     },
     "execution_count": 146,
     "metadata": {},
     "output_type": "execute_result"
    }
   ],
   "source": [
    "summary_speech"
   ]
  },
  {
   "cell_type": "code",
   "execution_count": 147,
   "metadata": {},
   "outputs": [
    {
     "data": {
      "text/plain": [
       "0.7741935483870968"
      ]
     },
     "execution_count": 147,
     "metadata": {},
     "output_type": "execute_result"
    }
   ],
   "source": [
    "24/31"
   ]
  },
  {
   "cell_type": "code",
   "execution_count": 148,
   "metadata": {},
   "outputs": [
    {
     "data": {
      "text/plain": [
       "666"
      ]
     },
     "execution_count": 148,
     "metadata": {},
     "output_type": "execute_result"
    }
   ],
   "source": [
    "(speakers.gender_speaker=='NGS').sum()"
   ]
  },
  {
   "cell_type": "code",
   "execution_count": 149,
   "metadata": {},
   "outputs": [
    {
     "data": {
      "text/plain": [
       "55.49579831932773"
      ]
     },
     "execution_count": 149,
     "metadata": {},
     "output_type": "execute_result"
    }
   ],
   "source": [
    "speakers[speakers.gender_speaker=='F'].spoken_word_count.mean()"
   ]
  },
  {
   "cell_type": "code",
   "execution_count": 150,
   "metadata": {},
   "outputs": [
    {
     "data": {
      "text/plain": [
       "56.83020134228188"
      ]
     },
     "execution_count": 150,
     "metadata": {},
     "output_type": "execute_result"
    }
   ],
   "source": [
    "speakers[speakers.gender_speaker=='M'].spoken_word_count.mean()"
   ]
  },
  {
   "cell_type": "code",
   "execution_count": 151,
   "metadata": {},
   "outputs": [
    {
     "data": {
      "text/plain": [
       "63.18168168168168"
      ]
     },
     "execution_count": 151,
     "metadata": {},
     "output_type": "execute_result"
    }
   ],
   "source": [
    "speakers[speakers.gender_speaker=='NGS'].spoken_word_count.mean()"
   ]
  },
  {
   "cell_type": "code",
   "execution_count": 152,
   "metadata": {},
   "outputs": [
    {
     "data": {
      "text/html": [
       "<div>\n",
       "<style scoped>\n",
       "    .dataframe tbody tr th:only-of-type {\n",
       "        vertical-align: middle;\n",
       "    }\n",
       "\n",
       "    .dataframe tbody tr th {\n",
       "        vertical-align: top;\n",
       "    }\n",
       "\n",
       "    .dataframe thead th {\n",
       "        text-align: right;\n",
       "    }\n",
       "</style>\n",
       "<table border=\"1\" class=\"dataframe\">\n",
       "  <thead>\n",
       "    <tr style=\"text-align: right;\">\n",
       "      <th></th>\n",
       "      <th></th>\n",
       "      <th>spoken_word_count</th>\n",
       "      <th>gender_speaker</th>\n",
       "    </tr>\n",
       "    <tr>\n",
       "      <th>book</th>\n",
       "      <th>speaker</th>\n",
       "      <th></th>\n",
       "      <th></th>\n",
       "    </tr>\n",
       "  </thead>\n",
       "  <tbody>\n",
       "    <tr>\n",
       "      <th>A Letter to Santa</th>\n",
       "      <th>Santa</th>\n",
       "      <td>20</td>\n",
       "      <td>M</td>\n",
       "    </tr>\n",
       "    <tr>\n",
       "      <th rowspan=\"2\" valign=\"top\">A Squash and a Squeeze</th>\n",
       "      <th>little old lady</th>\n",
       "      <td>1488</td>\n",
       "      <td>F</td>\n",
       "    </tr>\n",
       "    <tr>\n",
       "      <th>wise old man</th>\n",
       "      <td>87</td>\n",
       "      <td>M</td>\n",
       "    </tr>\n",
       "    <tr>\n",
       "      <th rowspan=\"2\" valign=\"top\">A Thing Called Snow</th>\n",
       "      <th>Bear</th>\n",
       "      <td>87</td>\n",
       "      <td>NGS</td>\n",
       "    </tr>\n",
       "    <tr>\n",
       "      <th>Caribou</th>\n",
       "      <td>81</td>\n",
       "      <td>NGS</td>\n",
       "    </tr>\n",
       "    <tr>\n",
       "      <th>...</th>\n",
       "      <th>...</th>\n",
       "      <td>...</td>\n",
       "      <td>...</td>\n",
       "    </tr>\n",
       "    <tr>\n",
       "      <th rowspan=\"5\" valign=\"top\">Zog and the Flying Doctors</th>\n",
       "      <th>Zog</th>\n",
       "      <td>30</td>\n",
       "      <td>M</td>\n",
       "    </tr>\n",
       "    <tr>\n",
       "      <th>king</th>\n",
       "      <td>370</td>\n",
       "      <td>M</td>\n",
       "    </tr>\n",
       "    <tr>\n",
       "      <th>knight</th>\n",
       "      <td>18</td>\n",
       "      <td>M</td>\n",
       "    </tr>\n",
       "    <tr>\n",
       "      <th>mermaid</th>\n",
       "      <td>36</td>\n",
       "      <td>F</td>\n",
       "    </tr>\n",
       "    <tr>\n",
       "      <th>unicorn</th>\n",
       "      <td>60</td>\n",
       "      <td>M</td>\n",
       "    </tr>\n",
       "  </tbody>\n",
       "</table>\n",
       "<p>894 rows × 2 columns</p>\n",
       "</div>"
      ],
      "text/plain": [
       "                                            spoken_word_count gender_speaker\n",
       "book                       speaker                                          \n",
       "A Letter to Santa          Santa                           20              M\n",
       "A Squash and a Squeeze     little old lady               1488              F\n",
       "                           wise old man                    87              M\n",
       "A Thing Called Snow        Bear                            87            NGS\n",
       "                           Caribou                         81            NGS\n",
       "...                                                       ...            ...\n",
       "Zog and the Flying Doctors Zog                             30              M\n",
       "                           king                           370              M\n",
       "                           knight                          18              M\n",
       "                           mermaid                         36              F\n",
       "                           unicorn                         60              M\n",
       "\n",
       "[894 rows x 2 columns]"
      ]
     },
     "execution_count": 152,
     "metadata": {},
     "output_type": "execute_result"
    }
   ],
   "source": [
    "words_by_speaker = speakers.groupby(['book', 'speaker']).agg({'spoken_word_count': sum, 'gender_speaker': min})\n",
    "words_by_speaker"
   ]
  },
  {
   "cell_type": "code",
   "execution_count": 153,
   "metadata": {},
   "outputs": [
    {
     "data": {
      "text/plain": [
       "178.48648648648648"
      ]
     },
     "execution_count": 153,
     "metadata": {},
     "output_type": "execute_result"
    }
   ],
   "source": [
    "(words_by_speaker[words_by_speaker.gender_speaker=='F'].spoken_word_count).mean()"
   ]
  },
  {
   "cell_type": "code",
   "execution_count": 154,
   "metadata": {},
   "outputs": [
    {
     "data": {
      "text/plain": [
       "243.32471264367817"
      ]
     },
     "execution_count": 154,
     "metadata": {},
     "output_type": "execute_result"
    }
   ],
   "source": [
    "(words_by_speaker[words_by_speaker.gender_speaker=='M'].spoken_word_count).mean()"
   ]
  },
  {
   "cell_type": "code",
   "execution_count": 155,
   "metadata": {},
   "outputs": [
    {
     "data": {
      "text/plain": [
       "142.6406779661017"
      ]
     },
     "execution_count": 155,
     "metadata": {},
     "output_type": "execute_result"
    }
   ],
   "source": [
    "(words_by_speaker[words_by_speaker.gender_speaker=='NGS'].spoken_word_count).mean()"
   ]
  },
  {
   "cell_type": "code",
   "execution_count": 156,
   "metadata": {},
   "outputs": [
    {
     "data": {
      "text/plain": [
       "<matplotlib.legend.Legend at 0x7fa960cc98d0>"
      ]
     },
     "execution_count": 156,
     "metadata": {},
     "output_type": "execute_result"
    },
    {
     "data": {
      "image/png": "[encoded data removed]",
      "text/plain": [
       "<Figure size 640x480 with 1 Axes>"
      ]
     },
     "metadata": {},
     "output_type": "display_data"
    }
   ],
   "source": [
    "plt.hist(words_by_speaker[words_by_speaker.gender_speaker=='NGS'].spoken_word_count, bins=20, label='NGS', alpha=0.2)\n",
    "plt.hist(words_by_speaker[words_by_speaker.gender_speaker=='M'].spoken_word_count, bins=20, label='M', alpha=0.2)\n",
    "plt.hist(words_by_speaker[words_by_speaker.gender_speaker=='F'].spoken_word_count, bins=20, label='F', alpha=0.2)\n",
    "\n",
    "plt.legend()\n",
    "# plt.hist(speakers[speakers.gender_speaker=='NGS'].spoken_word_count, bins=20)\n",
    "# plt.hist(speakers[speakers.gender_speaker=='M'].spoken_word_count, bins=20)\n",
    "# plt.hist(speakers[speakers.gender_speaker=='F'].spoken_word_count, bins=20)\n"
   ]
  },
  {
   "cell_type": "code",
   "execution_count": 157,
   "metadata": {},
   "outputs": [
    {
     "data": {
      "image/png": "[encoded data removed]",
      "text/plain": [
       "<Figure size 640x480 with 1 Axes>"
      ]
     },
     "metadata": {},
     "output_type": "display_data"
    }
   ],
   "source": [
    "# plt.boxplot(\n",
    "#     [\n",
    "#         speakers[speakers.gender_speaker=='F'].spoken_word_count,\n",
    "#         speakers[speakers.gender_speaker=='M'].spoken_word_count,\n",
    "#         speakers[speakers.gender_speaker=='NGS'].spoken_word_count\n",
    "#     ],\n",
    "#     showmeans=True\n",
    "# );\n",
    "plt.boxplot(\n",
    "    [\n",
    "        words_by_speaker[words_by_speaker.gender_speaker=='F'].spoken_word_count,\n",
    "        words_by_speaker[words_by_speaker.gender_speaker=='M'].spoken_word_count,\n",
    "        words_by_speaker[words_by_speaker.gender_speaker=='NGS'].spoken_word_count\n",
    "    ],\n",
    "    showmeans=True\n",
    ");\n",
    "plt.axhline(243)\n",
    "plt.yscale('log')"
   ]
  },
  {
   "cell_type": "code",
   "execution_count": 158,
   "metadata": {},
   "outputs": [],
   "source": [
    "# gr = speakers.groupby(['book', 'name_speaker', 'gender_speaker']).sum()\n",
    "# gr"
   ]
  },
  {
   "cell_type": "code",
   "execution_count": 159,
   "metadata": {},
   "outputs": [],
   "source": [
    "# plt.boxplot(\n",
    "#     [\n",
    "#         gr.loc[:,:,'F'].spoken_word_count,\n",
    "#         gr.loc[:,:,'M'].spoken_word_count,\n",
    "#         gr.loc[:,:,'NGS'].spoken_word_count,\n",
    "#     ]\n",
    "# );\n",
    "# plt.yscale('log')\n",
    "# plt.xticks(['F', 'M', 'NGS'])"
   ]
  },
  {
   "cell_type": "markdown",
   "metadata": {},
   "source": [
    "### More Bechdel:"
   ]
  },
  {
   "cell_type": "code",
   "execution_count": 160,
   "metadata": {},
   "outputs": [
    {
     "data": {
      "text/html": [
       "<div>\n",
       "<style scoped>\n",
       "    .dataframe tbody tr th:only-of-type {\n",
       "        vertical-align: middle;\n",
       "    }\n",
       "\n",
       "    .dataframe tbody tr th {\n",
       "        vertical-align: top;\n",
       "    }\n",
       "\n",
       "    .dataframe thead th {\n",
       "        text-align: right;\n",
       "    }\n",
       "</style>\n",
       "<table border=\"1\" class=\"dataframe\">\n",
       "  <thead>\n",
       "    <tr style=\"text-align: right;\">\n",
       "      <th></th>\n",
       "      <th>book</th>\n",
       "      <th>name</th>\n",
       "      <th>gender</th>\n",
       "      <th>human</th>\n",
       "      <th>alias_count</th>\n",
       "      <th>is_protagonist</th>\n",
       "      <th>is_mum</th>\n",
       "      <th>is_dad</th>\n",
       "      <th>is_granny</th>\n",
       "      <th>is_grandpa</th>\n",
       "      <th>spoken_word_count</th>\n",
       "    </tr>\n",
       "  </thead>\n",
       "  <tbody>\n",
       "    <tr>\n",
       "      <th>0</th>\n",
       "      <td>Owl Babies</td>\n",
       "      <td>Sarah</td>\n",
       "      <td>F</td>\n",
       "      <td>NH</td>\n",
       "      <td>0</td>\n",
       "      <td>1</td>\n",
       "      <td>False</td>\n",
       "      <td>False</td>\n",
       "      <td>False</td>\n",
       "      <td>False</td>\n",
       "      <td>172.0</td>\n",
       "    </tr>\n",
       "    <tr>\n",
       "      <th>1</th>\n",
       "      <td>Owl Babies</td>\n",
       "      <td>Percy</td>\n",
       "      <td>M</td>\n",
       "      <td>NH</td>\n",
       "      <td>0</td>\n",
       "      <td>1</td>\n",
       "      <td>False</td>\n",
       "      <td>False</td>\n",
       "      <td>False</td>\n",
       "      <td>False</td>\n",
       "      <td>88.0</td>\n",
       "    </tr>\n",
       "    <tr>\n",
       "      <th>2</th>\n",
       "      <td>Owl Babies</td>\n",
       "      <td>Bill</td>\n",
       "      <td>M</td>\n",
       "      <td>NH</td>\n",
       "      <td>0</td>\n",
       "      <td>1</td>\n",
       "      <td>False</td>\n",
       "      <td>False</td>\n",
       "      <td>False</td>\n",
       "      <td>False</td>\n",
       "      <td>96.0</td>\n",
       "    </tr>\n",
       "    <tr>\n",
       "      <th>3</th>\n",
       "      <td>Where's My Teddy</td>\n",
       "      <td>Eddy</td>\n",
       "      <td>M</td>\n",
       "      <td>H</td>\n",
       "      <td>0</td>\n",
       "      <td>1</td>\n",
       "      <td>False</td>\n",
       "      <td>False</td>\n",
       "      <td>False</td>\n",
       "      <td>False</td>\n",
       "      <td>215.0</td>\n",
       "    </tr>\n",
       "    <tr>\n",
       "      <th>4</th>\n",
       "      <td>We're Going on a Bear Hunt</td>\n",
       "      <td>we</td>\n",
       "      <td>NGS</td>\n",
       "      <td>H</td>\n",
       "      <td>0</td>\n",
       "      <td>1</td>\n",
       "      <td>False</td>\n",
       "      <td>False</td>\n",
       "      <td>False</td>\n",
       "      <td>False</td>\n",
       "      <td>NaN</td>\n",
       "    </tr>\n",
       "    <tr>\n",
       "      <th>...</th>\n",
       "      <td>...</td>\n",
       "      <td>...</td>\n",
       "      <td>...</td>\n",
       "      <td>...</td>\n",
       "      <td>...</td>\n",
       "      <td>...</td>\n",
       "      <td>...</td>\n",
       "      <td>...</td>\n",
       "      <td>...</td>\n",
       "      <td>...</td>\n",
       "      <td>...</td>\n",
       "    </tr>\n",
       "    <tr>\n",
       "      <th>1456</th>\n",
       "      <td>Jack and the Beanstalk</td>\n",
       "      <td>mother</td>\n",
       "      <td>F</td>\n",
       "      <td>H</td>\n",
       "      <td>0</td>\n",
       "      <td>0</td>\n",
       "      <td>True</td>\n",
       "      <td>False</td>\n",
       "      <td>False</td>\n",
       "      <td>False</td>\n",
       "      <td>84.0</td>\n",
       "    </tr>\n",
       "    <tr>\n",
       "      <th>1457</th>\n",
       "      <td>Jack and the Beanstalk</td>\n",
       "      <td>old man</td>\n",
       "      <td>M</td>\n",
       "      <td>H</td>\n",
       "      <td>0</td>\n",
       "      <td>0</td>\n",
       "      <td>False</td>\n",
       "      <td>False</td>\n",
       "      <td>False</td>\n",
       "      <td>False</td>\n",
       "      <td>216.0</td>\n",
       "    </tr>\n",
       "    <tr>\n",
       "      <th>1458</th>\n",
       "      <td>Jack and the Beanstalk</td>\n",
       "      <td>goose</td>\n",
       "      <td>F</td>\n",
       "      <td>NH</td>\n",
       "      <td>0</td>\n",
       "      <td>0</td>\n",
       "      <td>False</td>\n",
       "      <td>False</td>\n",
       "      <td>False</td>\n",
       "      <td>False</td>\n",
       "      <td>136.0</td>\n",
       "    </tr>\n",
       "    <tr>\n",
       "      <th>1459</th>\n",
       "      <td>Jack and the Beanstalk</td>\n",
       "      <td>giant</td>\n",
       "      <td>M</td>\n",
       "      <td>NH</td>\n",
       "      <td>0</td>\n",
       "      <td>0</td>\n",
       "      <td>False</td>\n",
       "      <td>False</td>\n",
       "      <td>False</td>\n",
       "      <td>False</td>\n",
       "      <td>154.0</td>\n",
       "    </tr>\n",
       "    <tr>\n",
       "      <th>1460</th>\n",
       "      <td>The Three Little Pigs</td>\n",
       "      <td>Wolf</td>\n",
       "      <td>M</td>\n",
       "      <td>NH</td>\n",
       "      <td>0</td>\n",
       "      <td>0</td>\n",
       "      <td>False</td>\n",
       "      <td>False</td>\n",
       "      <td>False</td>\n",
       "      <td>False</td>\n",
       "      <td>356.0</td>\n",
       "    </tr>\n",
       "  </tbody>\n",
       "</table>\n",
       "<p>1461 rows × 11 columns</p>\n",
       "</div>"
      ],
      "text/plain": [
       "                            book     name gender human  alias_count  \\\n",
       "0                     Owl Babies    Sarah      F    NH            0   \n",
       "1                     Owl Babies    Percy      M    NH            0   \n",
       "2                     Owl Babies     Bill      M    NH            0   \n",
       "3               Where's My Teddy     Eddy      M     H            0   \n",
       "4     We're Going on a Bear Hunt       we    NGS     H            0   \n",
       "...                          ...      ...    ...   ...          ...   \n",
       "1456      Jack and the Beanstalk   mother      F     H            0   \n",
       "1457      Jack and the Beanstalk  old man      M     H            0   \n",
       "1458      Jack and the Beanstalk    goose      F    NH            0   \n",
       "1459      Jack and the Beanstalk    giant      M    NH            0   \n",
       "1460       The Three Little Pigs     Wolf      M    NH            0   \n",
       "\n",
       "      is_protagonist  is_mum  is_dad  is_granny  is_grandpa  spoken_word_count  \n",
       "0                  1   False   False      False       False              172.0  \n",
       "1                  1   False   False      False       False               88.0  \n",
       "2                  1   False   False      False       False               96.0  \n",
       "3                  1   False   False      False       False              215.0  \n",
       "4                  1   False   False      False       False                NaN  \n",
       "...              ...     ...     ...        ...         ...                ...  \n",
       "1456               0    True   False      False       False               84.0  \n",
       "1457               0   False   False      False       False              216.0  \n",
       "1458               0   False   False      False       False              136.0  \n",
       "1459               0   False   False      False       False              154.0  \n",
       "1460               0   False   False      False       False              356.0  \n",
       "\n",
       "[1461 rows x 11 columns]"
      ]
     },
     "execution_count": 160,
     "metadata": {},
     "output_type": "execute_result"
    }
   ],
   "source": [
    "_char_merge = characters.merge(\n",
    "    speakers.groupby(['book', 'speaker_matched']).agg({'spoken_word_count':sum}).reset_index().rename(columns={'speaker_matched':'name'}),\n",
    "    on=['book', 'name'],\n",
    "    how='left'\n",
    ")\n",
    "_char_merge"
   ]
  },
  {
   "cell_type": "code",
   "execution_count": 161,
   "metadata": {},
   "outputs": [
    {
     "data": {
      "text/plain": [
       "130"
      ]
     },
     "execution_count": 161,
     "metadata": {},
     "output_type": "execute_result"
    }
   ],
   "source": [
    "_char_merge[_char_merge.gender=='F'].spoken_word_count.isna().sum()"
   ]
  },
  {
   "cell_type": "code",
   "execution_count": 162,
   "metadata": {},
   "outputs": [
    {
     "data": {
      "text/plain": [
       "214"
      ]
     },
     "execution_count": 162,
     "metadata": {},
     "output_type": "execute_result"
    }
   ],
   "source": [
    "_char_merge[_char_merge.gender=='M'].spoken_word_count.isna().sum()"
   ]
  },
  {
   "cell_type": "code",
   "execution_count": 163,
   "metadata": {},
   "outputs": [
    {
     "data": {
      "text/plain": [
       "396"
      ]
     },
     "execution_count": 163,
     "metadata": {},
     "output_type": "execute_result"
    }
   ],
   "source": [
    "_char_merge[_char_merge.gender=='NGS'].spoken_word_count.isna().sum()"
   ]
  },
  {
   "cell_type": "code",
   "execution_count": 164,
   "metadata": {},
   "outputs": [],
   "source": [
    "MS = speakers.spoken_word_count.max()"
   ]
  },
  {
   "cell_type": "code",
   "execution_count": 165,
   "metadata": {},
   "outputs": [
    {
     "data": {
      "text/plain": [
       "2360"
      ]
     },
     "execution_count": 165,
     "metadata": {},
     "output_type": "execute_result"
    }
   ],
   "source": [
    "MS"
   ]
  },
  {
   "cell_type": "code",
   "execution_count": 166,
   "metadata": {},
   "outputs": [],
   "source": [
    "_thresh = []\n",
    "_f_books = []\n",
    "_m_books = []\n",
    "_ngs_books = []\n",
    "\n",
    "for threshold in range(0,MS,10):\n",
    "    _thresh.append(threshold)\n",
    "    _speakers = speakers[speakers.spoken_word_count>threshold]\n",
    "    _f_books.append(\n",
    "        len(_speakers[\n",
    "            (_speakers.gender_speaker=='F')*(_speakers.gender_recipient=='F')\n",
    "        ].book.unique())\n",
    "    )\n",
    "    _m_books.append(\n",
    "        len(_speakers[\n",
    "            (_speakers.gender_speaker=='M')*(_speakers.gender_recipient=='M')\n",
    "        ].book.unique())\n",
    "    )\n",
    "    _ngs_books.append(\n",
    "        len(_speakers[\n",
    "            (_speakers.gender_speaker=='NGS')*(_speakers.gender_recipient=='NGS')\n",
    "        ].book.unique())\n",
    "    )"
   ]
  },
  {
   "cell_type": "code",
   "execution_count": 167,
   "metadata": {},
   "outputs": [
    {
     "data": {
      "text/plain": [
       "Text(0, 0.5, 'proportion of speech-containing books')"
      ]
     },
     "execution_count": 167,
     "metadata": {},
     "output_type": "execute_result"
    },
    {
     "data": {
      "image/png": "[encoded data removed]",
      "text/plain": [
       "<Figure size 640x480 with 1 Axes>"
      ]
     },
     "metadata": {},
     "output_type": "display_data"
    }
   ],
   "source": [
    "plt.plot(_thresh, [f/speech_book_count for f in _f_books], label='F-to-F')\n",
    "plt.plot(_thresh, [f/speech_book_count for f in _m_books], label='M-to-M')\n",
    "plt.plot(_thresh, [f/speech_book_count for f in _ngs_books], label='NGS-to-NGS')\n",
    "plt.legend()\n",
    "plt.xscale('log')\n",
    "plt.xlabel('speech section length threshold')\n",
    "plt.ylabel('proportion of speech-containing books')"
   ]
  },
  {
   "cell_type": "code",
   "execution_count": 168,
   "metadata": {},
   "outputs": [
    {
     "data": {
      "image/png": "[encoded data removed]",
      "text/plain": [
       "<Figure size 640x480 with 1 Axes>"
      ]
     },
     "metadata": {},
     "output_type": "display_data"
    }
   ],
   "source": [
    "bplot = plt.boxplot(\n",
    "    [\n",
    "        speakers[\n",
    "            (speakers.gender_speaker=='F')*(speakers.gender_recipient=='F')\n",
    "        ].groupby('book').agg({'spoken_word_count': max}).spoken_word_count,\n",
    "        speakers[\n",
    "            (speakers.gender_speaker=='M')*(speakers.gender_recipient=='M')\n",
    "        ].groupby('book').agg({'spoken_word_count': max}).spoken_word_count,\n",
    "        speakers[\n",
    "            (speakers.gender_speaker=='NGS')*(speakers.gender_recipient=='NGS')\n",
    "        ].groupby('book').agg({'spoken_word_count': max}).spoken_word_count\n",
    "    ],\n",
    "    showmeans=False,\n",
    "    vert=False,\n",
    "    patch_artist=True\n",
    ");\n",
    "\n",
    "colours = ['blue', 'orange', 'green']\n",
    "for patch, color in zip(bplot['boxes'], colours):\n",
    "    patch.set_facecolor(color)\n",
    "    \n",
    "plt.yticks([1,2,3], ['F-to-F', 'M-to-M', 'NGS-to-NGS'])\n",
    "plt.xscale('log')"
   ]
  },
  {
   "cell_type": "code",
   "execution_count": 169,
   "metadata": {},
   "outputs": [
    {
     "data": {
      "text/plain": [
       "0.022598870056497175"
      ]
     },
     "execution_count": 169,
     "metadata": {},
     "output_type": "execute_result"
    }
   ],
   "source": [
    "[f/speech_book_count for f in _f_books][10]"
   ]
  },
  {
   "cell_type": "code",
   "execution_count": 170,
   "metadata": {},
   "outputs": [
    {
     "data": {
      "text/plain": [
       "0.22598870056497175"
      ]
     },
     "execution_count": 170,
     "metadata": {},
     "output_type": "execute_result"
    }
   ],
   "source": [
    "[f/speech_book_count for f in _m_books][10]"
   ]
  },
  {
   "cell_type": "code",
   "execution_count": 171,
   "metadata": {},
   "outputs": [
    {
     "data": {
      "text/plain": [
       "10"
      ]
     },
     "execution_count": 171,
     "metadata": {},
     "output_type": "execute_result"
    }
   ],
   "source": [
    "_thresh.index(100)"
   ]
  },
  {
   "cell_type": "code",
   "execution_count": 185,
   "metadata": {},
   "outputs": [
    {
     "data": {
      "image/png": "[encoded data removed]",
      "text/plain": [
       "<Figure size 640x480 with 2 Axes>"
      ]
     },
     "metadata": {},
     "output_type": "display_data"
    }
   ],
   "source": [
    "ax1 = plt.subplot(2,1,1)\n",
    "plt.plot(_thresh, [f/speech_book_count for f in _f_books], label='F-to-F', linestyle='-')\n",
    "plt.plot(_thresh, [f/speech_book_count for f in _m_books], label='M-to-M', linestyle=':')\n",
    "plt.plot(_thresh, [f/speech_book_count for f in _ngs_books], label='I-to-I', linestyle='--')\n",
    "plt.plot(_thresh, [0 for f in _ngs_books], label='NBT-to-NBT', linestyle='-.')\n",
    "plt.legend()\n",
    "plt.xscale('log')\n",
    "plt.xlabel('speech section length threshold')\n",
    "plt.ylabel('fraction of books')\n",
    "\n",
    "ax2 = plt.subplot(2,1,2, sharex=ax1)\n",
    "bplot = plt.boxplot(\n",
    "    [\n",
    "        speakers[\n",
    "            (speakers.gender_speaker=='F')*(speakers.gender_recipient=='F')\n",
    "        ].groupby('book').agg({'spoken_word_count': max}).spoken_word_count,\n",
    "        speakers[\n",
    "            (speakers.gender_speaker=='M')*(speakers.gender_recipient=='M')\n",
    "        ].groupby('book').agg({'spoken_word_count': max}).spoken_word_count,\n",
    "        speakers[\n",
    "            (speakers.gender_speaker=='NGS')*(speakers.gender_recipient=='NGS')\n",
    "        ].groupby('book').agg({'spoken_word_count': max}).spoken_word_count,\n",
    "        [0]\n",
    "    ],\n",
    "    showmeans=False,\n",
    "    vert=False,\n",
    "    patch_artist=True\n",
    ");\n",
    "\n",
    "colours = ['blue', 'orange', 'green']\n",
    "hatching = ['/', '.', '*']\n",
    "for patch, color in zip(bplot['boxes'], colours):\n",
    "    patch.set_facecolor(color)\n",
    "    patch.set_alpha(0.6)\n",
    "# for patch, hatch in zip(bplot['boxes'], hatching):\n",
    "#     patch.set_hatch(hatch)\n",
    "# #     h.set_hatch_linewidth(2)\n",
    "    \n",
    "plt.yticks([1,2,3,4], ['F-to-F', 'M-to-M', 'I-to-I', 'NBT-to-NBT'])\n",
    "plt.xscale('log')\n",
    "plt.xlabel('speech section length')\n",
    "plt.tight_layout()\n",
    "plt.savefig(\"bechdel_chapter_fig.png\")"
   ]
  },
  {
   "cell_type": "code",
   "execution_count": 202,
   "metadata": {},
   "outputs": [
    {
     "data": {
      "text/plain": [
       "Text(0.5, 0, 'speech section length')"
      ]
     },
     "execution_count": 202,
     "metadata": {},
     "output_type": "execute_result"
    },
    {
     "data": {
      "image/png": "[encoded data removed]",
      "text/plain": [
       "<Figure size 640x480 with 2 Axes>"
      ]
     },
     "metadata": {},
     "output_type": "display_data"
    }
   ],
   "source": [
    "ax1 = plt.subplot(2,1,1)\n",
    "plt.plot(_thresh, [f/speech_book_count for f in _f_books], label='F-to-F')\n",
    "plt.plot(_thresh, [f/speech_book_count for f in _m_books], label='M-to-M')\n",
    "plt.plot(_thresh, [f/speech_book_count for f in _ngs_books], label='NGS-to-NGS')\n",
    "plt.legend()\n",
    "plt.xscale('log')\n",
    "plt.xlabel('speech section length threshold')\n",
    "plt.ylabel('fraction of books')\n",
    "\n",
    "ax2 = plt.subplot(2,1,2, sharex=ax1)\n",
    "bplot = plt.boxplot(\n",
    "    [\n",
    "        speakers[\n",
    "            (speakers.gender_speaker=='F')*(speakers.gender_recipient=='F')\n",
    "        ].groupby('book').agg({'spoken_word_count': max}).spoken_word_count,\n",
    "        speakers[\n",
    "            (speakers.gender_speaker=='M')*(speakers.gender_recipient=='M')\n",
    "        ].groupby('book').agg({'spoken_word_count': max}).spoken_word_count,\n",
    "        speakers[\n",
    "            (speakers.gender_speaker=='NGS')*(speakers.gender_recipient=='NGS')\n",
    "        ].groupby('book').agg({'spoken_word_count': max}).spoken_word_count\n",
    "    ],\n",
    "    showmeans=False,\n",
    "    vert=False,\n",
    "    patch_artist=True\n",
    ");\n",
    "\n",
    "colours = ['blue', 'orange', 'green']\n",
    "for patch, color in zip(bplot['boxes'], colours):\n",
    "    patch.set_facecolor(color)\n",
    "    \n",
    "plt.yticks([1,2,3], ['F-to-F', 'M-to-M', 'NGS-to-NGS'])\n",
    "plt.xscale('log')\n",
    "plt.xlabel('speech section length')"
   ]
  },
  {
   "cell_type": "code",
   "execution_count": null,
   "metadata": {},
   "outputs": [],
   "source": [
    "ax1 = plt.subplot(2,1,1)\n",
    "plt.plot(_thresh, [f/speech_book_count for f in _f_books], label='F-to-F', linestyle='-', color='k')\n",
    "plt.plot(_thresh, [f/speech_book_count for f in _m_books], label='M-to-M', linestyle=':', color='k')\n",
    "plt.plot(_thresh, [f/speech_book_count for f in _ngs_books], label='I-to-I', linestyle='--', color='k')\n",
    "plt.plot(_thresh, [0 for f in _ngs_books], label='NBT-to-NBT', linestyle='-.', color='k')\n",
    "plt.legend()\n",
    "plt.xscale('log')\n",
    "# plt.xlabel('speech section length threshold')\n",
    "plt.ylabel('fraction of books')\n",
    "\n",
    "ax2 = plt.subplot(2,1,2, sharex=ax1)\n",
    "bplot = plt.boxplot(\n",
    "    [\n",
    "        speakers[\n",
    "            (speakers.gender_speaker=='F')*(speakers.gender_recipient=='F')\n",
    "        ].groupby('book').agg({'spoken_word_count': max}).spoken_word_count,\n",
    "        speakers[\n",
    "            (speakers.gender_speaker=='M')*(speakers.gender_recipient=='M')\n",
    "        ].groupby('book').agg({'spoken_word_count': max}).spoken_word_count,\n",
    "        speakers[\n",
    "            (speakers.gender_speaker=='NGS')*(speakers.gender_recipient=='NGS')\n",
    "        ].groupby('book').agg({'spoken_word_count': max}).spoken_word_count,\n",
    "        [0]\n",
    "    ],\n",
    "    showmeans=False,\n",
    "    vert=False,\n",
    "    patch_artist=True\n",
    ");\n",
    "for median in bplot['medians']:\n",
    "    median.set_color('black')\n",
    "# colours = ['blue', 'orange', 'green']\n",
    "colours = ['white' for i in range(3)]\n",
    "hatching = ['/', '.', '*']\n",
    "for patch, color in zip(bplot['boxes'], colours):\n",
    "    patch.set_facecolor(color)\n",
    "    patch.set_alpha(0.6)\n",
    "# for patch, hatch in zip(bplot['boxes'], hatching):\n",
    "#     patch.set_hatch(hatch)\n",
    "# #     h.set_hatch_linewidth(2)\n",
    "    \n",
    "plt.yticks([1,2,3,4], ['F-to-F', 'M-to-M', 'I-to-I', 'NBT-to-NBT'])\n",
    "plt.xscale('log')\n",
    "plt.xlabel('speech length length')\n",
    "plt.tight_layout()\n",
    "plt.savefig(\"bechdel_chapter_fig.png\")"
   ]
  },
  {
   "cell_type": "code",
   "execution_count": 65,
   "metadata": {},
   "outputs": [
    {
     "data": {
      "image/png": "[encoded data removed]",
      "text/plain": [
       "<Figure size 750x450 with 1 Axes>"
      ]
     },
     "metadata": {},
     "output_type": "display_data"
    }
   ],
   "source": [
    "plt.rcParams[\"figure.figsize\"] = [7.50, 4.50]\n",
    "plt.rcParams[\"figure.autolayout\"] = True\n",
    "\n",
    "gender = ['Female', 'Male', 'NGS', 'Transgender']\n",
    "human_protagonists = summary_character['human protagonists']\n",
    "nonhuman_protagonists = summary_character['nonhuman protagonists']\n",
    "human_secondaries = summary_character['human secondaries']\n",
    "nonhuman_secondaries = summary_character['nonhuman secondaries']\n",
    "\n",
    "\n",
    "b1 = plt.barh(gender, human_protagonists, color=\"salmon\")\n",
    "b2 = plt.barh(gender, nonhuman_protagonists, left=human_protagonists, color=\"grey\")\n",
    "b3 = plt.barh(gender, human_secondaries, left=human_protagonists + nonhuman_protagonists, color=\"gold\")\n",
    "b4 = plt.barh(gender, nonhuman_secondaries, left=human_protagonists + nonhuman_protagonists + human_secondaries, color=\"powderblue\")\n",
    "\n",
    "\n",
    "plt.legend([b1, b2, b3, b4], [\"Human protagonists\", \"Nonhuman protagonists\", \"Human secondaries\", \"Nonhuman secondaries\", ])#, title=\"Characters\")#, loc=\"upper right\")\n",
    "plt.xlabel('number of characters')\n",
    "plt.tight_layout()\n",
    "plt.show()"
   ]
  },
  {
   "cell_type": "code",
   "execution_count": 1,
   "metadata": {},
   "outputs": [
    {
     "ename": "NameError",
     "evalue": "name 'human_protagonists' is not defined",
     "output_type": "error",
     "traceback": [
      "\u001b[0;31m---------------------------------------------------------------------------\u001b[0m",
      "\u001b[0;31mNameError\u001b[0m                                 Traceback (most recent call last)",
      "\u001b[0;32m/tmp/ipykernel_27160/1653549350.py\u001b[0m in \u001b[0;36m<module>\u001b[0;34m\u001b[0m\n\u001b[1;32m      1\u001b[0m \u001b[0mcolours\u001b[0m \u001b[0;34m=\u001b[0m \u001b[0;34m[\u001b[0m\u001b[0;34m'salmon'\u001b[0m\u001b[0;34m,\u001b[0m \u001b[0;34m'grey'\u001b[0m\u001b[0;34m,\u001b[0m \u001b[0;34m'gold'\u001b[0m\u001b[0;34m,\u001b[0m \u001b[0;34m'powderblue'\u001b[0m\u001b[0;34m]\u001b[0m\u001b[0;34m\u001b[0m\u001b[0;34m\u001b[0m\u001b[0m\n\u001b[0;32m----> 2\u001b[0;31m \u001b[0mdata\u001b[0m \u001b[0;34m=\u001b[0m \u001b[0;34m[\u001b[0m\u001b[0mhuman_protagonists\u001b[0m\u001b[0;34m,\u001b[0m \u001b[0mnonhuman_protagonists\u001b[0m\u001b[0;34m,\u001b[0m \u001b[0mhuman_secondaries\u001b[0m\u001b[0;34m,\u001b[0m \u001b[0mnonhuman_secondaries\u001b[0m\u001b[0;34m]\u001b[0m\u001b[0;34m\u001b[0m\u001b[0;34m\u001b[0m\u001b[0m\n\u001b[0m\u001b[1;32m      3\u001b[0m \u001b[0mlabels\u001b[0m \u001b[0;34m=\u001b[0m \u001b[0;34m[\u001b[0m\u001b[0;34m\"Human protagonists\"\u001b[0m\u001b[0;34m,\u001b[0m \u001b[0;34m\"Nonhuman protagonists\"\u001b[0m\u001b[0;34m,\u001b[0m \u001b[0;34m\"Human secondaries\"\u001b[0m\u001b[0;34m,\u001b[0m \u001b[0;34m\"Nonhuman secondaries\"\u001b[0m\u001b[0;34m]\u001b[0m\u001b[0;34m\u001b[0m\u001b[0;34m\u001b[0m\u001b[0m\n\u001b[1;32m      4\u001b[0m \u001b[0;32mfor\u001b[0m \u001b[0mi\u001b[0m \u001b[0;32min\u001b[0m \u001b[0mrange\u001b[0m\u001b[0;34m(\u001b[0m\u001b[0;36m4\u001b[0m\u001b[0;34m)\u001b[0m\u001b[0;34m:\u001b[0m\u001b[0;34m\u001b[0m\u001b[0;34m\u001b[0m\u001b[0m\n\u001b[1;32m      5\u001b[0m     \u001b[0mplt\u001b[0m\u001b[0;34m.\u001b[0m\u001b[0msubplot\u001b[0m\u001b[0;34m(\u001b[0m\u001b[0;36m2\u001b[0m\u001b[0;34m,\u001b[0m \u001b[0;36m2\u001b[0m\u001b[0;34m,\u001b[0m \u001b[0mi\u001b[0m\u001b[0;34m+\u001b[0m \u001b[0;36m1\u001b[0m\u001b[0;34m)\u001b[0m\u001b[0;34m\u001b[0m\u001b[0;34m\u001b[0m\u001b[0m\n",
      "\u001b[0;31mNameError\u001b[0m: name 'human_protagonists' is not defined"
     ]
    }
   ],
   "source": [
    "colours = ['salmon', 'grey', 'gold', 'powderblue']\n",
    "data = [human_protagonists, nonhuman_protagonists, human_secondaries, nonhuman_secondaries]\n",
    "labels = [\"Human protagonists\", \"Nonhuman protagonists\", \"Human secondaries\", \"Nonhuman secondaries\"]\n",
    "for i in range(4):\n",
    "    plt.subplot(2, 2, i+ 1)\n",
    "    plt.barh(gender, data[i], color=colours[i])\n",
    "    \n",
    "    if i > 1:\n",
    "        plt.xlabel('number of characters')\n",
    "    plt.title(labels[i])\n",
    "    plt.tight_layout()"
   ]
  },
  {
   "cell_type": "code",
   "execution_count": 76,
   "metadata": {},
   "outputs": [
    {
     "data": {
      "text/html": [
       "<div>\n",
       "<style scoped>\n",
       "    .dataframe tbody tr th:only-of-type {\n",
       "        vertical-align: middle;\n",
       "    }\n",
       "\n",
       "    .dataframe tbody tr th {\n",
       "        vertical-align: top;\n",
       "    }\n",
       "\n",
       "    .dataframe thead th {\n",
       "        text-align: right;\n",
       "    }\n",
       "</style>\n",
       "<table border=\"1\" class=\"dataframe\">\n",
       "  <thead>\n",
       "    <tr style=\"text-align: right;\">\n",
       "      <th></th>\n",
       "      <th>book</th>\n",
       "      <th>speech_section_id</th>\n",
       "      <th>speaker</th>\n",
       "      <th>recipient</th>\n",
       "      <th>speaker_matched</th>\n",
       "      <th>recipient_matched</th>\n",
       "      <th>speech_text</th>\n",
       "      <th>spoken_words_only</th>\n",
       "      <th>spoken_word_count</th>\n",
       "      <th>chunk_titles</th>\n",
       "      <th>...</th>\n",
       "      <th>human_recipient</th>\n",
       "      <th>alias_count_recipient</th>\n",
       "      <th>speaker_is_mum</th>\n",
       "      <th>speaker_is_dad</th>\n",
       "      <th>speaker_is_granny</th>\n",
       "      <th>speaker_is_grandpa</th>\n",
       "      <th>recipient_is_mum</th>\n",
       "      <th>recipient_is_dad</th>\n",
       "      <th>recipient_is_granny</th>\n",
       "      <th>recipient_is_grandpa</th>\n",
       "    </tr>\n",
       "  </thead>\n",
       "  <tbody>\n",
       "    <tr>\n",
       "      <th>0</th>\n",
       "      <td>The Night Before Christmas</td>\n",
       "      <td>0</td>\n",
       "      <td>St. Nicholas</td>\n",
       "      <td>Reindeer</td>\n",
       "      <td>St. Nicholas</td>\n",
       "      <td>Reindeer</td>\n",
       "      <td>\"Now, Dasher! now, Dancer!\\nnow, Prancer and V...</td>\n",
       "      <td>Now, Dasher! now, Dancer! now, Prancer and Vix...</td>\n",
       "      <td>183</td>\n",
       "      <td>The Night Before Christmas</td>\n",
       "      <td>...</td>\n",
       "      <td>NH</td>\n",
       "      <td>0.0</td>\n",
       "      <td>False</td>\n",
       "      <td>False</td>\n",
       "      <td>False</td>\n",
       "      <td>False</td>\n",
       "      <td>False</td>\n",
       "      <td>False</td>\n",
       "      <td>False</td>\n",
       "      <td>False</td>\n",
       "    </tr>\n",
       "    <tr>\n",
       "      <th>1</th>\n",
       "      <td>The Night Before Christmas</td>\n",
       "      <td>1</td>\n",
       "      <td>St. Nicholas</td>\n",
       "      <td>Everyone</td>\n",
       "      <td>St. Nicholas</td>\n",
       "      <td>Everyone</td>\n",
       "      <td>\"Happy\\nChristmas to all, and to all a good\\nn...</td>\n",
       "      <td>Happy Christmas to all, and to all a good night!</td>\n",
       "      <td>48</td>\n",
       "      <td>The Night Before Christmas</td>\n",
       "      <td>...</td>\n",
       "      <td>H</td>\n",
       "      <td>0.0</td>\n",
       "      <td>False</td>\n",
       "      <td>False</td>\n",
       "      <td>False</td>\n",
       "      <td>False</td>\n",
       "      <td>False</td>\n",
       "      <td>False</td>\n",
       "      <td>False</td>\n",
       "      <td>False</td>\n",
       "    </tr>\n",
       "    <tr>\n",
       "      <th>2</th>\n",
       "      <td>Sugarlump and the Unicorn</td>\n",
       "      <td>0</td>\n",
       "      <td>Sugarlump</td>\n",
       "      <td>himself</td>\n",
       "      <td>Sugarlump</td>\n",
       "      <td>Sugarlump</td>\n",
       "      <td>\"Here in the children's bedroom\\nIs where I wa...</td>\n",
       "      <td>Here in the children's bedroom Is where I want...</td>\n",
       "      <td>106</td>\n",
       "      <td>Sugarlump and the Unicorn</td>\n",
       "      <td>...</td>\n",
       "      <td>NH</td>\n",
       "      <td>0.0</td>\n",
       "      <td>False</td>\n",
       "      <td>False</td>\n",
       "      <td>False</td>\n",
       "      <td>False</td>\n",
       "      <td>False</td>\n",
       "      <td>False</td>\n",
       "      <td>False</td>\n",
       "      <td>False</td>\n",
       "    </tr>\n",
       "    <tr>\n",
       "      <th>3</th>\n",
       "      <td>Sugarlump and the Unicorn</td>\n",
       "      <td>1</td>\n",
       "      <td>Sugarlump</td>\n",
       "      <td>himself</td>\n",
       "      <td>Sugarlump</td>\n",
       "      <td>Sugarlump</td>\n",
       "      <td>\"Oh to be out in the big wide world!\\nI wish I...</td>\n",
       "      <td>Oh to be out in the big wide world! I wish I c...</td>\n",
       "      <td>56</td>\n",
       "      <td>Sugarlump and the Unicorn</td>\n",
       "      <td>...</td>\n",
       "      <td>NH</td>\n",
       "      <td>0.0</td>\n",
       "      <td>False</td>\n",
       "      <td>False</td>\n",
       "      <td>False</td>\n",
       "      <td>False</td>\n",
       "      <td>False</td>\n",
       "      <td>False</td>\n",
       "      <td>False</td>\n",
       "      <td>False</td>\n",
       "    </tr>\n",
       "    <tr>\n",
       "      <th>4</th>\n",
       "      <td>Sugarlump and the Unicorn</td>\n",
       "      <td>2</td>\n",
       "      <td>unicorn</td>\n",
       "      <td>Sugarlump</td>\n",
       "      <td>unicorn</td>\n",
       "      <td>Sugarlump</td>\n",
       "      <td>\"Done!\" came a voice, and there stood a beast\\...</td>\n",
       "      <td>Done! I can grant horses' wishes.</td>\n",
       "      <td>33</td>\n",
       "      <td>Sugarlump and the Unicorn</td>\n",
       "      <td>...</td>\n",
       "      <td>NH</td>\n",
       "      <td>0.0</td>\n",
       "      <td>False</td>\n",
       "      <td>False</td>\n",
       "      <td>False</td>\n",
       "      <td>False</td>\n",
       "      <td>False</td>\n",
       "      <td>False</td>\n",
       "      <td>False</td>\n",
       "      <td>False</td>\n",
       "    </tr>\n",
       "    <tr>\n",
       "      <th>...</th>\n",
       "      <td>...</td>\n",
       "      <td>...</td>\n",
       "      <td>...</td>\n",
       "      <td>...</td>\n",
       "      <td>...</td>\n",
       "      <td>...</td>\n",
       "      <td>...</td>\n",
       "      <td>...</td>\n",
       "      <td>...</td>\n",
       "      <td>...</td>\n",
       "      <td>...</td>\n",
       "      <td>...</td>\n",
       "      <td>...</td>\n",
       "      <td>...</td>\n",
       "      <td>...</td>\n",
       "      <td>...</td>\n",
       "      <td>...</td>\n",
       "      <td>...</td>\n",
       "      <td>...</td>\n",
       "      <td>...</td>\n",
       "      <td>...</td>\n",
       "    </tr>\n",
       "    <tr>\n",
       "      <th>3908</th>\n",
       "      <td>How The Grinch Stole Christmas</td>\n",
       "      <td>4</td>\n",
       "      <td>Grinch</td>\n",
       "      <td>Himself</td>\n",
       "      <td>Grinch</td>\n",
       "      <td>Grinch</td>\n",
       "      <td>All I need is a reindeer...</td>\n",
       "      <td>All I need is a reindeer...</td>\n",
       "      <td>27</td>\n",
       "      <td>How The Grinch Stole Christmas</td>\n",
       "      <td>...</td>\n",
       "      <td>NH</td>\n",
       "      <td>0.0</td>\n",
       "      <td>False</td>\n",
       "      <td>False</td>\n",
       "      <td>False</td>\n",
       "      <td>False</td>\n",
       "      <td>False</td>\n",
       "      <td>False</td>\n",
       "      <td>False</td>\n",
       "      <td>False</td>\n",
       "    </tr>\n",
       "    <tr>\n",
       "      <th>3909</th>\n",
       "      <td>How The Grinch Stole Christmas</td>\n",
       "      <td>5</td>\n",
       "      <td>Grinch</td>\n",
       "      <td>Himself</td>\n",
       "      <td>Grinch</td>\n",
       "      <td>Grinch</td>\n",
       "      <td>If I can't find a reindeer, I'll make one inst...</td>\n",
       "      <td>If I can't find a reindeer, I'll make one inst...</td>\n",
       "      <td>50</td>\n",
       "      <td>How The Grinch Stole Christmas</td>\n",
       "      <td>...</td>\n",
       "      <td>NH</td>\n",
       "      <td>0.0</td>\n",
       "      <td>False</td>\n",
       "      <td>False</td>\n",
       "      <td>False</td>\n",
       "      <td>False</td>\n",
       "      <td>False</td>\n",
       "      <td>False</td>\n",
       "      <td>False</td>\n",
       "      <td>False</td>\n",
       "    </tr>\n",
       "    <tr>\n",
       "      <th>3910</th>\n",
       "      <td>How The Grinch Stole Christmas</td>\n",
       "      <td>6</td>\n",
       "      <td>Grinch</td>\n",
       "      <td>Max (the dog)</td>\n",
       "      <td>Grinch</td>\n",
       "      <td>Max</td>\n",
       "      <td>Giddap!</td>\n",
       "      <td>Giddap!</td>\n",
       "      <td>7</td>\n",
       "      <td>How The Grinch Stole Christmas</td>\n",
       "      <td>...</td>\n",
       "      <td>NH</td>\n",
       "      <td>0.0</td>\n",
       "      <td>False</td>\n",
       "      <td>False</td>\n",
       "      <td>False</td>\n",
       "      <td>False</td>\n",
       "      <td>False</td>\n",
       "      <td>False</td>\n",
       "      <td>False</td>\n",
       "      <td>False</td>\n",
       "    </tr>\n",
       "    <tr>\n",
       "      <th>3911</th>\n",
       "      <td>How The Grinch Stole Christmas</td>\n",
       "      <td>7</td>\n",
       "      <td>Grinch</td>\n",
       "      <td>Himself</td>\n",
       "      <td>Grinch</td>\n",
       "      <td>Grinch</td>\n",
       "      <td>This is stop number one, the old Grinchy Claus...</td>\n",
       "      <td>This is stop number one.</td>\n",
       "      <td>24</td>\n",
       "      <td>How The Grinch Stole Christmas</td>\n",
       "      <td>...</td>\n",
       "      <td>NH</td>\n",
       "      <td>0.0</td>\n",
       "      <td>False</td>\n",
       "      <td>False</td>\n",
       "      <td>False</td>\n",
       "      <td>False</td>\n",
       "      <td>False</td>\n",
       "      <td>False</td>\n",
       "      <td>False</td>\n",
       "      <td>False</td>\n",
       "    </tr>\n",
       "    <tr>\n",
       "      <th>3912</th>\n",
       "      <td>How The Grinch Stole Christmas</td>\n",
       "      <td>8</td>\n",
       "      <td>Grinch</td>\n",
       "      <td>Himself</td>\n",
       "      <td>Grinch</td>\n",
       "      <td>Grinch</td>\n",
       "      <td>These stockings, he grinned, are the first thi...</td>\n",
       "      <td>These stockings are the first things to go!</td>\n",
       "      <td>43</td>\n",
       "      <td>How The Grinch Stole Christmas</td>\n",
       "      <td>...</td>\n",
       "      <td>NH</td>\n",
       "      <td>0.0</td>\n",
       "      <td>False</td>\n",
       "      <td>False</td>\n",
       "      <td>False</td>\n",
       "      <td>False</td>\n",
       "      <td>False</td>\n",
       "      <td>False</td>\n",
       "      <td>False</td>\n",
       "      <td>False</td>\n",
       "    </tr>\n",
       "  </tbody>\n",
       "</table>\n",
       "<p>3913 rows × 27 columns</p>\n",
       "</div>"
      ],
      "text/plain": [
       "                                book  speech_section_id       speaker  \\\n",
       "0         The Night Before Christmas                  0  St. Nicholas   \n",
       "1         The Night Before Christmas                  1  St. Nicholas   \n",
       "2          Sugarlump and the Unicorn                  0     Sugarlump   \n",
       "3          Sugarlump and the Unicorn                  1     Sugarlump   \n",
       "4          Sugarlump and the Unicorn                  2       unicorn   \n",
       "...                              ...                ...           ...   \n",
       "3908  How The Grinch Stole Christmas                  4        Grinch   \n",
       "3909  How The Grinch Stole Christmas                  5        Grinch   \n",
       "3910  How The Grinch Stole Christmas                  6        Grinch   \n",
       "3911  How The Grinch Stole Christmas                  7        Grinch   \n",
       "3912  How The Grinch Stole Christmas                  8        Grinch   \n",
       "\n",
       "          recipient speaker_matched recipient_matched  \\\n",
       "0          Reindeer    St. Nicholas          Reindeer   \n",
       "1          Everyone    St. Nicholas          Everyone   \n",
       "2           himself       Sugarlump         Sugarlump   \n",
       "3           himself       Sugarlump         Sugarlump   \n",
       "4         Sugarlump         unicorn         Sugarlump   \n",
       "...             ...             ...               ...   \n",
       "3908        Himself          Grinch            Grinch   \n",
       "3909        Himself          Grinch            Grinch   \n",
       "3910  Max (the dog)          Grinch               Max   \n",
       "3911        Himself          Grinch            Grinch   \n",
       "3912        Himself          Grinch            Grinch   \n",
       "\n",
       "                                            speech_text  \\\n",
       "0     \"Now, Dasher! now, Dancer!\\nnow, Prancer and V...   \n",
       "1     \"Happy\\nChristmas to all, and to all a good\\nn...   \n",
       "2     \"Here in the children's bedroom\\nIs where I wa...   \n",
       "3     \"Oh to be out in the big wide world!\\nI wish I...   \n",
       "4     \"Done!\" came a voice, and there stood a beast\\...   \n",
       "...                                                 ...   \n",
       "3908                        All I need is a reindeer...   \n",
       "3909  If I can't find a reindeer, I'll make one inst...   \n",
       "3910                                            Giddap!   \n",
       "3911  This is stop number one, the old Grinchy Claus...   \n",
       "3912  These stockings, he grinned, are the first thi...   \n",
       "\n",
       "                                      spoken_words_only  spoken_word_count  \\\n",
       "0     Now, Dasher! now, Dancer! now, Prancer and Vix...                183   \n",
       "1      Happy Christmas to all, and to all a good night!                 48   \n",
       "2     Here in the children's bedroom Is where I want...                106   \n",
       "3     Oh to be out in the big wide world! I wish I c...                 56   \n",
       "4                     Done! I can grant horses' wishes.                 33   \n",
       "...                                                 ...                ...   \n",
       "3908                        All I need is a reindeer...                 27   \n",
       "3909  If I can't find a reindeer, I'll make one inst...                 50   \n",
       "3910                                            Giddap!                  7   \n",
       "3911                           This is stop number one.                 24   \n",
       "3912        These stockings are the first things to go!                 43   \n",
       "\n",
       "                        chunk_titles  ...  human_recipient  \\\n",
       "0         The Night Before Christmas  ...               NH   \n",
       "1         The Night Before Christmas  ...                H   \n",
       "2          Sugarlump and the Unicorn  ...               NH   \n",
       "3          Sugarlump and the Unicorn  ...               NH   \n",
       "4          Sugarlump and the Unicorn  ...               NH   \n",
       "...                              ...  ...              ...   \n",
       "3908  How The Grinch Stole Christmas  ...               NH   \n",
       "3909  How The Grinch Stole Christmas  ...               NH   \n",
       "3910  How The Grinch Stole Christmas  ...               NH   \n",
       "3911  How The Grinch Stole Christmas  ...               NH   \n",
       "3912  How The Grinch Stole Christmas  ...               NH   \n",
       "\n",
       "     alias_count_recipient speaker_is_mum speaker_is_dad  speaker_is_granny  \\\n",
       "0                      0.0          False          False              False   \n",
       "1                      0.0          False          False              False   \n",
       "2                      0.0          False          False              False   \n",
       "3                      0.0          False          False              False   \n",
       "4                      0.0          False          False              False   \n",
       "...                    ...            ...            ...                ...   \n",
       "3908                   0.0          False          False              False   \n",
       "3909                   0.0          False          False              False   \n",
       "3910                   0.0          False          False              False   \n",
       "3911                   0.0          False          False              False   \n",
       "3912                   0.0          False          False              False   \n",
       "\n",
       "     speaker_is_grandpa recipient_is_mum recipient_is_dad  \\\n",
       "0                 False            False            False   \n",
       "1                 False            False            False   \n",
       "2                 False            False            False   \n",
       "3                 False            False            False   \n",
       "4                 False            False            False   \n",
       "...                 ...              ...              ...   \n",
       "3908              False            False            False   \n",
       "3909              False            False            False   \n",
       "3910              False            False            False   \n",
       "3911              False            False            False   \n",
       "3912              False            False            False   \n",
       "\n",
       "      recipient_is_granny  recipient_is_grandpa  \n",
       "0                   False                 False  \n",
       "1                   False                 False  \n",
       "2                   False                 False  \n",
       "3                   False                 False  \n",
       "4                   False                 False  \n",
       "...                   ...                   ...  \n",
       "3908                False                 False  \n",
       "3909                False                 False  \n",
       "3910                False                 False  \n",
       "3911                False                 False  \n",
       "3912                False                 False  \n",
       "\n",
       "[3913 rows x 27 columns]"
      ]
     },
     "execution_count": 76,
     "metadata": {},
     "output_type": "execute_result"
    }
   ],
   "source": [
    "speakers"
   ]
  },
  {
   "cell_type": "code",
   "execution_count": null,
   "metadata": {},
   "outputs": [],
   "source": []
  },
  {
   "cell_type": "code",
   "execution_count": null,
   "metadata": {},
   "outputs": [],
   "source": []
  },
  {
   "cell_type": "code",
   "execution_count": 428,
   "metadata": {},
   "outputs": [
    {
     "data": {
      "text/plain": [
       "0.09888958726168029"
      ]
     },
     "execution_count": 428,
     "metadata": {},
     "output_type": "execute_result"
    }
   ],
   "source": [
    "speakers[speakers.speaker_is_mum].spoken_word_count.sum() / speakers[speakers.gender_speaker=='F'].spoken_word_count.sum()"
   ]
  },
  {
   "cell_type": "code",
   "execution_count": 429,
   "metadata": {},
   "outputs": [
    {
     "data": {
      "text/plain": [
       "0.0200529701097238"
      ]
     },
     "execution_count": 429,
     "metadata": {},
     "output_type": "execute_result"
    }
   ],
   "source": [
    "speakers[speakers.speaker_is_dad].spoken_word_count.sum() / speakers[speakers.gender_speaker=='M'].spoken_word_count.sum()"
   ]
  },
  {
   "cell_type": "markdown",
   "metadata": {},
   "source": [
    "\n",
    "#### Protagonists only:"
   ]
  },
  {
   "cell_type": "code",
   "execution_count": 62,
   "metadata": {},
   "outputs": [],
   "source": [
    "merged = speakers.merge(characters, how='left', left_on=['book', 'name_speaker'], right_on=['book', 'name'])"
   ]
  },
  {
   "cell_type": "code",
   "execution_count": 78,
   "metadata": {},
   "outputs": [],
   "source": [
    "merged = merged[merged.is_protagonist == 1]"
   ]
  },
  {
   "cell_type": "code",
   "execution_count": 79,
   "metadata": {},
   "outputs": [],
   "source": [
    "spoken_word_count = {\n",
    "    G: sum([len(text.split()) for text in merged[merged.gender_speaker==G].spoken_words_only])\n",
    "    for G in ['F', 'M', 'NGS']\n",
    "}\n"
   ]
  },
  {
   "cell_type": "code",
   "execution_count": 80,
   "metadata": {},
   "outputs": [],
   "source": [
    "received_word_count = {\n",
    "    G: sum([len(text.split()) for text in merged[merged.gender_recipient==G].spoken_words_only])\n",
    "    for G in ['F', 'M', 'NGS']\n",
    "}\n"
   ]
  },
  {
   "cell_type": "code",
   "execution_count": 81,
   "metadata": {},
   "outputs": [
    {
     "data": {
      "text/plain": [
       "{'F': 2335, 'M': 9874, 'NGS': 1134}"
      ]
     },
     "execution_count": 81,
     "metadata": {},
     "output_type": "execute_result"
    }
   ],
   "source": [
    "spoken_word_count"
   ]
  },
  {
   "cell_type": "code",
   "execution_count": 82,
   "metadata": {},
   "outputs": [
    {
     "data": {
      "text/plain": [
       "{'F': 3210, 'M': 5166, 'NGS': 4538}"
      ]
     },
     "execution_count": 82,
     "metadata": {},
     "output_type": "execute_result"
    }
   ],
   "source": [
    "received_word_count"
   ]
  },
  {
   "cell_type": "code",
   "execution_count": 83,
   "metadata": {},
   "outputs": [
    {
     "data": {
      "text/plain": [
       "77"
      ]
     },
     "execution_count": 83,
     "metadata": {},
     "output_type": "execute_result"
    }
   ],
   "source": [
    "len(merged[merged.gender_recipient=='F'].book.unique())"
   ]
  },
  {
   "cell_type": "code",
   "execution_count": 84,
   "metadata": {},
   "outputs": [],
   "source": [
    "speaker_book_count = {\n",
    "    G: len(merged[\n",
    "        (merged.gender_speaker==G)*(merged.gender_recipient==G)\n",
    "    ].book.unique())\n",
    "    for G in ['F', 'M', 'NGS']\n",
    "}\n"
   ]
  },
  {
   "cell_type": "code",
   "execution_count": 85,
   "metadata": {},
   "outputs": [
    {
     "data": {
      "text/plain": [
       "{'F': 18, 'M': 76, 'NGS': 7}"
      ]
     },
     "execution_count": 85,
     "metadata": {},
     "output_type": "execute_result"
    }
   ],
   "source": [
    "speaker_book_count"
   ]
  },
  {
   "cell_type": "code",
   "execution_count": 86,
   "metadata": {},
   "outputs": [],
   "source": [
    "received_book_count = {\n",
    "    G: len(merged[merged.gender_recipient==G].book.unique())\n",
    "    for G in ['F', 'M', 'NGS']\n",
    "}\n"
   ]
  },
  {
   "cell_type": "code",
   "execution_count": 87,
   "metadata": {},
   "outputs": [
    {
     "data": {
      "text/plain": [
       "{'F': 77, 'M': 100, 'NGS': 84}"
      ]
     },
     "execution_count": 87,
     "metadata": {},
     "output_type": "execute_result"
    }
   ],
   "source": [
    "received_book_count"
   ]
  },
  {
   "cell_type": "code",
   "execution_count": 88,
   "metadata": {},
   "outputs": [],
   "source": [
    "speech_book_count = len(merged.book.unique())"
   ]
  },
  {
   "cell_type": "code",
   "execution_count": 89,
   "metadata": {},
   "outputs": [
    {
     "data": {
      "text/plain": [
       "144"
      ]
     },
     "execution_count": 89,
     "metadata": {},
     "output_type": "execute_result"
    }
   ],
   "source": [
    "speech_book_count"
   ]
  },
  {
   "cell_type": "code",
   "execution_count": 90,
   "metadata": {},
   "outputs": [],
   "source": [
    "gender_count = {\n",
    "    G: sum([1 for g,p in zip(characters.gender, characters.is_protagonist) if g==G and p==1])\n",
    "    for G in ['F', 'M', 'NGS']\n",
    "}"
   ]
  },
  {
   "cell_type": "code",
   "execution_count": 91,
   "metadata": {},
   "outputs": [],
   "source": [
    "summary_speech = pd.DataFrame({\n",
    "    'gender': spoken_word_count.keys(),\n",
    "    'total_spoken_words': spoken_word_count.values(),\n",
    "    'proportion_speech': [v / sum(spoken_word_count.values()) for v in spoken_word_count.values()],\n",
    "    'words_spoken_per_character': [v / c for v,c in zip(spoken_word_count.values(), gender_count.values())],\n",
    "    'words_received_per_character': [v / c for v,c in zip(received_word_count.values(), gender_count.values())],\n",
    "    'bechdel_books': speaker_book_count.values(),\n",
    "    'bechdel_proportions': [v / speech_book_count for v in speaker_book_count.values()],\n",
    "    'total_received_words': received_word_count.values(),\n",
    "    'received_proportion_speech': [v / sum(received_word_count.values()) for v in received_word_count.values()],\n",
    "    \n",
    "#     'human proportions': [v / sum(characters.human=='H') for v in human_count.values()],\n",
    "#     'nonhuman characters': nonhuman_count.values(),\n",
    "#     'nonhuman proportions': [v / sum(characters.human=='NH') for v in nonhuman_count.values()],\n",
    "#     'protagonists': protagonist_count.values(),\n",
    "#     'protagonist proportions': [v / sum(characters.is_protagonist==1) for v in protagonist_count.values()],\n",
    "#     'secondaries': secondary_count.values(),\n",
    "#     'secondary proportions': [v / sum(characters.is_protagonist==0) for v in secondary_count.values()],\n",
    "})"
   ]
  },
  {
   "cell_type": "code",
   "execution_count": 92,
   "metadata": {},
   "outputs": [
    {
     "data": {
      "text/html": [
       "<div>\n",
       "<style scoped>\n",
       "    .dataframe tbody tr th:only-of-type {\n",
       "        vertical-align: middle;\n",
       "    }\n",
       "\n",
       "    .dataframe tbody tr th {\n",
       "        vertical-align: top;\n",
       "    }\n",
       "\n",
       "    .dataframe thead th {\n",
       "        text-align: right;\n",
       "    }\n",
       "</style>\n",
       "<table border=\"1\" class=\"dataframe\">\n",
       "  <thead>\n",
       "    <tr style=\"text-align: right;\">\n",
       "      <th></th>\n",
       "      <th>gender</th>\n",
       "      <th>total_spoken_words</th>\n",
       "      <th>proportion_speech</th>\n",
       "      <th>words_spoken_per_character</th>\n",
       "      <th>words_received_per_character</th>\n",
       "      <th>bechdel_books</th>\n",
       "      <th>bechdel_proportions</th>\n",
       "      <th>total_received_words</th>\n",
       "      <th>received_proportion_speech</th>\n",
       "    </tr>\n",
       "  </thead>\n",
       "  <tbody>\n",
       "    <tr>\n",
       "      <th>0</th>\n",
       "      <td>F</td>\n",
       "      <td>2335</td>\n",
       "      <td>0.174998</td>\n",
       "      <td>53.068182</td>\n",
       "      <td>72.954545</td>\n",
       "      <td>18</td>\n",
       "      <td>0.125000</td>\n",
       "      <td>3210</td>\n",
       "      <td>0.248567</td>\n",
       "    </tr>\n",
       "    <tr>\n",
       "      <th>1</th>\n",
       "      <td>M</td>\n",
       "      <td>9874</td>\n",
       "      <td>0.740013</td>\n",
       "      <td>69.535211</td>\n",
       "      <td>36.380282</td>\n",
       "      <td>76</td>\n",
       "      <td>0.527778</td>\n",
       "      <td>5166</td>\n",
       "      <td>0.400031</td>\n",
       "    </tr>\n",
       "    <tr>\n",
       "      <th>2</th>\n",
       "      <td>NGS</td>\n",
       "      <td>1134</td>\n",
       "      <td>0.084988</td>\n",
       "      <td>54.000000</td>\n",
       "      <td>216.095238</td>\n",
       "      <td>7</td>\n",
       "      <td>0.048611</td>\n",
       "      <td>4538</td>\n",
       "      <td>0.351402</td>\n",
       "    </tr>\n",
       "  </tbody>\n",
       "</table>\n",
       "</div>"
      ],
      "text/plain": [
       "  gender  total_spoken_words  proportion_speech  words_spoken_per_character  \\\n",
       "0      F                2335           0.174998                   53.068182   \n",
       "1      M                9874           0.740013                   69.535211   \n",
       "2    NGS                1134           0.084988                   54.000000   \n",
       "\n",
       "   words_received_per_character  bechdel_books  bechdel_proportions  \\\n",
       "0                     72.954545             18             0.125000   \n",
       "1                     36.380282             76             0.527778   \n",
       "2                    216.095238              7             0.048611   \n",
       "\n",
       "   total_received_words  received_proportion_speech  \n",
       "0                  3210                    0.248567  \n",
       "1                  5166                    0.400031  \n",
       "2                  4538                    0.351402  "
      ]
     },
     "execution_count": 92,
     "metadata": {},
     "output_type": "execute_result"
    }
   ],
   "source": [
    "summary_speech"
   ]
  },
  {
   "cell_type": "code",
   "execution_count": 629,
   "metadata": {},
   "outputs": [
    {
     "data": {
      "text/plain": [
       "{'F': 44, 'M': 142, 'NGS': 21}"
      ]
     },
     "execution_count": 629,
     "metadata": {},
     "output_type": "execute_result"
    }
   ],
   "source": [
    "gender_count[]"
   ]
  },
  {
   "cell_type": "code",
   "execution_count": 630,
   "metadata": {},
   "outputs": [
    {
     "data": {
      "text/plain": [
       "0.7058823529411765"
      ]
     },
     "execution_count": 630,
     "metadata": {},
     "output_type": "execute_result"
    }
   ],
   "source": [
    "60/85"
   ]
  },
  {
   "cell_type": "code",
   "execution_count": 93,
   "metadata": {},
   "outputs": [
    {
     "data": {
      "text/plain": [
       "0.762589928057554"
      ]
     },
     "execution_count": 93,
     "metadata": {},
     "output_type": "execute_result"
    }
   ],
   "source": [
    "53/69.5"
   ]
  },
  {
   "cell_type": "code",
   "execution_count": null,
   "metadata": {},
   "outputs": [],
   "source": []
  }
 ],
 "metadata": {
  "kernelspec": {
   "display_name": "newenv",
   "language": "python",
   "name": "newenv"
  },
  "language_info": {
   "codemirror_mode": {
    "name": "ipython",
    "version": 3
   },
   "file_extension": ".py",
   "mimetype": "text/x-python",
   "name": "python",
   "nbconvert_exporter": "python",
   "pygments_lexer": "ipython3",
   "version": "3.7.4"
  }
 },
 "nbformat": 4,
 "nbformat_minor": 4
}
